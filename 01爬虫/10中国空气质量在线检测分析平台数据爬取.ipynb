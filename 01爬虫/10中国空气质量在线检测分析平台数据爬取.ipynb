{
 "cells": [
  {
   "cell_type": "markdown",
   "metadata": {},
   "source": [
    "- https://www.aqistudy.cn/\n",
    "    - 1. 综合板块对应数据：将当前页面的搜索条件进行修改后，点击搜索按钮，才可以通过抓包工具捕获到Ajax请求的数据包，数据包提取出Ajax请求的url是：https://www.aqistudy.cn/apinew/aqistudyapi.php\n",
    "    - 2. Ajax请求的数据包中响应数据是动态变化的"
   ]
  }
 ],
 "metadata": {
  "kernelspec": {
   "display_name": "Python 3",
   "language": "python",
   "name": "python3"
  },
  "language_info": {
   "codemirror_mode": {
    "name": "ipython",
    "version": 3
   },
   "file_extension": ".py",
   "mimetype": "text/x-python",
   "name": "python",
   "nbconvert_exporter": "python",
   "pygments_lexer": "ipython3",
   "version": "3.8.5"
  }
 },
 "nbformat": 4,
 "nbformat_minor": 4
}
