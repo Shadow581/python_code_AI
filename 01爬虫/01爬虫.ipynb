{
 "cells": [
  {
   "cell_type": "markdown",
   "metadata": {},
   "source": [
    "- http:\n",
    "    - 概念：Clinet和Server进行数据交互的某种形式\n",
    "- 常用头信息：\n",
    "    - User-Agent：请求载体的身份标识\n",
    "    - Connection：\n",
    "    - content-type：响应类型\n",
    "- https:\n",
    "    - 概念：安全的http协议\n",
    "    - 证书\n",
    "        - 对称密钥加密\n",
    "        - 非对称密钥加密\n",
    "        - 证书密钥加密\n",
    "\n",
    "### 爬虫概述\n",
    "    \n",
    "- 爬虫概念\n",
    "    - 通过编写程序模拟浏览器上网，让其去互联网上爬取/抓取数据\n",
    "\n",
    "- 爬虫分类\n",
    "    - 通用爬虫：爬取一整张页面的数据，抓取系统（爬虫程序）\n",
    "    - 聚焦爬虫：爬取页面中局部数据，一定是建立在通用爬虫基础上\n",
    "    - 增量式爬虫：用来监测网站数据更新的情况，以便爬取到网站最新更新出的数据\n",
    "\n",
    "- 风险分析\n",
    "    - 合理地使用，毫无问题\n",
    "    \n",
    "    - 风险体现\n",
    "        - 爬虫干扰了被访问网站的正常运营\n",
    "        - 爬虫抓取到了受法律保护的特定类型的数据或信息\n",
    "        \n",
    "    - 避免风险\n",
    "        - 严格遵守网站设置的robots协议\n",
    "        - 在规避反爬虫措施的同时，需要优化自己代码，避免干扰被访问网站的正常运行\n",
    "        - 在使用、传播抓取到的信息时，应审查所抓取的内容，如发现属于用户个人信息、隐私或或者他人的商业秘密，应及时停止并删除\n",
    " \n",
    " - 反爬机制\n",
    " - 反反爬策略\n",
    " \n",
    " - robots.txt协议：文本协议，在文本中指定了可爬和不可爬的数据说明\n",
    " \n",
    " "
   ]
  },
  {
   "cell_type": "code",
   "execution_count": null,
   "metadata": {},
   "outputs": [],
   "source": []
  }
 ],
 "metadata": {
  "kernelspec": {
   "display_name": "Python 3 (ipykernel)",
   "language": "python",
   "name": "python3"
  },
  "language_info": {
   "codemirror_mode": {
    "name": "ipython",
    "version": 3
   },
   "file_extension": ".py",
   "mimetype": "text/x-python",
   "name": "python",
   "nbconvert_exporter": "python",
   "pygments_lexer": "ipython3",
   "version": "3.8.5"
  },
  "toc": {
   "base_numbering": 1,
   "nav_menu": {},
   "number_sections": true,
   "sideBar": true,
   "skip_h1_title": false,
   "title_cell": "Table of Contents",
   "title_sidebar": "Contents",
   "toc_cell": false,
   "toc_position": {},
   "toc_section_display": true,
   "toc_window_display": false
  }
 },
 "nbformat": 4,
 "nbformat_minor": 4
}
