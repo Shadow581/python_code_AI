{
 "cells": [
  {
   "cell_type": "markdown",
   "metadata": {},
   "source": [
    "### 验证码识别\n",
    "- 相关的线上打码平台识别\n",
    "    - 打码兔\n",
    "    - 云打码\n",
    "    - 超级鹰：http://www.chaojiying.com/about.html\n",
    "        - 1. 注册，登录\n",
    "        - 2. 创建一个软件：软件ID->生成一个软件ID：\t916676\n",
    "        - 3. 下载示例代码\n"
   ]
  },
  {
   "cell_type": "code",
   "execution_count": 2,
   "metadata": {},
   "outputs": [
    {
     "name": "stdout",
     "output_type": "stream",
     "text": [
      "7261\n"
     ]
    }
   ],
   "source": [
    "#!/usr/bin/env python\n",
    "# coding:utf-8\n",
    "\n",
    "import requests\n",
    "from hashlib import md5\n",
    "\n",
    "class Chaojiying_Client(object):\n",
    "\n",
    "    def __init__(self, username, password, soft_id):\n",
    "        self.username = username\n",
    "        password =  password.encode('utf8')\n",
    "        self.password = md5(password).hexdigest()\n",
    "        self.soft_id = soft_id\n",
    "        self.base_params = {\n",
    "            'user': self.username,\n",
    "            'pass2': self.password,\n",
    "            'softid': self.soft_id,\n",
    "        }\n",
    "        self.headers = {\n",
    "            'Connection': 'Keep-Alive',\n",
    "            'User-Agent': 'Mozilla/4.0 (compatible; MSIE 8.0; Windows NT 5.1; Trident/4.0)',\n",
    "        }\n",
    "\n",
    "    def PostPic(self, im, codetype):\n",
    "        \"\"\"\n",
    "        im: 图片字节\n",
    "        codetype: 题目类型 参考 http://www.chaojiying.com/price.html\n",
    "        \"\"\"\n",
    "        params = {\n",
    "            'codetype': codetype,\n",
    "        }\n",
    "        params.update(self.base_params)\n",
    "        files = {'userfile': ('ccc.jpg', im)}\n",
    "        r = requests.post('http://upload.chaojiying.net/Upload/Processing.php', data=params, files=files, headers=self.headers)\n",
    "        return r.json()\n",
    "\n",
    "    def ReportError(self, im_id):\n",
    "        \"\"\"\n",
    "        im_id:报错题目的图片ID\n",
    "        \"\"\"\n",
    "        params = {\n",
    "            'id': im_id,\n",
    "        }\n",
    "        params.update(self.base_params)\n",
    "        r = requests.post('http://upload.chaojiying.net/Upload/ReportError.php', data=params, headers=self.headers)\n",
    "        return r.json()\n",
    "\n",
    "\n",
    "if __name__ == '__main__':\n",
    "    chaojiying = Chaojiying_Client('15588545521', 'lovedc123', '916676')\t#用户中心>>软件ID 生成一个替换 96001\n",
    "    im = open('a.jpg', 'rb').read()\t\t\t\t\t\t\t\t\t\t\t\t\t#本地图片文件路径 来替换 a.jpg 有时WIN系统须要//\n",
    "    print(chaojiying.PostPic(im, 1004).get(\"pic_str\"))\t\t\t\t\t\t\t\t\t\t\t\t#1902 验证码类型  官方网站>>价格体系 3.4+版 print 后要加()\n",
    "\n"
   ]
  },
  {
   "cell_type": "markdown",
   "metadata": {},
   "source": [
    "- 将古诗文网中验证码图片进行识别：https://so.gushiwen.org/user/login.aspx?from=http://so.gushiwen.org/user/collect.aspx"
   ]
  },
  {
   "cell_type": "code",
   "execution_count": 18,
   "metadata": {},
   "outputs": [],
   "source": [
    "def discernVertiCode(imgPath,codeType):\n",
    "    chaojiying = Chaojiying_Client('15588545521', 'lovedc123', '916676') #用户中心>>软件ID 生成一个替换 96001\n",
    "    im = open(imgPath, 'rb').read() #本地图片文件路径 来替换 a.jpg 有时WIN系统须要//\n",
    "    return chaojiying.PostPic(im, codeType).get(\"pic_str\") #1902 验证码类型  官方网站>>价格体系 3.4+版 print 后要加()"
   ]
  },
  {
   "cell_type": "code",
   "execution_count": 19,
   "metadata": {},
   "outputs": [
    {
     "name": "stdout",
     "output_type": "stream",
     "text": [
      "爬取完毕\n",
      "aewo\n"
     ]
    }
   ],
   "source": [
    "import requests\n",
    "from lxml import etree\n",
    "url = \"https://so.gushiwen.org/user/login.aspx?from=http://so.gushiwen.org/user/collect.aspx\"\n",
    "headers = {\n",
    "    \"User-Agent\":\"Mozilla/5.0 (Macintosh; Intel Mac OS X 10_7_0) AppleWebKit/535.11 (KHTML, like Gecko) Chrome/17.0.963.56 Safari/535.11\"\n",
    "}\n",
    "res = requests.get(url,headers=headers)\n",
    "res.encoding = \"utf8\"\n",
    "pageText = res.text\n",
    "tree = etree.HTML(pageText)\n",
    "imgSrc = tree.xpath(\"//form/div[4]/div[4]/img/@src\")[0]\n",
    "urlImg = \"https://so.gushiwen.org\"+imgSrc\n",
    "img = requests.get(urlImg,headers=headers).content\n",
    "with open(\"./vertiCode.png\",\"wb\") as f:\n",
    "    f.write(img)\n",
    "print(\"爬取完毕\")\n",
    "codeStr = discernVertiCode(\"./vertiCode.png\",1004)\n",
    "print(codeStr)\n"
   ]
  },
  {
   "cell_type": "markdown",
   "metadata": {},
   "source": [
    "- 为什么在爬虫中需要实现模拟登录？\n",
    "    - 有的数据必须经过登录后，才可以显示\n",
    "- 涉及到的反爬\n",
    "    - 验证码\n",
    "    - 动态请求参数：每次请求对应的请求参数都是动态变化\n",
    "        - 动态捕获：通常情况下，动态的请求参数都会被隐藏在前台页面的源码\n",
    "    - Cookie"
   ]
  },
  {
   "cell_type": "code",
   "execution_count": 25,
   "metadata": {
    "scrolled": true
   },
   "outputs": [],
   "source": [
    "import requests\n",
    "from lxml import etree\n",
    "\n",
    "url = \"https://so.gushiwen.org/user/login.aspx?from=http://so.gushiwen.org/user/collect.aspx\"\n",
    "headers = {\n",
    "    \"User-Agent\":\"Mozilla/5.0 (Macintosh; Intel Mac OS X 10_7_0) AppleWebKit/535.11 (KHTML, like Gecko) Chrome/17.0.963.56 Safari/535.11\"\n",
    "}\n",
    "res = requests.get(url,headers=headers)\n",
    "res.encoding = \"utf8\"\n",
    "pageText = res.text\n",
    "tree = etree.HTML(pageText)\n",
    "imgSrc = tree.xpath(\"//form/div[4]/div[4]/img/@src\")[0]\n",
    "# 动态捕获动态请求参数 \n",
    "viewstate = tree.xpath('//*[@id=\"__VIEWSTATE\"]/@value')[0]\n",
    "viewstategenerator = tree.xpath('//*[@id=\"__VIEWSTATEGENERATOR\"]/@value')[0]\n",
    "urlImg = \"https://so.gushiwen.org\"+imgSrc\n",
    "sess = requests.Session()\n",
    "img = sess.get(urlImg,headers=headers).content\n",
    "with open(\"./vertiCode.png\",\"wb\") as f:\n",
    "    f.write(img)\n",
    "codeStr = discernVertiCode(\"./vertiCode.png\",1004)\n",
    "loginUrl = r\"https://so.gushiwen.org/user/login.aspx?from=http%3a%2f%2fso.gushiwen.org%2fuser%2fcollect.aspx\"\n",
    "data = {\n",
    "    \"__VIEWSTATE\": viewstate,\n",
    "    \"__VIEWSTATEGENERATOR\": viewstategenerator,\n",
    "    \"from\": \"http://so.gushiwen.org/user/collect.aspx\",\n",
    "    \"email\": \"15588545521\",\n",
    "    \"pwd\": \"lovedc123\",\n",
    "    \"code\": codeStr,\n",
    "    \"denglu\": \"登录\"\n",
    "}\n",
    "loginText = sess.post(loginUrl,data,headers=headers).text\n",
    "with open(\"./gushiwen.html\",\"w\",encoding=\"utf8\") as f:\n",
    "    f.write(loginText)"
   ]
  }
 ],
 "metadata": {
  "kernelspec": {
   "display_name": "Python 3",
   "language": "python",
   "name": "python3"
  },
  "language_info": {
   "codemirror_mode": {
    "name": "ipython",
    "version": 3
   },
   "file_extension": ".py",
   "mimetype": "text/x-python",
   "name": "python",
   "nbconvert_exporter": "python",
   "pygments_lexer": "ipython3",
   "version": "3.8.5"
  }
 },
 "nbformat": 4,
 "nbformat_minor": 4
}
