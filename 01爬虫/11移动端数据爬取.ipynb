{
 "cells": [
  {
   "cell_type": "markdown",
   "metadata": {},
   "source": [
    "- 移动端数据爬取\n",
    "    - 基于抓包工具：Fidller，青花瓷，miteproxy\n",
    "    - Fillder基本配置：\n",
    "        - Tools -> Options -> Connections -> Allow remote computers to connect勾选\n",
    "        - http://localhost:63101/ ------- 访问到一张提供证书下载的页面\n",
    "        - Fiddler所在的计算机和手机再同一网段下：在手机浏览器中访问http://fillder所在PC机ip:63101/\n",
    "          获取子页面进行证书下载和安装（证书信任操作）\n",
    "        - 配置手机代理：将手机代理配置成Fiddler所在PC机ip和Fiddler自己的端口\n",
    "        - 即可以使得Fiddler捕获手机发起的http和https请求"
   ]
  }
 ],
 "metadata": {
  "kernelspec": {
   "display_name": "Python 3",
   "language": "python",
   "name": "python3"
  },
  "language_info": {
   "codemirror_mode": {
    "name": "ipython",
    "version": 3
   },
   "file_extension": ".py",
   "mimetype": "text/x-python",
   "name": "python",
   "nbconvert_exporter": "python",
   "pygments_lexer": "ipython3",
   "version": "3.8.5"
  }
 },
 "nbformat": 4,
 "nbformat_minor": 4
}
