{
 "cells": [
  {
   "cell_type": "markdown",
   "metadata": {},
   "source": [
    "### 回顾\n",
    "- 简历模板\n",
    "    - ConnectionPool：\n",
    "        - 原因：\n",
    "            - 1.在短时间内向网站发起了一个高级请求\n",
    "                - 使用代理\n",
    "            - 2.连接池(HTTP)中资源被耗尽\n",
    "                - 立即将请求断开：Connection:close，加入到headers中。当请求成功后，立即断开连接，释放资源\n",
    "\n",
    "- 高清图片\n",
    "    - 图片懒加载：在img标签中应用了伪属性src2\n",
    "\n",
    "- 回顾\n",
    "    - 数据解析的作用：为了实现聚焦爬虫\n",
    "    - bs4：\n",
    "        - soup.tagName\n",
    "        - find(tagStr,attrName='value')/find_all(tagStr,attrName='value')\n",
    "        - select(selectorStr)\n",
    "        - tag.string、tang.text\n",
    "        - tag[\"href\"]\n",
    "    - xpath：\n",
    "        - //tagName\n",
    "        - //tagName[@attrName=\"value\"]\n",
    "        - //div[1]\n",
    "        - //text()\n",
    "        - //a/@href\n",
    "    - bs4与xpath最明显的区别？\n",
    "        - 需求：解析出携带标签的局部内容\n",
    "            - bs4相关标签定位的方法或者属性返回值就是携带标签的内容"
   ]
  },
  {
   "cell_type": "markdown",
   "metadata": {},
   "source": [
    "- 代理\n",
    "- cookie\n",
    "- 验证码识别\n",
    "- 模拟登录"
   ]
  },
  {
   "cell_type": "markdown",
   "metadata": {},
   "source": [
    "- 代理\n",
    "    - 代理服务器：实现请求转发，从而实现更换请求的ip地址\n",
    "    - 在requests中如何将请求ip进行更换\n",
    "- 代理的匿名度\n",
    "    - 透明：服务器知道使用了代理，并且知道使用的真实ip\n",
    "    - 匿名：服务器知道使用了代理，但是不知道真实ip\n",
    "    - 高匿：服务器不知道使用代理，且不知道真实ip\n",
    "- 代理类型\n",
    "    - http：只能转发http协议请求\n",
    "    - https：只能转发https协议请求\n",
    "- requests.get(proxies = {\"http/https\":\"ip:port\"})\n",
    "- 在爬虫中遇到ip被禁，如何处理？\n",
    "    - 使用代理\n",
    "    - 构建代理池\n",
    "    - 拨号服务器"
   ]
  },
  {
   "cell_type": "code",
   "execution_count": 4,
   "metadata": {},
   "outputs": [
    {
     "name": "stdout",
     "output_type": "stream",
     "text": [
      "测试完毕\n"
     ]
    }
   ],
   "source": [
    "import requests\n",
    "\n",
    "headers = {\n",
    "    \"User-Agent\":r\"Mozilla/5.0 (Macintosh; Intel Mac OS X 10.6; rv:2.0.1) Gecko/20100101 Firefox/4.0.1\"\n",
    "}\n",
    "\n",
    "url = r\"http://ip.tool.chinaz.com/\"\n",
    "# proxies = {\"http/https\":\"ip:port\"}\n",
    "res = requests.get(url,headers=headers,proxies={\"http\":\"34.193.236.201:80\"})\n",
    "res.encoding = \"utf8\"\n",
    "page_text = res.text\n",
    "\n",
    "with open(\"./ip.html\",\"w\",encoding=\"utf8\") as f:\n",
    "    f.write(page_text)\n",
    "print(\"测试完毕\")\n"
   ]
  }
 ],
 "metadata": {
  "kernelspec": {
   "display_name": "Python 3 (ipykernel)",
   "language": "python",
   "name": "python3"
  },
  "language_info": {
   "codemirror_mode": {
    "name": "ipython",
    "version": 3
   },
   "file_extension": ".py",
   "mimetype": "text/x-python",
   "name": "python",
   "nbconvert_exporter": "python",
   "pygments_lexer": "ipython3",
   "version": "3.8.5"
  },
  "toc": {
   "base_numbering": 1,
   "nav_menu": {},
   "number_sections": true,
   "sideBar": true,
   "skip_h1_title": false,
   "title_cell": "Table of Contents",
   "title_sidebar": "Contents",
   "toc_cell": false,
   "toc_position": {},
   "toc_section_display": true,
   "toc_window_display": false
  }
 },
 "nbformat": 4,
 "nbformat_minor": 4
}
