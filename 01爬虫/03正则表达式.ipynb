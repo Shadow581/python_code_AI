{
 "cells": [
  {
   "cell_type": "markdown",
   "metadata": {},
   "source": [
    "### 数据解析\n",
    "- 解析: 根据指定的规则对数据进行解析\n",
    "- 作用: 实现聚焦爬虫\n",
    "- 聚焦爬虫的编码流程:\n",
    "    1. 指定url\n",
    "    2. 发起请求\n",
    "    3. 获取响应数据\n",
    "    4. 数据解析\n",
    "    5. 持久化存储\n",
    "- 数据解析方式:\n",
    "    - 正则表达式\n",
    "    - bs4\n",
    "    - xpath\n",
    "- 数据解析通用原理?\n",
    "    - 数据解析需要作用在页面源码中(一组html标签组成)\n",
    "    - html核心作用?\n",
    "        - 展示数据\n",
    "    - 通用原理\n",
    "        1. 定位标签\n",
    "        2. 取文本/属性"
   ]
  },
  {
   "cell_type": "markdown",
   "metadata": {},
   "source": [
    "- 需求:爬取糗事百科数据"
   ]
  },
  {
   "cell_type": "markdown",
   "metadata": {},
   "source": [
    "- 爬取图片"
   ]
  },
  {
   "cell_type": "code",
   "execution_count": null,
   "metadata": {},
   "outputs": [],
   "source": [
    "import requests\n",
    "headers = {\n",
    "    \"User-Agent\":r\"Mozilla/5.0 (Macintosh; Intel Mac OS X 10.6; rv:2.0.1) Gecko/20100101 Firefox/4.0.1\"\n",
    "}"
   ]
  },
  {
   "cell_type": "code",
   "execution_count": 4,
   "metadata": {},
   "outputs": [],
   "source": [
    "# 方式一\n",
    "url = r\"https://pic.qiushibaike.com/system/pictures/12428/124286747/medium/DCOP6LYOFWM3EP5E.jpg\"\n",
    "# content()   返回byte类型数据\n",
    "img = requests.get(url,headers=headers).content\n",
    "with open(\"./1.jpg\",\"wb\") as f:\n",
    "    f.write(img)"
   ]
  },
  {
   "cell_type": "code",
   "execution_count": 5,
   "metadata": {},
   "outputs": [
    {
     "data": {
      "text/plain": [
       "('./2.jpg', <http.client.HTTPMessage at 0x20666c02160>)"
      ]
     },
     "execution_count": 5,
     "metadata": {},
     "output_type": "execute_result"
    }
   ],
   "source": [
    "# 方式二\n",
    "from urllib import request\n",
    "url = r\"https://pic.qiushibaike.com/system/pictures/12428/124286747/medium/DCOP6LYOFWM3EP5E.jpg\"\n",
    "request.urlretrieve(url,\"./2.jpg\")"
   ]
  },
  {
   "cell_type": "markdown",
   "metadata": {},
   "source": [
    "- 方式一与方式二对于图片数据爬取操作的最大不同之处在哪?\n",
    "    方式二不可以使用UA伪装的机制"
   ]
  },
  {
   "cell_type": "markdown",
   "metadata": {},
   "source": [
    "- urllib:一个比较老的网络请求模块,在requests模块没有出现前,请求发送的操作使用的都是urllib"
   ]
  },
  {
   "cell_type": "code",
   "execution_count": 11,
   "metadata": {},
   "outputs": [
    {
     "name": "stdout",
     "output_type": "stream",
     "text": [
      "爬取完毕\n"
     ]
    }
   ],
   "source": [
    "# 糗事百科,使用正则表达式爬取图片\n",
    "\n",
    "'''\n",
    "<div class=\"thumb\">\n",
    "    <a href=\"/article/124233924\" target=\"_blank\">\n",
    "        <img src=\"//pic.qiushibaike.com/system/pictures/12423/124233924/medium/CXMH7IHEGOVIO98Q.jpg\" alt=\"糗事#124233924\" class=\"illustration\" width=\"100%\" height=\"auto\">\n",
    "    </a>\n",
    "</div>\n",
    "'''\n",
    "import re\n",
    "import os\n",
    "\n",
    "i = 1\n",
    "url = r\"https://www.qiushibaike.com/imgrank/\"\n",
    "htmlData = requests.get(url,headers=headers).text\n",
    "imgList = re.findall(r'<div class=\"thumb\">.*?<img src=\"(.*?)\" alt=.*?</div>',htmlData,re.S)\n",
    "for img in imgList:\n",
    "    src = \"https:\"+img\n",
    "    img_src = requests.get(src,headers=headers).content\n",
    "    if(not os.path.exists(r\"./img\")):\n",
    "        os.mkdir(r\"img\")\n",
    "    f = open(\"./img/\"+str(i)+\".jpg\",\"wb\")\n",
    "    f.write(img_src)\n",
    "    i = i + 1\n",
    "    f.close()\n",
    "print(\"爬取完毕\")"
   ]
  },
  {
   "cell_type": "markdown",
   "metadata": {},
   "source": [
    "- 爬取多页\n",
    "- 分析:每一个页码对应的url存在共性:https://www.qiushibaike.com/imgrank/page/5/"
   ]
  },
  {
   "cell_type": "code",
   "execution_count": 13,
   "metadata": {},
   "outputs": [
    {
     "name": "stdout",
     "output_type": "stream",
     "text": [
      "爬取完毕\n"
     ]
    }
   ],
   "source": [
    "# 制定一个通用的url模板\n",
    "size = 0\n",
    "url = r\"https://www.qiushibaike.com/imgrank/page/%d/\"\n",
    "for i in range(1,5):\n",
    "    url.replace(r\"%d\",str(i))\n",
    "    htmlData = requests.get(url,headers=headers).text\n",
    "    imgList = re.findall(r'<div class=\"thumb\">.*?<img src=\"(.*?)\" alt=.*?</div>',htmlData,re.S)\n",
    "    for img in imgList:\n",
    "        src = \"https:\"+img\n",
    "        img_src = requests.get(src,headers=headers).content\n",
    "        if(not os.path.exists(r\"./img\")):\n",
    "            os.mkdir(r\"img\")\n",
    "        f = open(\"./img/\"+str(size)+\".jpg\",\"wb\")\n",
    "        f.write(img_src)\n",
    "        size = size + 1\n",
    "        f.close()\n",
    "print(\"爬取完毕\")"
   ]
  }
 ],
 "metadata": {
  "kernelspec": {
   "display_name": "Python 3",
   "language": "python",
   "name": "python3"
  },
  "language_info": {
   "codemirror_mode": {
    "name": "ipython",
    "version": 3
   },
   "file_extension": ".py",
   "mimetype": "text/x-python",
   "name": "python",
   "nbconvert_exporter": "python",
   "pygments_lexer": "ipython3",
   "version": "3.8.5"
  }
 },
 "nbformat": 4,
 "nbformat_minor": 4
}
