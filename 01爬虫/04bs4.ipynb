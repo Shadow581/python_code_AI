{
 "cells": [
  {
   "cell_type": "markdown",
   "metadata": {},
   "source": [
    "### bs4解析\n",
    "- 环境安装\n",
    "    - pip install bs4\n",
    "    - pip install lxml\n",
    "- bs4解析原理\n",
    "    - 实例化一个BeautifulSoup对象,并且将即将被解析的页面源码数据加载到该对象中\n",
    "    - 调用BeautifulSoup对象中的相关属性和方法进行标签定位和数据提取\n",
    "- 如何实例化BeautifulSoup对象呢?\n",
    "    - BeautifulSoup(fp,\"lxml\"):专门用作于解析本地存储的html文档中的数据\n",
    "    - BeautifulSoup(page_text,\"lxml\"):专门用作于将互联网上请求到的页面源码数据进行解析"
   ]
  },
  {
   "cell_type": "markdown",
   "metadata": {},
   "source": [
    "- soup.tagName：定位到第一个Tag标签\n",
    "\n",
    "- 属性定位：\n",
    "    - find(tagStr,attrName)\n",
    "        - tagStr：标签名称\n",
    "        - attrName：标签中的属性名称\n",
    "    \n",
    "    - find_all(tagStr,attrName)：查询所有指定标签，返回列表\n",
    "\n",
    "- 选择器定位：标签，类，id，层级\n",
    "    - select(selectorStr)：\n",
    "        - selectorStr：选择器名称，例如：.类名，#id名，>，其他等等"
   ]
  },
  {
   "cell_type": "markdown",
   "metadata": {},
   "source": [
    "- 取文本\n",
    "    - tag.string：返回当前节点中的内容，但是当前节点包含子节点时，.string不知道要获取哪一个节点中的内容，故返回空\n",
    "    - tag.text：标签中子孙后代文本内容\n",
    "- 取属性\n",
    "    - tag[attrNameStr]\n",
    "    "
   ]
  },
  {
   "cell_type": "code",
   "execution_count": 68,
   "metadata": {
    "collapsed": true
   },
   "outputs": [
    {
     "name": "stdout",
     "output_type": "stream",
     "text": [
      "<div class=\"song\">\n",
      "\t\t就这？\n",
      "\t\t<p>李清照</p>\n",
      "<p>王安石</p>\n",
      "<p>苏轼</p>\n",
      "<p>柳宗元</p>\n",
      "</div>\n",
      "\n",
      "\t\t就这？\n",
      "\t\t李清照\n",
      "王安石\n",
      "苏轼\n",
      "柳宗元\n",
      "\n",
      "None\n",
      "**********************************\n",
      "['tang']\n"
     ]
    }
   ],
   "source": [
    "from bs4 import BeautifulSoup\n",
    "\n",
    "fp = open(\"./test.html\",\"r\",encoding=\"utf8\")\n",
    "soup = BeautifulSoup(fp,\"lxml\")     # 将即将被解析的页面源码加载到该对象中\n",
    "# soup.li\n",
    "# soup.find(\"div\",class_=\"song\")\n",
    "# soup.find_all(\"div\")\n",
    "# soup.select(\".tang\")\n",
    "# soup.select(\"#t\")\n",
    "# soup.select(\"ul > li\")\n",
    "# soup.select(\"div li\")\n",
    "li = soup.select(\"ul>li\")[2]\n",
    "iTag = li.i\n",
    "# print(iTag.string)\n",
    "# print(iTag.text)\n",
    "# 区别\n",
    "d = soup.find(\"div\",class_=\"song\")\n",
    "print(d)\n",
    "print(d.text)    # 取出所有文本数据\n",
    "print(d.string)  # 返回当前节点中的内容，但是当前节点包含子节点时，.string不知道要获取哪一个节点中的内容，故返回空\n",
    "\n",
    "print(\"**********************************\")\n",
    "\n",
    "divAttrValue = soup.find(\"ol\",id=\"t\")[\"class\"]\n",
    "print(divAttrValue)\n"
   ]
  },
  {
   "cell_type": "markdown",
   "metadata": {},
   "source": [
    "- 爬取三国演义正片小说内容：https://www.shicimingju.com/book/sanguoyanyi.html\n",
    "    - 章节名称\n",
    "    - 章节内容"
   ]
  },
  {
   "cell_type": "code",
   "execution_count": 89,
   "metadata": {},
   "outputs": [
    {
     "name": "stdout",
     "output_type": "stream",
     "text": [
      "爬取成功\n"
     ]
    }
   ],
   "source": [
    "import requests\n",
    "from bs4 import BeautifulSoup\n",
    "\n",
    "headers = {\n",
    "    \"User-Agent\":r\"Mozilla/5.0 (Macintosh; Intel Mac OS X 10.6; rv:2.0.1) Gecko/20100101 Firefox/4.0.1\"\n",
    "}\n",
    "res = requests.get(\"https://www.shicimingju.com/book/sanguoyanyi.html\",headers=headers)\n",
    "res.encoding = \"utf8\"\n",
    "res_text = res.text\n",
    "articleSoup = BeautifulSoup(res_text,\"lxml\")\n",
    "mulus = articleSoup.select(\".book-mulu>ul>li>a\")\n",
    "f = open(\"./三国演义.txt\",\"w\",encoding=\"utf8\")\n",
    "for mulu in mulus:\n",
    "    contentLink = mulu[\"href\"]\n",
    "    res_content = requests.get(r\"https://www.shicimingju.com\"+contentLink,headers=headers)\n",
    "    res_content.encoding = \"utf8\"\n",
    "    res_contentText = res_content.text\n",
    "    contentSoup = BeautifulSoup(res_contentText,\"lxml\")\n",
    "    contentDetailText = contentSoup.select(\".chapter_content\")[0].text\n",
    "    f.write(mulu.text+\"\\n\"+contentDetailText+\"\\n\\n\")\n",
    "f.close()\n",
    "print(\"爬取成功\")\n",
    "    "
   ]
  }
 ],
 "metadata": {
  "kernelspec": {
   "display_name": "Python 3 (ipykernel)",
   "language": "python",
   "name": "python3"
  },
  "language_info": {
   "codemirror_mode": {
    "name": "ipython",
    "version": 3
   },
   "file_extension": ".py",
   "mimetype": "text/x-python",
   "name": "python",
   "nbconvert_exporter": "python",
   "pygments_lexer": "ipython3",
   "version": "3.8.5"
  },
  "toc": {
   "base_numbering": 1,
   "nav_menu": {},
   "number_sections": true,
   "sideBar": true,
   "skip_h1_title": false,
   "title_cell": "Table of Contents",
   "title_sidebar": "Contents",
   "toc_cell": false,
   "toc_position": {},
   "toc_section_display": true,
   "toc_window_display": false
  }
 },
 "nbformat": 4,
 "nbformat_minor": 4
}
