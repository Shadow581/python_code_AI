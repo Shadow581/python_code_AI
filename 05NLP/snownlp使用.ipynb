{
 "cells": [
  {
   "cell_type": "markdown",
   "id": "939d2c0e",
   "metadata": {},
   "source": [
    "### 什么是snownlp\n",
    "- SnowNLP是一个python写的类库，可以方便的处理中文文本内容，是受到了TextBlob的启发而写的，由于现在大部分的自然语言处理库基本都是针对英文的，于是写了一个方便处理中文的类库，并且和TextBlob不同的是，这里没有用NLTK，所有的算法都是自己实现的，并且自带了一些训练好的字典。注意本程序都是处理的unicode编码，所以使用时请自行decode成unicode。\n",
    "- pip install snownlp"
   ]
  },
  {
   "cell_type": "code",
   "execution_count": 2,
   "id": "6f558eec",
   "metadata": {},
   "outputs": [],
   "source": [
    "from snownlp import SnowNLP"
   ]
  },
  {
   "cell_type": "code",
   "execution_count": 5,
   "id": "facbea17",
   "metadata": {},
   "outputs": [
    {
     "name": "stdout",
     "output_type": "stream",
     "text": [
      "['你', '站', '在', '桥', '上', '看', '风景', '，', '看', '风景', '的', '人', '在', '楼上', '看', '你', '。', '明月', '装饰', '了', '你', '的', '窗子', '，', '你', '装饰', '了', '别人', '的', '梦']\n"
     ]
    }
   ],
   "source": [
    "text = '你站在桥上看风景，看风景的人在楼上看你。明月装饰了你的窗子，你装饰了别人的梦'\n",
    "\n",
    "s = SnowNLP(text)\n",
    "\n",
    "print(s.words)    # 分词"
   ]
  },
  {
   "cell_type": "code",
   "execution_count": 10,
   "id": "5d43abb1",
   "metadata": {
    "scrolled": true
   },
   "outputs": [],
   "source": [
    "text = '李达康就是这样的人，她穷哭出声，不攀龙附凤，不结党营私，不同流合污，不贪污受贿，也不伪造政绩，手下贪污出事了他自责用人不当，服装厂出事了他没想过隐瞒，後面這些是繁體字'\n",
    "\n",
    "s = SnowNLP(text)"
   ]
  },
  {
   "cell_type": "markdown",
   "id": "db2d19e4",
   "metadata": {},
   "source": [
    "- s.words：对句子进行分词"
   ]
  },
  {
   "cell_type": "code",
   "execution_count": 11,
   "id": "0129d690",
   "metadata": {},
   "outputs": [
    {
     "name": "stdout",
     "output_type": "stream",
     "text": [
      "['李', '达康', '就', '是', '这样', '的', '人', '，', '她穷', '哭出', '声', '，', '不', '攀龙', '附', '凤', '，', '不结', '党', '营私', '，', '不同', '流', '合', '污', '，', '不', '贪污', '受贿', '，', '也', '不', '伪造', '政绩', '，', '手下', '贪污', '出事', '了', '他', '自', '责', '用人', '不当', '，', '服装厂', '出事', '了', '他', '没', '想过', '隐瞒', '，', '後面', '這些', '是', '繁', '體字']\n"
     ]
    }
   ],
   "source": [
    "# 分词\n",
    "print( s.words )"
   ]
  },
  {
   "cell_type": "markdown",
   "id": "12c5e7f0",
   "metadata": {},
   "source": [
    "- s.tags：获取每一个分词的词性"
   ]
  },
  {
   "cell_type": "code",
   "execution_count": 12,
   "id": "75560456",
   "metadata": {},
   "outputs": [
    {
     "name": "stdout",
     "output_type": "stream",
     "text": [
      "[('李', 'nr'), ('达康', 'nr'), ('就', 'd'), ('是', 'v'), ('这样', 'r'), ('的', 'u'), ('人', 'n'), ('，', 'w'), ('她穷', 'Rg'), ('哭出', 'Rg'), ('声', 'q'), ('，', 'w'), ('不', 'd'), ('攀龙', 'Vg'), ('附', 'v'), ('凤', 'Ng'), ('，', 'w'), ('不结', 'vvn'), ('党', 'n'), ('营私', 'Bg'), ('，', 'w'), ('不同', 'a'), ('流', 'Ng'), ('合', 'v'), ('污', 'Ng'), ('，', 'w'), ('不', 'd'), ('贪污', 'v'), ('受贿', 'v'), ('，', 'w'), ('也', 'd'), ('不', 'd'), ('伪造', 'v'), ('政绩', 'n'), ('，', 'w'), ('手下', 'n'), ('贪污', 'v'), ('出事', 'v'), ('了', 'u'), ('他', 'r'), ('自', 'p'), ('责', 'Ng'), ('用人', 'v'), ('不当', 'a'), ('，', 'w'), ('服装厂', 'n'), ('出事', 'v'), ('了', 'u'), ('他', 'r'), ('没', 'd'), ('想过', 'ad'), ('隐瞒', 'v'), ('，', 'w'), ('後面', 'Rg'), ('這些', 'Rg'), ('是', 'v'), ('繁', 'Rg'), ('體字', 'Rg')]\n"
     ]
    }
   ],
   "source": [
    "# 词性标注：对每一个分词进行词性标注\n",
    "tags = [i for i in s.tags]\n",
    "print(tags)"
   ]
  },
  {
   "cell_type": "markdown",
   "id": "cd505372",
   "metadata": {},
   "source": [
    "- s.sentences：断句。若句中存在英文标点，则不会对那一部分进行断句"
   ]
  },
  {
   "cell_type": "code",
   "execution_count": 16,
   "id": "c3fa90dd",
   "metadata": {},
   "outputs": [
    {
     "name": "stdout",
     "output_type": "stream",
     "text": [
      "['你站在桥上看风景', '看风景的人在楼上看你', '明月装饰了,你的窗子', '你装饰了别人的梦']\n"
     ]
    }
   ],
   "source": [
    "t = '你站在桥上看风景，看风景的人在楼上看你。明月装饰了,你的窗子，你装饰了别人的梦'\n",
    "a = SnowNLP(t)\n",
    "print( a.sentences )"
   ]
  },
  {
   "cell_type": "markdown",
   "id": "8da50717",
   "metadata": {},
   "source": [
    "- s.sentiments：情绪判断：越接近0表示负面情绪，越接近1表示正面情绪"
   ]
  },
  {
   "cell_type": "code",
   "execution_count": 18,
   "id": "43176090",
   "metadata": {},
   "outputs": [
    {
     "name": "stdout",
     "output_type": "stream",
     "text": [
      "这部电影真心棒，全程无尿点 0.9842572323704297\n",
      "这部电影简直烂到爆 0.0566960891729531\n"
     ]
    }
   ],
   "source": [
    "text1 = '这部电影真心棒，全程无尿点'\n",
    "text2 = '这部电影简直烂到爆'\n",
    "\n",
    "s1 = SnowNLP(text1)\n",
    "s2 = SnowNLP(text2)\n",
    "\n",
    "print(text1, s1.sentiments)\n",
    "print(text2, s2.sentiments)"
   ]
  },
  {
   "cell_type": "markdown",
   "id": "12858cd0",
   "metadata": {},
   "source": [
    "- s.pinyin：返回文本的拼音"
   ]
  },
  {
   "cell_type": "code",
   "execution_count": 19,
   "id": "15e7f105",
   "metadata": {},
   "outputs": [
    {
     "name": "stdout",
     "output_type": "stream",
     "text": [
      "['li', 'da', 'kang', 'jiu', 'shi', 'zhe', 'yang', 'de', 'ren', '，', 'ta', 'qiong', 'ku', 'chu', 'sheng', '，', 'bu', 'pan', 'long', 'fu', 'feng', '，', 'bu', 'jie', 'dang', 'ying', 'si', '，', 'bu', 'tong', 'liu', 'he', 'wu', '，', 'bu', 'tan', 'wu', 'shou', 'hui', '，', 'ye', 'bu', 'wei', 'zao', 'zheng', 'ji', '，', 'shou', 'xia', 'tan', 'wu', 'chu', 'shi', 'liao', 'ta', 'zi', 'ze', 'yong', 'ren', 'bu', 'dang', '，', 'fu', 'zhuang', 'chang', 'chu', 'shi', 'liao', 'ta', 'mo', 'xiang', 'guo', 'yin', 'man', '，', '後', 'mian', '這', 'xie', 'shi', 'fan', '體', 'zi']\n"
     ]
    }
   ],
   "source": [
    "print( s.pinyin )"
   ]
  },
  {
   "cell_type": "markdown",
   "id": "76bdd729",
   "metadata": {},
   "source": [
    "- s.keywords(limit)：关键词抽取，关键词个数：limit个"
   ]
  },
  {
   "cell_type": "code",
   "execution_count": 24,
   "id": "5e8b9a9a",
   "metadata": {},
   "outputs": [
    {
     "name": "stdout",
     "output_type": "stream",
     "text": [
      "['故宫', '年', '米', '外', '中心']\n"
     ]
    }
   ],
   "source": [
    "text3 = '''北京故宫 是 中国 明清两代 的 皇家 宫殿 ， 旧 称为 紫禁城 ， 位于 北京 中轴线 的 中心 ， 是 中国 古代 宫廷 建筑 之 精华 。 北京故宫 以 三 大殿 为 中心 ， 占地面积 72 万平方米 ， 建筑面积 约 15 万平方米 ， 有 大小 宫殿 七十 多座 ， 房屋 九千余 间 。 是 世界 上 现存 规模 最大 、 保存 最为 完整 的 木质 结构 古建筑 之一 。 \n",
    "北京故宫 于 明成祖 永乐 四年 （ 1406 年 ） 开始 建设 ， 以 南京 故宫 为 蓝本 营建 ， 到 永乐 十八年 （ 1420 年 ） 建成 。 它 是 一座 长方形 城池 ， 南北 长 961 米 ， 东西 宽 753 米 ， 四面 围有 高 10 米 的 城墙 ， 城外 有 宽 52 米 的 护城河 。 紫禁城 内 的 建筑 分为 外朝 和内廷 两 部分 。 外朝 的 中心 为 太和殿 、 中和殿 、 保和殿 ， 统称 三 大殿 ， 是 国家 举行 大 典礼 的 地方 。 内廷 的 中心 是 乾清宫 、 交泰 殿 、 坤宁宫 ， 统称 后 三宫 ， 是 皇帝 和 皇后 居住 的 正宫 。   [ 1 ]   \n",
    "北京故宫 被誉为 世界 五大 宫之首 （ 法国 凡尔赛宫 、 英国 白金汉宫 、 美国白宫 、 俄罗斯 克里姆林宫 ） ， 是 国家 AAAAA 级 旅游 景区 ，   [ 2 - 3 ]     1961 年 被 列为 第一批 全国 重点 文物保护 单位 ；   [ 4 ]     1987 年 被 列为 世界 文化遗产 。   [ 5 ]   \n",
    "2012 年 1 月 至 2018 年 6 月 ， 故宫 累计 接待 观众 达到 1 亿人次 。 2019 年 起 ， 故宫 将 试行 分 时段 售票   [ 6 ]     。 2018 年 9 月 3 日 ， 故宫 养心殿 正式 进入 古建筑 研究性 保护 修缮 工作 的 实施 阶段 。   [ 7 ]     2019 年 3 月 4 日 ， 故宫 公布 了 2019 年 下半年 展览 计划 。   [ 8 ]   \n",
    "'''\n",
    "s3 = SnowNLP(text3)\n",
    "keyword = s3.keywords(limit=5)\n",
    "print(keyword)"
   ]
  },
  {
   "cell_type": "markdown",
   "id": "bfa93de7",
   "metadata": {},
   "source": [
    "- s.summary(limit)：概括文章，概括文章词数：limit个"
   ]
  },
  {
   "cell_type": "code",
   "execution_count": 25,
   "id": "aec17082",
   "metadata": {},
   "outputs": [
    {
     "name": "stdout",
     "output_type": "stream",
     "text": [
      "['北京故宫 以 三 大殿 为 中心', '2012 年 1 月 至 2018 年 6 月', '[ 7 ]     2019 年 3 月 4 日']\n"
     ]
    }
   ],
   "source": [
    "summary = s3.summary(limit = 3)\n",
    "print(summary)"
   ]
  },
  {
   "cell_type": "code",
   "execution_count": null,
   "id": "60ab1d80",
   "metadata": {},
   "outputs": [],
   "source": []
  },
  {
   "cell_type": "code",
   "execution_count": null,
   "id": "93d71f3d",
   "metadata": {},
   "outputs": [],
   "source": []
  },
  {
   "cell_type": "code",
   "execution_count": null,
   "id": "b653bf2c",
   "metadata": {},
   "outputs": [],
   "source": []
  },
  {
   "cell_type": "code",
   "execution_count": null,
   "id": "77e456e2",
   "metadata": {},
   "outputs": [],
   "source": []
  },
  {
   "cell_type": "code",
   "execution_count": null,
   "id": "e65a8d03",
   "metadata": {},
   "outputs": [],
   "source": []
  },
  {
   "cell_type": "code",
   "execution_count": null,
   "id": "b6ed157b",
   "metadata": {},
   "outputs": [],
   "source": []
  }
 ],
 "metadata": {
  "kernelspec": {
   "display_name": "Python 3 (ipykernel)",
   "language": "python",
   "name": "python3"
  },
  "language_info": {
   "codemirror_mode": {
    "name": "ipython",
    "version": 3
   },
   "file_extension": ".py",
   "mimetype": "text/x-python",
   "name": "python",
   "nbconvert_exporter": "python",
   "pygments_lexer": "ipython3",
   "version": "3.8.5"
  },
  "toc": {
   "base_numbering": 1,
   "nav_menu": {},
   "number_sections": true,
   "sideBar": true,
   "skip_h1_title": false,
   "title_cell": "Table of Contents",
   "title_sidebar": "Contents",
   "toc_cell": false,
   "toc_position": {},
   "toc_section_display": true,
   "toc_window_display": true
  }
 },
 "nbformat": 4,
 "nbformat_minor": 5
}
