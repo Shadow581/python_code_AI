{
 "cells": [
  {
   "cell_type": "markdown",
   "metadata": {},
   "source": [
    "### Scikit-learn工具介绍\n",
    "- Python语言的机器学习工具\n",
    "- Scikit-learn包括许多知名的机器学习算法的实现\n",
    "- Sikit-learn文档完善， 容易上手，丰富的API\n",
    "- 目前稳定版本0.19.1"
   ]
  },
  {
   "cell_type": "markdown",
   "metadata": {},
   "source": [
    "### K-近邻算法\n",
    "- K Nearest Neighbor算法又叫KNN算法，这个算法是机器学习里面一个比较经典的算法，总体来说KNN算法是相对比较容易理解的算法。\n",
    "- 定义：如果一个样本在特征空间中的k个最相似(即特征空间中最邻近)的样本中的大多数属于某一个类别，则该样本也属于这个类别。\n",
    "- 总结：\n",
    "    - 1. 计算已知类别数据集中的点与当前点之间的距离\n",
    "    - 2. 按距离递增次序排序\n",
    "    - 3. 选取与当前点距离最小的k个点\n",
    "    - 4. 统计前k个点所在的类别出现的频率\n",
    "    - 5. 返回前k个点出现频率最高的类别作为当前点的预测分类\n",
    "\n"
   ]
  },
  {
   "cell_type": "markdown",
   "metadata": {},
   "source": [
    "- sklearn.neighbors.KNeighborsClassifier(n_neighbors=5,algorithm='auto')\n",
    "    - n_neighbors：默认为5\n",
    "    - algorithm：'auto'、'bar_tree'、'kd_tree'、'brute'\n",
    "        - 'auto'：自动选择合适的算法\n",
    "        - 'brute'：暴力搜索\n",
    "        - 'kd_tree'：在维数<20时，效率高\n",
    "        - 'bar_tree'：是为了克服kd树高维失效而发明的，其构造过程是以质心C和半径r分割样本空间，每个节点是一个超球体"
   ]
  },
  {
   "cell_type": "code",
   "execution_count": 1,
   "metadata": {},
   "outputs": [
    {
     "name": "stdout",
     "output_type": "stream",
     "text": [
      "[0]\n",
      "[1]\n"
     ]
    }
   ],
   "source": [
    "from sklearn.neighbors import KNeighborsClassifier\n",
    "\n",
    "# 1.构造数据\n",
    "x = [[1], [2], [10], [20]]\n",
    "y = [0, 0, 1, 1]\n",
    "\n",
    "# 2.训练模型\n",
    "# 2.1 实例化一个估计器对象\n",
    "estimator = KNeighborsClassifier(n_neighbors=1)\n",
    "\n",
    "# 2.2 调用fit方法,进行训练\n",
    "estimator.fit(x, y)\n",
    "\n",
    "# 3.数据预测\n",
    "ret1 = estimator.predict([[0]])\n",
    "print(ret1)\n",
    "\n",
    "ret2 = estimator.predict([[100]])\n",
    "print(ret2)"
   ]
  },
  {
   "cell_type": "markdown",
   "metadata": {},
   "source": [
    "#### 常见距离公式\n",
    "- 1. 欧式距离：d = 根号( (x1-x2)²+(y1-y2)² )\n",
    "- 2. 曼哈顿距离：d = |x1-x2|+|y1-y2|\n",
    "- 3. 切比雪夫距离：d = max(|x1-x2|,|y1-y2|)\n",
    "- 缺点：将各个分量的量纲(scale)，也就是“单位”相同的看待了；未考虑各个分量的分布(期望，方差等)可能是不同的。\n",
    "\n"
   ]
  },
  {
   "cell_type": "markdown",
   "metadata": {},
   "source": [
    "#### 属性\n",
    "- 连续属性\n",
    "- 离散属性\n",
    "    - 存在序关系，可以将其转化为连续值\n",
    "    - 不存在序关系，通常将其转化为向量的形式"
   ]
  },
  {
   "cell_type": "markdown",
   "metadata": {},
   "source": [
    "#### K值的选择\n",
    "- 近似误差\n",
    "    - 对现有训练集的训练误差，关注训练集,\n",
    "    - 如果近似误差过小可能会出现过拟合的现象，对现有的训练集能有很好的预测，但是对未知的测试样本将会出现较大偏差的预测。\n",
    "    - 模型本身不是最接近最佳模型。\n",
    "\n",
    "- 估计误差\n",
    "    - 可以理解为对测试集的测试误差，关注测试集，\n",
    "    - 估计误差小说明对未知数据的预测能力好,\n",
    "    - 模型本身最接近最佳模型\n",
    "\n",
    "- K值选择问题，李航博士的一书「统计学习方法」上所说:\n",
    "    - 1)选择较小的K值，就相当于用较小的领域中的训练实例进行预测，“学习”近似误差会减小，只有与输入实例较近或相似的训练实例才会对预测结果起作用，与此同时带来的问题是“学习”的估计误差会增大，换句话说，K值的减小就意味着整体模型变得复杂，容易发生过拟合;\n",
    "    - 2)选择较大的K值，就相当于用较大领域中的训练实例进行预测，其优点是可以减少学习的估计误差，但缺点是学习的近似误差会增大。这时候，与输入实例较远(不相似的)训练实例也会对预测器作用，使预测发生错误，且K值的增大就意味着整体的模型变得简单。\n",
    "    - 3) K=N (N为训练样本个数)，则完全不足取，因为此时无论输入实例是什么，都只是简单的预测它属于在训练实例中最多的类,模型过于简单，忽略了训练实例中大量有用信息。\n",
    "    - 在实际应用中，K值一般取一个比较小的数值，例如采用交叉验证法(简单来说，就是把训练数据在分成两组:训练集和验证集)来选择最优的K值。\n"
   ]
  },
  {
   "cell_type": "markdown",
   "metadata": {},
   "source": [
    "#### kd树\n",
    "- 为了避免每次都重新计算一遍距离， 算法会把距离信息保存在一棵树里，这样在计算之前从树里查询距离信息，尽量避免重新计算。其基本原理是，如果A和B距离很远，B和C距离很近，那么A和C的距离也很远。有了这个信息，就可以在合适的时候跳过距离远的点。\n",
    "- 相关概念：https://www.cnblogs.com/earendil/p/8135074.html"
   ]
  },
  {
   "cell_type": "markdown",
   "metadata": {},
   "source": [
    "### 数据集介绍\n",
    "- sklearn.datasets.load_*()：获取小规模数据集\n",
    "- sklearn.datasets.fetch_*()：获取大规模数据集\n",
    "- 数据集属性\n",
    "    - data：特征数据数组\n",
    "    - target：目标数组\n",
    "    - feature_names：特征名\n",
    "    - target_names:目标名\n",
    "    - DESCR：数据描述"
   ]
  },
  {
   "cell_type": "code",
   "execution_count": 3,
   "metadata": {},
   "outputs": [
    {
     "name": "stderr",
     "output_type": "stream",
     "text": [
      "<frozen importlib._bootstrap>:219: RuntimeWarning: numpy.ufunc size changed, may indicate binary incompatibility. Expected 192 from C header, got 216 from PyObject\n"
     ]
    },
    {
     "name": "stdout",
     "output_type": "stream",
     "text": [
      "数据集是：\n",
      " [[5.1 3.5 1.4 0.2]\n",
      " [4.9 3.  1.4 0.2]\n",
      " [4.7 3.2 1.3 0.2]\n",
      " [4.6 3.1 1.5 0.2]\n",
      " [5.  3.6 1.4 0.2]\n",
      " [5.4 3.9 1.7 0.4]\n",
      " [4.6 3.4 1.4 0.3]\n",
      " [5.  3.4 1.5 0.2]\n",
      " [4.4 2.9 1.4 0.2]\n",
      " [4.9 3.1 1.5 0.1]\n",
      " [5.4 3.7 1.5 0.2]\n",
      " [4.8 3.4 1.6 0.2]\n",
      " [4.8 3.  1.4 0.1]\n",
      " [4.3 3.  1.1 0.1]\n",
      " [5.8 4.  1.2 0.2]\n",
      " [5.7 4.4 1.5 0.4]\n",
      " [5.4 3.9 1.3 0.4]\n",
      " [5.1 3.5 1.4 0.3]\n",
      " [5.7 3.8 1.7 0.3]\n",
      " [5.1 3.8 1.5 0.3]\n",
      " [5.4 3.4 1.7 0.2]\n",
      " [5.1 3.7 1.5 0.4]\n",
      " [4.6 3.6 1.  0.2]\n",
      " [5.1 3.3 1.7 0.5]\n",
      " [4.8 3.4 1.9 0.2]\n",
      " [5.  3.  1.6 0.2]\n",
      " [5.  3.4 1.6 0.4]\n",
      " [5.2 3.5 1.5 0.2]\n",
      " [5.2 3.4 1.4 0.2]\n",
      " [4.7 3.2 1.6 0.2]\n",
      " [4.8 3.1 1.6 0.2]\n",
      " [5.4 3.4 1.5 0.4]\n",
      " [5.2 4.1 1.5 0.1]\n",
      " [5.5 4.2 1.4 0.2]\n",
      " [4.9 3.1 1.5 0.2]\n",
      " [5.  3.2 1.2 0.2]\n",
      " [5.5 3.5 1.3 0.2]\n",
      " [4.9 3.6 1.4 0.1]\n",
      " [4.4 3.  1.3 0.2]\n",
      " [5.1 3.4 1.5 0.2]\n",
      " [5.  3.5 1.3 0.3]\n",
      " [4.5 2.3 1.3 0.3]\n",
      " [4.4 3.2 1.3 0.2]\n",
      " [5.  3.5 1.6 0.6]\n",
      " [5.1 3.8 1.9 0.4]\n",
      " [4.8 3.  1.4 0.3]\n",
      " [5.1 3.8 1.6 0.2]\n",
      " [4.6 3.2 1.4 0.2]\n",
      " [5.3 3.7 1.5 0.2]\n",
      " [5.  3.3 1.4 0.2]\n",
      " [7.  3.2 4.7 1.4]\n",
      " [6.4 3.2 4.5 1.5]\n",
      " [6.9 3.1 4.9 1.5]\n",
      " [5.5 2.3 4.  1.3]\n",
      " [6.5 2.8 4.6 1.5]\n",
      " [5.7 2.8 4.5 1.3]\n",
      " [6.3 3.3 4.7 1.6]\n",
      " [4.9 2.4 3.3 1. ]\n",
      " [6.6 2.9 4.6 1.3]\n",
      " [5.2 2.7 3.9 1.4]\n",
      " [5.  2.  3.5 1. ]\n",
      " [5.9 3.  4.2 1.5]\n",
      " [6.  2.2 4.  1. ]\n",
      " [6.1 2.9 4.7 1.4]\n",
      " [5.6 2.9 3.6 1.3]\n",
      " [6.7 3.1 4.4 1.4]\n",
      " [5.6 3.  4.5 1.5]\n",
      " [5.8 2.7 4.1 1. ]\n",
      " [6.2 2.2 4.5 1.5]\n",
      " [5.6 2.5 3.9 1.1]\n",
      " [5.9 3.2 4.8 1.8]\n",
      " [6.1 2.8 4.  1.3]\n",
      " [6.3 2.5 4.9 1.5]\n",
      " [6.1 2.8 4.7 1.2]\n",
      " [6.4 2.9 4.3 1.3]\n",
      " [6.6 3.  4.4 1.4]\n",
      " [6.8 2.8 4.8 1.4]\n",
      " [6.7 3.  5.  1.7]\n",
      " [6.  2.9 4.5 1.5]\n",
      " [5.7 2.6 3.5 1. ]\n",
      " [5.5 2.4 3.8 1.1]\n",
      " [5.5 2.4 3.7 1. ]\n",
      " [5.8 2.7 3.9 1.2]\n",
      " [6.  2.7 5.1 1.6]\n",
      " [5.4 3.  4.5 1.5]\n",
      " [6.  3.4 4.5 1.6]\n",
      " [6.7 3.1 4.7 1.5]\n",
      " [6.3 2.3 4.4 1.3]\n",
      " [5.6 3.  4.1 1.3]\n",
      " [5.5 2.5 4.  1.3]\n",
      " [5.5 2.6 4.4 1.2]\n",
      " [6.1 3.  4.6 1.4]\n",
      " [5.8 2.6 4.  1.2]\n",
      " [5.  2.3 3.3 1. ]\n",
      " [5.6 2.7 4.2 1.3]\n",
      " [5.7 3.  4.2 1.2]\n",
      " [5.7 2.9 4.2 1.3]\n",
      " [6.2 2.9 4.3 1.3]\n",
      " [5.1 2.5 3.  1.1]\n",
      " [5.7 2.8 4.1 1.3]\n",
      " [6.3 3.3 6.  2.5]\n",
      " [5.8 2.7 5.1 1.9]\n",
      " [7.1 3.  5.9 2.1]\n",
      " [6.3 2.9 5.6 1.8]\n",
      " [6.5 3.  5.8 2.2]\n",
      " [7.6 3.  6.6 2.1]\n",
      " [4.9 2.5 4.5 1.7]\n",
      " [7.3 2.9 6.3 1.8]\n",
      " [6.7 2.5 5.8 1.8]\n",
      " [7.2 3.6 6.1 2.5]\n",
      " [6.5 3.2 5.1 2. ]\n",
      " [6.4 2.7 5.3 1.9]\n",
      " [6.8 3.  5.5 2.1]\n",
      " [5.7 2.5 5.  2. ]\n",
      " [5.8 2.8 5.1 2.4]\n",
      " [6.4 3.2 5.3 2.3]\n",
      " [6.5 3.  5.5 1.8]\n",
      " [7.7 3.8 6.7 2.2]\n",
      " [7.7 2.6 6.9 2.3]\n",
      " [6.  2.2 5.  1.5]\n",
      " [6.9 3.2 5.7 2.3]\n",
      " [5.6 2.8 4.9 2. ]\n",
      " [7.7 2.8 6.7 2. ]\n",
      " [6.3 2.7 4.9 1.8]\n",
      " [6.7 3.3 5.7 2.1]\n",
      " [7.2 3.2 6.  1.8]\n",
      " [6.2 2.8 4.8 1.8]\n",
      " [6.1 3.  4.9 1.8]\n",
      " [6.4 2.8 5.6 2.1]\n",
      " [7.2 3.  5.8 1.6]\n",
      " [7.4 2.8 6.1 1.9]\n",
      " [7.9 3.8 6.4 2. ]\n",
      " [6.4 2.8 5.6 2.2]\n",
      " [6.3 2.8 5.1 1.5]\n",
      " [6.1 2.6 5.6 1.4]\n",
      " [7.7 3.  6.1 2.3]\n",
      " [6.3 3.4 5.6 2.4]\n",
      " [6.4 3.1 5.5 1.8]\n",
      " [6.  3.  4.8 1.8]\n",
      " [6.9 3.1 5.4 2.1]\n",
      " [6.7 3.1 5.6 2.4]\n",
      " [6.9 3.1 5.1 2.3]\n",
      " [5.8 2.7 5.1 1.9]\n",
      " [6.8 3.2 5.9 2.3]\n",
      " [6.7 3.3 5.7 2.5]\n",
      " [6.7 3.  5.2 2.3]\n",
      " [6.3 2.5 5.  1.9]\n",
      " [6.5 3.  5.2 2. ]\n",
      " [6.2 3.4 5.4 2.3]\n",
      " [5.9 3.  5.1 1.8]]\n",
      "目标值是：\n",
      " [0 0 0 0 0 0 0 0 0 0 0 0 0 0 0 0 0 0 0 0 0 0 0 0 0 0 0 0 0 0 0 0 0 0 0 0 0\n",
      " 0 0 0 0 0 0 0 0 0 0 0 0 0 1 1 1 1 1 1 1 1 1 1 1 1 1 1 1 1 1 1 1 1 1 1 1 1\n",
      " 1 1 1 1 1 1 1 1 1 1 1 1 1 1 1 1 1 1 1 1 1 1 1 1 1 1 2 2 2 2 2 2 2 2 2 2 2\n",
      " 2 2 2 2 2 2 2 2 2 2 2 2 2 2 2 2 2 2 2 2 2 2 2 2 2 2 2 2 2 2 2 2 2 2 2 2 2\n",
      " 2 2]\n",
      "数据集名字是：\n",
      " ['sepal length (cm)', 'sepal width (cm)', 'petal length (cm)', 'petal width (cm)']\n",
      "目标值名字是：\n",
      " ['setosa' 'versicolor' 'virginica']\n",
      "数据描述：\n",
      " .. _iris_dataset:\n",
      "\n",
      "Iris plants dataset\n",
      "--------------------\n",
      "\n",
      "**Data Set Characteristics:**\n",
      "\n",
      "    :Number of Instances: 150 (50 in each of three classes)\n",
      "    :Number of Attributes: 4 numeric, predictive attributes and the class\n",
      "    :Attribute Information:\n",
      "        - sepal length in cm\n",
      "        - sepal width in cm\n",
      "        - petal length in cm\n",
      "        - petal width in cm\n",
      "        - class:\n",
      "                - Iris-Setosa\n",
      "                - Iris-Versicolour\n",
      "                - Iris-Virginica\n",
      "                \n",
      "    :Summary Statistics:\n",
      "\n",
      "    ============== ==== ==== ======= ===== ====================\n",
      "                    Min  Max   Mean    SD   Class Correlation\n",
      "    ============== ==== ==== ======= ===== ====================\n",
      "    sepal length:   4.3  7.9   5.84   0.83    0.7826\n",
      "    sepal width:    2.0  4.4   3.05   0.43   -0.4194\n",
      "    petal length:   1.0  6.9   3.76   1.76    0.9490  (high!)\n",
      "    petal width:    0.1  2.5   1.20   0.76    0.9565  (high!)\n",
      "    ============== ==== ==== ======= ===== ====================\n",
      "\n",
      "    :Missing Attribute Values: None\n",
      "    :Class Distribution: 33.3% for each of 3 classes.\n",
      "    :Creator: R.A. Fisher\n",
      "    :Donor: Michael Marshall (MARSHALL%PLU@io.arc.nasa.gov)\n",
      "    :Date: July, 1988\n",
      "\n",
      "The famous Iris database, first used by Sir R.A. Fisher. The dataset is taken\n",
      "from Fisher's paper. Note that it's the same as in R, but not as in the UCI\n",
      "Machine Learning Repository, which has two wrong data points.\n",
      "\n",
      "This is perhaps the best known database to be found in the\n",
      "pattern recognition literature.  Fisher's paper is a classic in the field and\n",
      "is referenced frequently to this day.  (See Duda & Hart, for example.)  The\n",
      "data set contains 3 classes of 50 instances each, where each class refers to a\n",
      "type of iris plant.  One class is linearly separable from the other 2; the\n",
      "latter are NOT linearly separable from each other.\n",
      "\n",
      ".. topic:: References\n",
      "\n",
      "   - Fisher, R.A. \"The use of multiple measurements in taxonomic problems\"\n",
      "     Annual Eugenics, 7, Part II, 179-188 (1936); also in \"Contributions to\n",
      "     Mathematical Statistics\" (John Wiley, NY, 1950).\n",
      "   - Duda, R.O., & Hart, P.E. (1973) Pattern Classification and Scene Analysis.\n",
      "     (Q327.D83) John Wiley & Sons.  ISBN 0-471-22361-1.  See page 218.\n",
      "   - Dasarathy, B.V. (1980) \"Nosing Around the Neighborhood: A New System\n",
      "     Structure and Classification Rule for Recognition in Partially Exposed\n",
      "     Environments\".  IEEE Transactions on Pattern Analysis and Machine\n",
      "     Intelligence, Vol. PAMI-2, No. 1, 67-71.\n",
      "   - Gates, G.W. (1972) \"The Reduced Nearest Neighbor Rule\".  IEEE Transactions\n",
      "     on Information Theory, May 1972, 431-433.\n",
      "   - See also: 1988 MLC Proceedings, 54-64.  Cheeseman et al\"s AUTOCLASS II\n",
      "     conceptual clustering system finds 3 classes in the data.\n",
      "   - Many, many more ...\n"
     ]
    }
   ],
   "source": [
    "from sklearn.datasets import load_iris,fetch_20newsgroups\n",
    "\n",
    "# 小数据集获取\n",
    "iris = load_iris()\n",
    "# print(iris)\n",
    "\n",
    "# 大数据集获取\n",
    "# news = fetch_20newsgroups()\n",
    "# print(news)\n",
    "\n",
    "# 数据集属性\n",
    "print(\"数据集是：\\n\",iris[\"data\"])\n",
    "print(\"目标值是：\\n\",iris[\"target\"])\n",
    "print(\"数据集名字是：\\n\",iris[\"feature_names\"])\n",
    "print(\"目标值名字是：\\n\",iris[\"target_names\"])\n",
    "print(\"数据描述：\\n\",iris[\"DESCR\"])"
   ]
  },
  {
   "cell_type": "markdown",
   "metadata": {},
   "source": [
    "#### 数据集划分\n",
    "- 划分比例\n",
    "    - 训练集：70% 80% 75%\n",
    "    - 测试集：30% 20% 25%\n",
    "- sklearn.model_selection.train_test_split(arrays,*options)\n",
    "    - x：数据集的特征值\n",
    "    - y：数据集的目标值\n",
    "    - test_size：测试集的大小\n",
    "    - random_state：随机数种子，不同的种子会造成不同的随机采样的结果。\n",
    "    - 返回：x_train,x_test,y_train,y_test"
   ]
  },
  {
   "cell_type": "code",
   "execution_count": 16,
   "metadata": {
    "scrolled": true
   },
   "outputs": [
    {
     "name": "stdout",
     "output_type": "stream",
     "text": [
      "训练集特征值数据：\n",
      " [[6.6 2.9 4.6 1.3]\n",
      " [6.2 2.9 4.3 1.3]\n",
      " [7.2 3.  5.8 1.6]\n",
      " [5.8 2.8 5.1 2.4]\n",
      " [6.3 2.5 5.  1.9]\n",
      " [4.6 3.2 1.4 0.2]\n",
      " [6.7 3.3 5.7 2.1]\n",
      " [6.9 3.2 5.7 2.3]\n",
      " [7.7 2.6 6.9 2.3]\n",
      " [6.9 3.1 5.1 2.3]\n",
      " [5.  3.4 1.6 0.4]\n",
      " [5.  3.5 1.6 0.6]\n",
      " [5.2 2.7 3.9 1.4]\n",
      " [4.5 2.3 1.3 0.3]\n",
      " [6.3 3.3 4.7 1.6]\n",
      " [5.2 4.1 1.5 0.1]\n",
      " [6.9 3.1 4.9 1.5]\n",
      " [5.9 3.2 4.8 1.8]\n",
      " [5.6 2.8 4.9 2. ]\n",
      " [6.7 3.3 5.7 2.5]\n",
      " [6.2 2.2 4.5 1.5]\n",
      " [7.2 3.6 6.1 2.5]\n",
      " [5.5 2.4 3.7 1. ]\n",
      " [6.  2.9 4.5 1.5]\n",
      " [6.4 3.2 4.5 1.5]\n",
      " [5.8 4.  1.2 0.2]\n",
      " [5.3 3.7 1.5 0.2]\n",
      " [6.1 2.9 4.7 1.4]\n",
      " [5.4 3.4 1.7 0.2]\n",
      " [6.4 3.1 5.5 1.8]\n",
      " [4.7 3.2 1.6 0.2]\n",
      " [4.6 3.1 1.5 0.2]\n",
      " [4.9 2.5 4.5 1.7]\n",
      " [5.1 2.5 3.  1.1]\n",
      " [6.7 3.1 5.6 2.4]\n",
      " [4.9 3.6 1.4 0.1]\n",
      " [6.9 3.1 5.4 2.1]\n",
      " [4.8 3.  1.4 0.3]\n",
      " [5.8 2.7 3.9 1.2]\n",
      " [6.  2.7 5.1 1.6]\n",
      " [4.4 3.2 1.3 0.2]\n",
      " [6.8 3.2 5.9 2.3]\n",
      " [7.9 3.8 6.4 2. ]\n",
      " [6.5 3.  5.5 1.8]\n",
      " [7.6 3.  6.6 2.1]\n",
      " [6.3 2.8 5.1 1.5]\n",
      " [4.6 3.4 1.4 0.3]\n",
      " [5.7 2.6 3.5 1. ]\n",
      " [6.7 2.5 5.8 1.8]\n",
      " [5.7 2.8 4.1 1.3]\n",
      " [4.9 3.1 1.5 0.2]\n",
      " [6.4 2.8 5.6 2.1]\n",
      " [7.  3.2 4.7 1.4]\n",
      " [5.7 2.9 4.2 1.3]\n",
      " [5.  3.6 1.4 0.2]\n",
      " [5.4 3.9 1.7 0.4]\n",
      " [5.1 3.8 1.9 0.4]\n",
      " [5.4 3.  4.5 1.5]\n",
      " [7.4 2.8 6.1 1.9]\n",
      " [6.3 2.9 5.6 1.8]\n",
      " [6.6 3.  4.4 1.4]\n",
      " [5.  3.4 1.5 0.2]\n",
      " [5.1 3.8 1.6 0.2]\n",
      " [5.1 3.5 1.4 0.3]\n",
      " [6.5 3.  5.8 2.2]\n",
      " [5.8 2.7 5.1 1.9]\n",
      " [6.1 2.8 4.  1.3]\n",
      " [5.5 2.4 3.8 1.1]\n",
      " [6.5 3.2 5.1 2. ]\n",
      " [6.5 3.  5.2 2. ]\n",
      " [5.9 3.  5.1 1.8]\n",
      " [6.1 2.6 5.6 1.4]\n",
      " [6.4 2.9 4.3 1.3]\n",
      " [5.2 3.4 1.4 0.2]\n",
      " [4.8 3.4 1.6 0.2]\n",
      " [5.6 2.7 4.2 1.3]\n",
      " [5.1 3.3 1.7 0.5]\n",
      " [4.6 3.6 1.  0.2]\n",
      " [6.1 3.  4.9 1.8]\n",
      " [5.  2.3 3.3 1. ]\n",
      " [5.7 3.8 1.7 0.3]\n",
      " [5.2 3.5 1.5 0.2]\n",
      " [5.5 3.5 1.3 0.2]\n",
      " [4.9 2.4 3.3 1. ]\n",
      " [5.4 3.4 1.5 0.4]\n",
      " [6.7 3.1 4.4 1.4]\n",
      " [4.8 3.  1.4 0.1]\n",
      " [5.5 2.5 4.  1.3]\n",
      " [6.  2.2 5.  1.5]\n",
      " [4.8 3.1 1.6 0.2]\n",
      " [6.7 3.1 4.7 1.5]\n",
      " [5.8 2.6 4.  1.2]\n",
      " [6.2 3.4 5.4 2.3]\n",
      " [5.  3.  1.6 0.2]\n",
      " [6.  3.  4.8 1.8]\n",
      " [4.3 3.  1.1 0.1]\n",
      " [5.6 2.5 3.9 1.1]\n",
      " [6.7 3.  5.  1.7]\n",
      " [7.7 3.  6.1 2.3]\n",
      " [6.3 3.4 5.6 2.4]\n",
      " [5.5 4.2 1.4 0.2]\n",
      " [6.  2.2 4.  1. ]\n",
      " [7.7 2.8 6.7 2. ]\n",
      " [7.3 2.9 6.3 1.8]\n",
      " [5.6 3.  4.1 1.3]\n",
      " [6.5 2.8 4.6 1.5]\n",
      " [6.3 3.3 6.  2.5]\n",
      " [5.4 3.9 1.3 0.4]\n",
      " [6.4 3.2 5.3 2.3]\n",
      " [5.  3.5 1.3 0.3]\n",
      " [5.1 3.5 1.4 0.2]\n",
      " [6.1 2.8 4.7 1.2]\n",
      " [4.4 2.9 1.4 0.2]\n",
      " [6.7 3.  5.2 2.3]\n",
      " [6.3 2.7 4.9 1.8]\n",
      " [5.7 2.5 5.  2. ]\n",
      " [5.6 2.9 3.6 1.3]\n",
      " [5.7 4.4 1.5 0.4]\n",
      " [7.2 3.2 6.  1.8]\n",
      " [4.9 3.1 1.5 0.1]]\n",
      "训练集目标值数据：\n",
      " [1 1 2 2 2 0 2 2 2 2 0 0 1 0 1 0 1 1 2 2 1 2 1 1 1 0 0 1 0 2 0 0 2 1 2 0 2\n",
      " 0 1 1 0 2 2 2 2 2 0 1 2 1 0 2 1 1 0 0 0 1 2 2 1 0 0 0 2 2 1 1 2 2 2 2 1 0\n",
      " 0 1 0 0 2 1 0 0 0 1 0 1 0 1 2 0 1 1 2 0 2 0 1 1 2 2 0 1 2 2 1 1 2 0 2 0 0\n",
      " 1 0 2 2 2 1 0 2 0]\n",
      "测试集特征值数据：\n",
      " [[6.3 2.3 4.4 1.3]\n",
      " [6.4 2.7 5.3 1.9]\n",
      " [5.4 3.7 1.5 0.2]\n",
      " [6.1 3.  4.6 1.4]\n",
      " [5.  3.3 1.4 0.2]\n",
      " [5.  2.  3.5 1. ]\n",
      " [6.3 2.5 4.9 1.5]\n",
      " [5.8 2.7 4.1 1. ]\n",
      " [5.1 3.4 1.5 0.2]\n",
      " [5.7 2.8 4.5 1.3]\n",
      " [5.6 3.  4.5 1.5]\n",
      " [5.8 2.7 5.1 1.9]\n",
      " [5.5 2.3 4.  1.3]\n",
      " [4.9 3.  1.4 0.2]\n",
      " [5.1 3.8 1.5 0.3]\n",
      " [6.8 3.  5.5 2.1]\n",
      " [6.  3.4 4.5 1.6]\n",
      " [4.4 3.  1.3 0.2]\n",
      " [5.1 3.7 1.5 0.4]\n",
      " [5.  3.2 1.2 0.2]\n",
      " [7.1 3.  5.9 2.1]\n",
      " [6.4 2.8 5.6 2.2]\n",
      " [6.2 2.8 4.8 1.8]\n",
      " [4.8 3.4 1.9 0.2]\n",
      " [5.9 3.  4.2 1.5]\n",
      " [4.7 3.2 1.3 0.2]\n",
      " [5.7 3.  4.2 1.2]\n",
      " [5.5 2.6 4.4 1.2]\n",
      " [6.8 2.8 4.8 1.4]\n",
      " [7.7 3.8 6.7 2.2]]\n",
      "测试集目标值数据：\n",
      " [1 2 0 1 0 1 1 1 0 1 1 2 1 0 0 2 1 0 0 0 2 2 2 0 1 0 1 1 1 2]\n",
      "测试集目标值数据形状：\n",
      " (30,)\n",
      "随机种子=10，c测试集目标值：\n",
      " [1 2 0 1 0 1 1 1 0 1 1 2 1 0 0 2 1 0 0 0 2 2 2 0 1 0 1 1 1 2]\n",
      "随机种子=22，c测试集目标值：\n",
      " [0 2 1 2 1 1 1 2 1 0 2 1 2 2 0 2 1 1 2 1 0 2 0 1 2 0 2 2 2 2]\n",
      "随机种子=22，c测试集目标值：\n",
      " [0 2 1 2 1 1 1 2 1 0 2 1 2 2 0 2 1 1 2 1 0 2 0 1 2 0 2 2 2 2]\n"
     ]
    }
   ],
   "source": [
    "from sklearn.datasets import load_iris\n",
    "from sklearn.model_selection import train_test_split\n",
    "\n",
    "iris = load_iris()\n",
    "x_train,x_test,y_train,y_test = train_test_split(iris[\"data\"],iris[\"target\"],test_size=0.2,random_state=10)\n",
    "print(\"训练集特征值数据：\\n\",x_train)\n",
    "print(\"训练集目标值数据：\\n\",y_train)\n",
    "print(\"测试集特征值数据：\\n\",x_test)\n",
    "print(\"测试集目标值数据：\\n\",y_test)\n",
    "\n",
    "\n",
    "x_train1,x_test1,y_train1,y_test1 = train_test_split(iris[\"data\"],iris[\"target\"],test_size=0.2,random_state=22)\n",
    "x_train2,x_test2,y_train2,y_test2 = train_test_split(iris[\"data\"],iris[\"target\"],test_size=0.2,random_state=22)\n",
    "print(\"随机种子=10，c测试集目标值：\\n\",y_test)\n",
    "print(\"随机种子=22，c测试集目标值：\\n\",y_test1)\n",
    "print(\"随机种子=22，c测试集目标值：\\n\",y_test2)"
   ]
  },
  {
   "cell_type": "markdown",
   "metadata": {},
   "source": [
    "### 特征工程-特征预处理\n",
    "- 定义：通过一些转换函数将特征数据转换成更加适合算法模型的特征数据过程\n",
    "- sklearn.preprocessing\n",
    "\n",
    "- 为什么需要进行归一化和标准化？\n",
    "    - 特征的单位或者大小相差较大，或者某特征的方差相比其他的特征要大出几个数量级，容易影响(支配)目标结果，使得一些算法无法学习到其它的特征\n",
    "\n",
    "- 归一化\n",
    "    - 通过对原始数据进行变换把数据映射到(默认为[0,1])之间\n",
    "    - 通常对特征值数据进行归一化，不对目标值进行\n",
    "    \n",
    "    - 公式：\n",
    "        - X' = （x - min）/（max - min）；X'' = X' * （mx-mi）+mi\n",
    "        - 作用于每一列, max为一列的最大值，min为一列的最小值,那么X''为最终结果，mx, mi分别为指定区间值（默认mx=1,mi=0）\n",
    "\n",
    "    - sklearn.preprossing.MinMaxScaler(feature_range=(0,1))\n",
    "        - MinMaxScaler.fit_transform(x)\n",
    "            - x：numpy array格式的数据\n",
    "            - 返回：转换后的形状相同的array\n",
    "            \n",
    "    - 总结：\n",
    "        - 注意最大值最小值是变化的，另外，最大值与最小值非常容易受异常点影响，所以这种方法鲁棒性较差，只适合传统精确小数据场景\n",
    "\n",
    "\n",
    "- 标准化\n",
    "    - 通过对原始数据进行变换把数据变换到均值为0,标准差为1范围内\n",
    "    - 公式：\n",
    "        - X' = （x - mean）/σ，σ：标准差\n",
    "    \n",
    "    - 对于归一化来说:如果出现异常点，影响了最大值和最小值，那么结果显然会发生改变\n",
    "    - 对于标准化来说:如果出现异常点，由于具有一定数据量，少量的异常点对于平均值的影响并不大，从而方差改变较小。\n",
    "    \n",
    "    - sklearn.preprossing.StrandardScaler()\n",
    "        - StandardScaler.fit_transform(x)\n",
    "            - x：numpy array格式的数据\n",
    "            - 返回：转换后的形状相同的array\n",
    "    - 总结：\n",
    "        - 在已有样本足够多的情况下比较稳定，适合现代嘈杂大数据场景。\n"
   ]
  },
  {
   "cell_type": "code",
   "execution_count": 26,
   "metadata": {},
   "outputs": [
    {
     "data": {
      "text/html": [
       "<div>\n",
       "<style scoped>\n",
       "    .dataframe tbody tr th:only-of-type {\n",
       "        vertical-align: middle;\n",
       "    }\n",
       "\n",
       "    .dataframe tbody tr th {\n",
       "        vertical-align: top;\n",
       "    }\n",
       "\n",
       "    .dataframe thead th {\n",
       "        text-align: right;\n",
       "    }\n",
       "</style>\n",
       "<table border=\"1\" class=\"dataframe\">\n",
       "  <thead>\n",
       "    <tr style=\"text-align: right;\">\n",
       "      <th></th>\n",
       "      <th>milage</th>\n",
       "      <th>Liters</th>\n",
       "      <th>Consumtime</th>\n",
       "      <th>target</th>\n",
       "    </tr>\n",
       "  </thead>\n",
       "  <tbody>\n",
       "    <tr>\n",
       "      <th>0</th>\n",
       "      <td>0.448325</td>\n",
       "      <td>0.398051</td>\n",
       "      <td>0.562334</td>\n",
       "      <td>3</td>\n",
       "    </tr>\n",
       "    <tr>\n",
       "      <th>1</th>\n",
       "      <td>0.158733</td>\n",
       "      <td>0.341955</td>\n",
       "      <td>0.987244</td>\n",
       "      <td>2</td>\n",
       "    </tr>\n",
       "    <tr>\n",
       "      <th>2</th>\n",
       "      <td>0.285429</td>\n",
       "      <td>0.068925</td>\n",
       "      <td>0.474496</td>\n",
       "      <td>1</td>\n",
       "    </tr>\n",
       "    <tr>\n",
       "      <th>3</th>\n",
       "      <td>0.823201</td>\n",
       "      <td>0.628480</td>\n",
       "      <td>0.252489</td>\n",
       "      <td>1</td>\n",
       "    </tr>\n",
       "    <tr>\n",
       "      <th>4</th>\n",
       "      <td>0.420102</td>\n",
       "      <td>0.079820</td>\n",
       "      <td>0.078578</td>\n",
       "      <td>1</td>\n",
       "    </tr>\n",
       "    <tr>\n",
       "      <th>...</th>\n",
       "      <td>...</td>\n",
       "      <td>...</td>\n",
       "      <td>...</td>\n",
       "      <td>...</td>\n",
       "    </tr>\n",
       "    <tr>\n",
       "      <th>995</th>\n",
       "      <td>0.122106</td>\n",
       "      <td>0.163037</td>\n",
       "      <td>0.372224</td>\n",
       "      <td>2</td>\n",
       "    </tr>\n",
       "    <tr>\n",
       "      <th>996</th>\n",
       "      <td>0.754287</td>\n",
       "      <td>0.476818</td>\n",
       "      <td>0.394621</td>\n",
       "      <td>1</td>\n",
       "    </tr>\n",
       "    <tr>\n",
       "      <th>997</th>\n",
       "      <td>0.291159</td>\n",
       "      <td>0.509103</td>\n",
       "      <td>0.510795</td>\n",
       "      <td>3</td>\n",
       "    </tr>\n",
       "    <tr>\n",
       "      <th>998</th>\n",
       "      <td>0.527111</td>\n",
       "      <td>0.436655</td>\n",
       "      <td>0.429005</td>\n",
       "      <td>3</td>\n",
       "    </tr>\n",
       "    <tr>\n",
       "      <th>999</th>\n",
       "      <td>0.479408</td>\n",
       "      <td>0.376809</td>\n",
       "      <td>0.785718</td>\n",
       "      <td>3</td>\n",
       "    </tr>\n",
       "  </tbody>\n",
       "</table>\n",
       "<p>1000 rows × 4 columns</p>\n",
       "</div>"
      ],
      "text/plain": [
       "       milage    Liters  Consumtime  target\n",
       "0    0.448325  0.398051    0.562334       3\n",
       "1    0.158733  0.341955    0.987244       2\n",
       "2    0.285429  0.068925    0.474496       1\n",
       "3    0.823201  0.628480    0.252489       1\n",
       "4    0.420102  0.079820    0.078578       1\n",
       "..        ...       ...         ...     ...\n",
       "995  0.122106  0.163037    0.372224       2\n",
       "996  0.754287  0.476818    0.394621       1\n",
       "997  0.291159  0.509103    0.510795       3\n",
       "998  0.527111  0.436655    0.429005       3\n",
       "999  0.479408  0.376809    0.785718       3\n",
       "\n",
       "[1000 rows x 4 columns]"
      ]
     },
     "execution_count": 26,
     "metadata": {},
     "output_type": "execute_result"
    }
   ],
   "source": [
    "# 归一化\n",
    "\n",
    "import pandas as pd\n",
    "from pandas import Series,DataFrame\n",
    "from sklearn.preprocessing import MinMaxScaler\n",
    "\n",
    "data = pd.read_csv(\"./data/dating.txt\")\n",
    "\n",
    "# 进行归一化\n",
    "scaler = MinMaxScaler()\n",
    "normal = scaler.fit_transform(data[[\"milage\",\"Liters\",\"Consumtime\"]])\n",
    "\n",
    "# 将归一化后的数据进行赋值\n",
    "data[[\"milage\",\"Liters\",\"Consumtime\"]] = normal\n",
    "\n",
    "data"
   ]
  },
  {
   "cell_type": "code",
   "execution_count": 28,
   "metadata": {},
   "outputs": [
    {
     "data": {
      "text/html": [
       "<div>\n",
       "<style scoped>\n",
       "    .dataframe tbody tr th:only-of-type {\n",
       "        vertical-align: middle;\n",
       "    }\n",
       "\n",
       "    .dataframe tbody tr th {\n",
       "        vertical-align: top;\n",
       "    }\n",
       "\n",
       "    .dataframe thead th {\n",
       "        text-align: right;\n",
       "    }\n",
       "</style>\n",
       "<table border=\"1\" class=\"dataframe\">\n",
       "  <thead>\n",
       "    <tr style=\"text-align: right;\">\n",
       "      <th></th>\n",
       "      <th>milage</th>\n",
       "      <th>Liters</th>\n",
       "      <th>Consumtime</th>\n",
       "      <th>target</th>\n",
       "    </tr>\n",
       "  </thead>\n",
       "  <tbody>\n",
       "    <tr>\n",
       "      <th>0</th>\n",
       "      <td>0.331932</td>\n",
       "      <td>0.416602</td>\n",
       "      <td>0.245234</td>\n",
       "      <td>3</td>\n",
       "    </tr>\n",
       "    <tr>\n",
       "      <th>1</th>\n",
       "      <td>-0.872478</td>\n",
       "      <td>0.139929</td>\n",
       "      <td>1.693857</td>\n",
       "      <td>2</td>\n",
       "    </tr>\n",
       "    <tr>\n",
       "      <th>2</th>\n",
       "      <td>-0.345549</td>\n",
       "      <td>-1.206671</td>\n",
       "      <td>-0.054224</td>\n",
       "      <td>1</td>\n",
       "    </tr>\n",
       "    <tr>\n",
       "      <th>3</th>\n",
       "      <td>1.891029</td>\n",
       "      <td>1.553092</td>\n",
       "      <td>-0.811100</td>\n",
       "      <td>1</td>\n",
       "    </tr>\n",
       "    <tr>\n",
       "      <th>4</th>\n",
       "      <td>0.214553</td>\n",
       "      <td>-1.152936</td>\n",
       "      <td>-1.404005</td>\n",
       "      <td>1</td>\n",
       "    </tr>\n",
       "    <tr>\n",
       "      <th>...</th>\n",
       "      <td>...</td>\n",
       "      <td>...</td>\n",
       "      <td>...</td>\n",
       "      <td>...</td>\n",
       "    </tr>\n",
       "    <tr>\n",
       "      <th>995</th>\n",
       "      <td>-1.024806</td>\n",
       "      <td>-0.742505</td>\n",
       "      <td>-0.402895</td>\n",
       "      <td>2</td>\n",
       "    </tr>\n",
       "    <tr>\n",
       "      <th>996</th>\n",
       "      <td>1.604417</td>\n",
       "      <td>0.805083</td>\n",
       "      <td>-0.326537</td>\n",
       "      <td>1</td>\n",
       "    </tr>\n",
       "    <tr>\n",
       "      <th>997</th>\n",
       "      <td>-0.321718</td>\n",
       "      <td>0.964316</td>\n",
       "      <td>0.069526</td>\n",
       "      <td>3</td>\n",
       "    </tr>\n",
       "    <tr>\n",
       "      <th>998</th>\n",
       "      <td>0.659599</td>\n",
       "      <td>0.606995</td>\n",
       "      <td>-0.209316</td>\n",
       "      <td>3</td>\n",
       "    </tr>\n",
       "    <tr>\n",
       "      <th>999</th>\n",
       "      <td>0.461203</td>\n",
       "      <td>0.311833</td>\n",
       "      <td>1.006806</td>\n",
       "      <td>3</td>\n",
       "    </tr>\n",
       "  </tbody>\n",
       "</table>\n",
       "<p>1000 rows × 4 columns</p>\n",
       "</div>"
      ],
      "text/plain": [
       "       milage    Liters  Consumtime  target\n",
       "0    0.331932  0.416602    0.245234       3\n",
       "1   -0.872478  0.139929    1.693857       2\n",
       "2   -0.345549 -1.206671   -0.054224       1\n",
       "3    1.891029  1.553092   -0.811100       1\n",
       "4    0.214553 -1.152936   -1.404005       1\n",
       "..        ...       ...         ...     ...\n",
       "995 -1.024806 -0.742505   -0.402895       2\n",
       "996  1.604417  0.805083   -0.326537       1\n",
       "997 -0.321718  0.964316    0.069526       3\n",
       "998  0.659599  0.606995   -0.209316       3\n",
       "999  0.461203  0.311833    1.006806       3\n",
       "\n",
       "[1000 rows x 4 columns]"
      ]
     },
     "execution_count": 28,
     "metadata": {},
     "output_type": "execute_result"
    }
   ],
   "source": [
    "# 标准化\n",
    "\n",
    "import pandas as pd\n",
    "from sklearn.preprocessing import StandardScaler,MinMaxScaler\n",
    "\n",
    "data = pd.read_csv(\"./data/dating.txt\")\n",
    "\n",
    "# 进行标准化\n",
    "scaler = StandardScaler()\n",
    "standard = scaler.fit_transform(data[[\"milage\",\"Liters\",\"Consumtime\"]])\n",
    "\n",
    "# 将标准化后的数据进行赋值\n",
    "data[[\"milage\",\"Liters\",\"Consumtime\"]] = standard\n",
    "\n",
    "data"
   ]
  },
  {
   "cell_type": "markdown",
   "metadata": {},
   "source": [
    "### 机器学习流程\n",
    "- 1、获取数据\n",
    "- 2、数据基本处理\n",
    "- 3、特征工程-特征预处理\n",
    "- 4、机器学习\n",
    "- 5、模型评估"
   ]
  },
  {
   "cell_type": "code",
   "execution_count": 60,
   "metadata": {},
   "outputs": [
    {
     "name": "stdout",
     "output_type": "stream",
     "text": [
      "预测值：\n",
      " [0 1 1 2 1 1 2 0 2 0 2 1 1 0 0 2 0 1 2 1 1 1 2 0 2 1 1 0 2 1]\n",
      "预测值与真实值对比：\n",
      " [ True  True  True  True  True  True  True  True  True  True  True  True\n",
      " False  True  True  True  True  True  True  True  True False  True  True\n",
      " False  True  True  True  True False]\n",
      "模型评价：\n",
      " 0.8666666666666667\n"
     ]
    }
   ],
   "source": [
    "from sklearn.datasets import load_iris\n",
    "from sklearn.model_selection import train_test_split\n",
    "from sklearn.preprocessing import StandardScaler\n",
    "from sklearn.neighbors import KNeighborsClassifier\n",
    "\n",
    "# 1、获取数据\n",
    "data = load_iris()\n",
    "\n",
    "# 2、数据基本处理\n",
    "# 2.1 数据集划分\n",
    "x_train,x_test,y_train,y_test = train_test_split(data[\"data\"],data[\"target\"],test_size=0.2,random_state=20)\n",
    "\n",
    "# 3、特征工程-特征预处理\n",
    "# 3.1 实例化对象\n",
    "standard = StandardScaler()\n",
    "# 3.2 标准化\n",
    "x_train = standard.fit_transform(x_train)\n",
    "x_test = standard.fit_transform(x_test)\n",
    "\n",
    "# 4、机器学习-KNN\n",
    "# 4.1 实例化对象\n",
    "estimator = KNeighborsClassifier()\n",
    "# 4.2 训练数据\n",
    "estimator.fit(x_train,y_train)\n",
    "\n",
    "# 5、模型评估\n",
    "# 5.1 预测结果输出\n",
    "pre = estimator.predict(x_test)\n",
    "print(\"预测值：\\n\",pre)\n",
    "print(\"预测值与真实值对比：\\n\",pre==y_test)\n",
    "\n",
    "# 5.2 模型评估\n",
    "score = estimator.score(x_test,y_test)\n",
    "print(\"模型评价：\\n\",score)\n"
   ]
  },
  {
   "cell_type": "markdown",
   "metadata": {},
   "source": [
    "### 交叉验证、网格搜索\n",
    "- 交叉验证：将拿到的训练数据，分为训练集和测试集。以下有例子：将数据分成4份，其中一份作为测试集。然后经过4次(组)的测试，每次都更换不同的验证集。即得到4组模型的结果，取平均值作为最终结果。又称4折交叉验证。常用取值 K = 10，5，20\n",
    "- 数据集：训练集 + 测试集\n",
    "\n",
    "例：\n",
    "\n",
    "验证集 训练集 训练集 训练集  80%\n",
    "\n",
    "训练集 验证集 训练集 训练集  78%\n",
    "\n",
    "训练集 训练集 验证集 训练集  75%\n",
    "\n",
    "训练集 训练集 训练集 验证集  82%\n",
    "\n",
    "- 为什么进行交叉验证？\n",
    "    - 为了让被评估的模型更加准确可信\n",
    "\n",
    "- 网格搜索\n",
    "    - 通常情况下，有很多参数是需要手动指定的(如：K-近邻算法中的K值)，这种叫超参数。但是手动过程繁杂，所以需要对模型预设几种超参数组合。每组超参数都采用交叉验证来进行评估。最后选出最优参数组合建立模型。\n",
    "\n",
    "- sklearn.model_selection.GridSearchCV(estimator,param_grid=None,cv=None,n_jobs=None)\n",
    "    - estimator：估计器对象\n",
    "    - param_grid：dict类型，estimator的参数。如：{\"n_neighbors\":[1,3,5]}\n",
    "    - cv：几折交叉验证\n",
    "    - n_jobs：-1表示使用所有CPU进行处理，1表示使用1个CPU进行处理，2表示使用2个CPU进行处理,...\n",
    "    - 属性：\n",
    "        - best_score_：在叫交叉验证中验证的最好结果\n",
    "        - best_estimator_：最好的参数模型\n",
    "        - cv_results_：每次交叉验证后的验证集准确率结果和训练集准确率结果\n"
   ]
  },
  {
   "cell_type": "code",
   "execution_count": 76,
   "metadata": {},
   "outputs": [
    {
     "name": "stdout",
     "output_type": "stream",
     "text": [
      "预测结果\n",
      " [0 1 1 2 1 1 2 0 2 0 2 1 1 0 0 2 0 1 2 1 1 1 2 0 2 1 1 0 2 1]\n",
      "预测结果与真实值对比\n",
      " [ True  True  True  True  True  True  True  True  True  True  True  True\n",
      " False  True  True  True  True  True  True  True  True False  True  True\n",
      " False  True  True  True  True False]\n",
      "模型训练估计准确率\n",
      " 0.8666666666666667\n",
      "交叉验证中验证的最好结果\n",
      " 0.9666666666666667\n",
      "最好的模型\n",
      " KNeighborsClassifier()\n",
      "最好模型的参数\n",
      " {'n_neighbors': 5}\n",
      "每次交叉验证后的验证集准确率结果和训练集准确率结果\n",
      " {'mean_fit_time': array([0.00049865, 0.00098985, 0.00074935, 0.00099272, 0.00049871]), 'std_fit_time': array([4.98652458e-04, 8.09460922e-06, 4.32639894e-04, 6.96895353e-04,\n",
      "       4.98712241e-04]), 'mean_score_time': array([0.00249368, 0.00423855, 0.00300014, 0.00224519, 0.0019955 ]), 'std_score_time': array([0.00111521, 0.00163487, 0.00235389, 0.00045649, 0.00072149]), 'param_n_neighbors': masked_array(data=[1, 3, 5, 7, 10],\n",
      "             mask=[False, False, False, False, False],\n",
      "       fill_value='?',\n",
      "            dtype=object), 'params': [{'n_neighbors': 1}, {'n_neighbors': 3}, {'n_neighbors': 5}, {'n_neighbors': 7}, {'n_neighbors': 10}], 'split0_test_score': array([0.93333333, 0.93333333, 0.93333333, 0.93333333, 0.93333333]), 'split1_test_score': array([1.        , 0.93333333, 0.96666667, 0.96666667, 1.        ]), 'split2_test_score': array([0.9       , 0.96666667, 1.        , 1.        , 0.96666667]), 'split3_test_score': array([0.96666667, 0.96666667, 0.96666667, 0.96666667, 0.96666667]), 'mean_test_score': array([0.95      , 0.95      , 0.96666667, 0.96666667, 0.96666667]), 'std_test_score': array([0.0372678 , 0.01666667, 0.02357023, 0.02357023, 0.02357023]), 'rank_test_score': array([4, 4, 1, 1, 1])}\n"
     ]
    }
   ],
   "source": [
    "from sklearn.datasets import load_iris\n",
    "from sklearn.model_selection import train_test_split,GridSearchCV\n",
    "from sklearn.preprocessing import StandardScaler\n",
    "from sklearn.neighbors import KNeighborsClassifier\n",
    "\n",
    "# 获取数据\n",
    "iris = load_iris()\n",
    "\n",
    "# 数据基本处理\n",
    "x_train,x_test,y_train,y_test = train_test_split(iris[\"data\"],iris[\"target\"],test_size=0.2,random_state=20)\n",
    "\n",
    "# 特征工程-特征预处理\n",
    "# 标准化\n",
    "standard = StandardScaler()\n",
    "x_train = standard.fit_transform(x_train)\n",
    "x_test = standard.fit_transform(x_test)\n",
    "\n",
    "# 机器学习\n",
    "estimator = KNeighborsClassifier()\n",
    "# 模型调优：网格搜索、交叉验证\n",
    "estimator = GridSearchCV(estimator,param_grid={\"n_neighbors\":[1,3,5,7,10]},cv=4)\n",
    "# 训练数据\n",
    "estimator.fit(x_train,y_train)\n",
    "\n",
    "# 模型评估\n",
    "y_pre = estimator.predict(x_test)\n",
    "\n",
    "print(\"预测结果\\n\",y_pre)\n",
    "print(\"预测结果与真实值对比\\n\",y_pre==y_test)\n",
    "\n",
    "score = estimator.score(x_test,y_test)\n",
    "print(\"模型训练估计准确率\\n\",score)\n",
    "\n",
    "\n",
    "# 模型调优的一些属性\n",
    "print(\"交叉验证中验证的最好结果\\n\",estimator.best_score_)\n",
    "print(\"最好的模型\\n\",estimator.best_estimator_)\n",
    "print(\"最好模型的参数\\n\",estimator.best_params_)\n",
    "print(\"每次交叉验证后的验证集准确率结果和训练集准确率结果\\n\",estimator.cv_results_)"
   ]
  },
  {
   "cell_type": "markdown",
   "metadata": {},
   "source": [
    "### 预测Facebook签到位置"
   ]
  },
  {
   "cell_type": "code",
   "execution_count": 7,
   "metadata": {},
   "outputs": [],
   "source": [
    "import pandas as pd\n",
    "from pandas import Series,DataFrame\n",
    "from sklearn.model_selection import train_test_split,GridSearchCV\n",
    "from sklearn.preprocessing import StandardScaler\n",
    "from sklearn.neighbors import KNeighborsClassifier\n",
    "\n",
    "# 1、获取数据\n",
    "fb_data = pd.read_csv('./data/facebookLoc/train.csv')\n",
    "# fb_loc_test = pd.read_csv('./data/facebookLoc/test.csv')"
   ]
  },
  {
   "cell_type": "code",
   "execution_count": 66,
   "metadata": {},
   "outputs": [
    {
     "name": "stdout",
     "output_type": "stream",
     "text": [
      "模型评分： 0.40849543469630806\n"
     ]
    }
   ],
   "source": [
    "# 2、数据基本处理\n",
    "# 2.1 缩小数据范围\n",
    "fb_data = fb_data.query(\" (x>2.0 & x<2.5) & (y>2.0 & y<2.5) \")\n",
    "# 2.2 选择时间特征\n",
    "time = pd.to_datetime(fb_data[\"time\"],unit=\"s\")\n",
    "time = pd.DatetimeIndex(time)\n",
    "fb_data[\"time\"] = time\n",
    "fb_data[\"day\"] = time.day\n",
    "fb_data[\"hour\"] = time.hour\n",
    "fb_data[\"weekday\"] = time.weekday\n",
    "# 2.3 去除签到较少的地方\n",
    "place_count = fb_data.groupby(by=\"place_id\").count()    \n",
    "place_count = place_count[place_count[\"row_id\"]>30]     # 筛选大于30的数据\n",
    "fb_data = fb_data[fb_data[\"place_id\"].isin(place_count.index)]\n",
    "# 2.4 确定特征值和目标值\n",
    "x = fb_data[['x','y','accuracy','day','hour','weekday']]\n",
    "y = fb_data['place_id']\n",
    "# 2.5 分割数据集\n",
    "x_train,x_test,y_train,y_test = train_test_split(x,y,test_size=0.2,random_state=20)\n",
    "\n",
    "# 3、特征工程-特征预处理（标准化）\n",
    "standard = StandardScaler()\n",
    "x_train = standard.fit_transform(x_train)\n",
    "x_test = standard.fit_transform(x_test)\n",
    "\n",
    "# 4、机器学习-KNN\n",
    "estimator = KNeighborsClassifier()\n",
    "# 交叉验证、网格搜索\n",
    "estimator = GridSearchCV(estimator,param_grid={\"n_neighbors\":[3,5,7,9]},n_jobs=-1)\n",
    "# 训练数据\n",
    "estimator.fit(x_train,y_train)\n",
    "\n",
    "# 5、模型评估\n",
    "score = estimator.score(x_test,y_test)\n",
    "print(\"模型评分：\",score)"
   ]
  },
  {
   "cell_type": "markdown",
   "metadata": {},
   "source": [
    "### 数据分割：留出法、交叉验证法、自助法\n",
    "\n",
    "- 留出法：\n",
    "    - 概念：将数据集D划分为两个互斥的集合，其中一个集合为训练集S，另一个为测试集T，在S上训练出模型后，用T来评估其测试误差，作为对泛化误差的估计。\n",
    "    - 训练/测试集的划分要尽可能保持数据分布的一致性（即类别比例相似），避免因数据划分过程中引入的额外的偏差而对最终结果产生影响。如果从采样的角度来看待数据集的划分过程，则保留类别比例的采样方式通常称为分层采样。\n",
    "    - 在使用留出法的时候，一般要采用若干次随即划分、重复进行实验评估后取平均值作为留出法的结果。\n",
    "    - 一般来说，大约2/3~4/5的样本用于训练，其余用于测试。\n",
    "    - 留出法的特例：留一法（Leave-One-Out，简称LOO），即每次抽取一个样本为测试集。\n",
    "        - 优点：留一法不受随机样本划分方式的影响，因为m个样本只有唯一的方式划分为m个子集，即每一个子集包含一个样本；留一法使用的训练集与初始数据集相比只少了一个样本，也就是说留一法中被实际评估的模型与期望评估的用D训练出的模型很相似。\n",
    "        - 缺点：在数据集比较大的时候，训练m个模型的计算开销可能是难以忍受的；留一法的估计结果也未必永远比其他评估方法准确。\n",
    "        - from sklearn.model_selection import LeaveOneOut\n",
    "\n",
    "- 交叉验证法\n",
    "    - 前面已经讲解，这里不再细说。\n",
    "    - from sklearn.model_selection import KFold,StratifiedKFold\n",
    "    - StratifiedKFold和KFold区别是: SKFold是分层采样，确保训练集和验证集中，各类别样本的比例是和原始数据集中的一致。\n",
    "    - KFold与StratifiedKFold的split(X,y)方法：\n",
    "        - X：训练集（包括验证集）\n",
    "        - y：目标值。该参数在StratifiedKFold类下，有分类作用，但是在KFold类下可以无需输入。\n",
    "  \n",
    "- 自助法\n",
    "    - 概念：给定包含m个样本的数据集D，对它进行采样产生数据集D’：每次随机从D中挑选一个样本，将其拷贝放入D'，然后将该样本放回数据集D中，使该样本在下次采样时仍优可能被；重复m次后，得到包含m个样本的数据集D’。\n",
    "    - 样本不被采到的概率：高等数学中第二个重要极限的倒数，约等于0.368。\n",
    "    - 包外估计：有一部分没有在训练集中出现的样本用于验证产生的结果称为包外估计。\n",
    "    - 优点：自助法在数据集较小、难以有效划分训练/测试集时很有用；自助法能从初始数据集中产生多个不同的训练集，这对集成学习等方法有很大的好处。\n",
    "    - 缺点：自助法产生的数据集改变了初始数据集的分布，这会引入估计偏差。\n"
   ]
  },
  {
   "cell_type": "code",
   "execution_count": 7,
   "metadata": {},
   "outputs": [
    {
     "name": "stdout",
     "output_type": "stream",
     "text": [
      "[1 2 3] [0]\n",
      "[0 2 3] [1]\n",
      "[0 1 3] [2]\n",
      "[0 1 2] [3]\n"
     ]
    }
   ],
   "source": [
    "# 留一法\n",
    "\n",
    "from sklearn.model_selection import LeaveOneOut\n",
    "\n",
    "data = [1,2,3,4]\n",
    "loo = LeaveOneOut()\n",
    "for train,test in loo.split(data):\n",
    "    print(\"%s %s\" % (train,test))"
   ]
  },
  {
   "cell_type": "code",
   "execution_count": 75,
   "metadata": {},
   "outputs": [
    {
     "name": "stdout",
     "output_type": "stream",
     "text": [
      "训练集： [2 3 4 5 6 7]\n",
      "验证集： [0 1]\n",
      "训练集： [0 1 4 5 6 7]\n",
      "验证集： [2 3]\n",
      "训练集： [0 1 2 3 6 7]\n",
      "验证集： [4 5]\n",
      "训练集： [0 1 2 3 4 5]\n",
      "验证集： [6 7]\n",
      "******************************************************\n",
      "训练集： [1 3 4 5 6 7]\n",
      "验证集： [0 2]\n",
      "训练集： [0 2 4 5 6 7]\n",
      "验证集： [1 3]\n",
      "训练集： [0 1 2 3 5 7]\n",
      "验证集： [4 6]\n",
      "训练集： [0 1 2 3 4 6]\n",
      "验证集： [5 7]\n"
     ]
    }
   ],
   "source": [
    "# 交叉验证法：KFold、StratifiedKFold\n",
    "\n",
    "import numpy as np\n",
    "from sklearn.model_selection import KFold,StratifiedKFold\n",
    "X = np.array([\n",
    "    [1,2,3,4],\n",
    "    [11,12,13,14],\n",
    "    [21,22,23,24],\n",
    "    [31,32,33,34],\n",
    "    [41,42,43,44],\n",
    "    [51,52,53,54],\n",
    "    [61,62,63, 64],\n",
    "    [71, 72,73, 74]\n",
    "])\n",
    "y = np.array([1,1,0,0,1,1,0,0])\n",
    "\n",
    "kf = KFold(n_splits=4)\n",
    "skf = StratifiedKFold(n_splits=4)\n",
    "\n",
    "# 输出的是索引\n",
    "\n",
    "for train_index,veri_index in kf.split(X,y):\n",
    "    print(\"训练集：\",train_index)\n",
    "    print(\"验证集：\",veri_index)\n",
    "\n",
    "print(\"******************************************************\")\n",
    "    \n",
    "for train_index,veri_index in skf.split(X,y):\n",
    "    print(\"训练集：\",train_index)\n",
    "    print(\"验证集：\",veri_index)\n"
   ]
  },
  {
   "cell_type": "markdown",
   "metadata": {},
   "source": [
    "### 线性回归\n",
    "- 定义：线性回归(Linear regression)是利用回归方程(函数)对一个或多个自变量(特征值)和因变量(目标值)之间关系进行建模的一种分析方式。\n",
    "- 特点：只有一个自变量的情况称为单变量回归，多于一个自变量情况的叫做多元回归。\n",
    "- sklearn.linear_model.LinearRegression()\n",
    "    - 属性\n",
    "        - coef：回归系数"
   ]
  },
  {
   "cell_type": "code",
   "execution_count": 5,
   "metadata": {},
   "outputs": [
    {
     "name": "stdout",
     "output_type": "stream",
     "text": [
      "线性回归系数： [0.3 0.7]\n",
      "输出预测结果： [93.]\n"
     ]
    }
   ],
   "source": [
    "from sklearn.linear_model import LinearRegression\n",
    "\n",
    "x = [[80,86],\n",
    "    [82,80],\n",
    "    [85,78],\n",
    "    [90,90],\n",
    "    [86,82],\n",
    "    [82,90],\n",
    "    [78,80],\n",
    "    [92,94]]\n",
    "y = [84.2, 80.6, 80.1, 90, 83.2, 87.6, 79.4, 93.4]\n",
    "\n",
    "estimator = LinearRegression()\n",
    "estimator.fit(x,y)\n",
    "\n",
    "print(\"线性回归系数：\",estimator.coef_)\n",
    "\n",
    "print(\"输出预测结果：\",estimator.predict([[100,90]]))\n",
    "\n",
    "\n",
    "\n",
    "linear = LinearRegression()"
   ]
  },
  {
   "cell_type": "markdown",
   "metadata": {},
   "source": [
    "#### 线性回归的损失和优化\n",
    "- 损失函数\n",
    "    - L = (h(x1) - y1)² + (h(x2) - y2)² + (h(x3) - y3)² + ... + (h(xn) - yn)²\n",
    "    - yi为第i个训练样本的真实值\n",
    "    - h(xi)为第i个训练样本特征值组合预测函数\n",
    "    - 又称最小二乘法\n",
    "\n",
    "\n",
    "- 线性回归常用的2种优化算法\n",
    "    - 正规方程：w = (XᵀX)⁻¹Xᵀy，一次得出w的最优解\n",
    "    - 梯度下降\n",
    "        - 在单变量的函数中，梯度其实就是函数的微分，代表着函数在某个给定点的切线的斜率\n",
    "        - 在多变量函数中，梯度是一个向量，向量有方向，梯度的方向就指出了函数在给定点的上升最快的方向\n",
    "        - 单变量函数的梯度下降\n",
    "            - θᵢ(i = 0, 1, 2...n)为模型参数\n",
    "            - 公式：θᵢ₊₁ = θᵢ - η·L'  （η：learning rate，自己设定的；L'：L对w的导数）\n",
    "        - 多变量求梯度与单变量类似\n",
    "        - η的含义：\n",
    "            - η在梯度下降算法中被称作为学习率或者步长，意味着我们可以通过η来控制每一步走的距离，以保证不要步子跨的太大扯着蛋，哈哈，其实就是不要走太快，错过了最低点。同时也要保证不要走的太慢，导致太阳下山了，还没有走到山下。所以a的选择在梯度下降法中往往是很重要的！a不能太大也不能太小，太小的话，可能导致迟迟走不到最低点，太大的话，会导致错过最低点！\n",
    "        - 为什么梯度公式中要加上负号？\n",
    "            - 意味着朝着梯度相反的方向前进!我们在前文提到，梯度的方向实际就是函数在此点上升最快的方向!而我们需要朝着下降最快的方向走，自然就是负的梯度的方向，所以此处需要加上负号。\n",
    "    - 梯度下降与正规方程对比\n",
    "        - 梯度下降：需要选择学习率、需要迭代求解、特征数量较大可以使用\n",
    "        - 正规方程：不需要选择学习率、一次运算得出、需要计算方程，时间复杂度高0(n3)\n",
    "\n",
    "\n",
    "- 算法选择依据\n",
    "    - 小规模数据:\n",
    "        - 正规方程: LinearRegression(不能解决拟合问题)\n",
    "        - 岭回归\n",
    "    - 大规模数据:\n",
    "        - 梯度下降法: SGDRegressor\n",
    "        "
   ]
  },
  {
   "cell_type": "markdown",
   "metadata": {},
   "source": [
    "#### 梯度下降算法进一步学习\n",
    "- 相关概念\n",
    "    - 步长（learning rate）\n",
    "        - 步长决定了在梯度下降迭代的过程中，每-步沿梯度负方向前进的长度\n",
    "    - 特征（feature）\n",
    "        - 样本输入部分\n",
    "    - 假设函数（hypothesis function）\n",
    "        - 在监督学习中，为了拟合输入样本，而使用的假设函数，记为hθ(x)\n",
    "    - 损失函数（loss function）\n",
    "        - 为了评估模型拟合的好坏，通常用损失函数来度量拟合的程度。损失函数极小化，意味着拟合程度最好，对应的模型参数即为最优参数。\n",
    "\n",
    "- 常见梯度下降算法\n",
    "    - 批量梯度下降算法(Batch gradient descent)\n",
    "    - 随机梯度下降算法(Stochastic gradient descent)\n",
    "    - 小批量梯度下降算法(Mini-batch gradient descent)\n",
    "    - 随机平均梯度下降算法(Stochastic average gradient descent)\n",
    "\n",
    "- 批量梯度下降算法(BG)\n",
    "    - 是梯度下降法最常用的形式，具体做法也就是在更新参数时使用所有的样本来进行更新。\n",
    "    - 公式：![jupyter](./note_img/note_BG.png)\n",
    "    - 注意：\n",
    "        - 因为在执⾏每次更新时，我们需要在整个数据集上计算所有的梯度，所以批量梯度下降法的速度会很慢，同时，批量梯度下降法⽆法处理超出内存容量限制的数据集。\n",
    "        - 批量梯度下降法同样也不能在线更新模型，即在运⾏的过程中，不能增加新的样本。\n",
    "\n",
    "- 随机梯度下降算法(SG)\n",
    "    - 由于FG每迭代更新⼀次权重都需要计算所有样本误差，⽽实际问题中经常有上亿的训练样本，故效率偏低，且容易陷⼊局部最优解，因此提出了随机梯度下降算法。其每轮计算的⽬标函数不再是全体样本误差，⽽仅是单个样本误差，即每次只代⼊计算⼀个样本⽬标函数的梯度来更新权重，再取下⼀个样本重复此过程，直到损失函数值停⽌下降或损失函数值⼩于某个可以容忍的阈值。\n",
    "    - 公式：![jupyter](./note_img/note_SG.png)\n",
    "\n",
    "- 小批量梯度下降算法(mini-batch)\n",
    "    - 每次从训练样本集上随机抽取⼀个⼩样本集，在抽出来的⼩样本集上采⽤FG迭代更新权重。\n",
    "    - 被抽出的⼩样本集所含样本点的个数称为batch_size，通常设置为2的幂次⽅，更有利于GPU加速处理\n",
    "    - 特别的，若batch_size=1，则变成了SG；若batch_size=n，则变成了FG\n",
    "    - 公式：![jupyter](./note_img/note_minibatch.png)\n",
    "\n",
    "- 随机平均梯康下降算法(SAG)\n",
    "    - 在SG⽅法中，虽然避开了运算成本⼤的问题，但对于⼤数据训练⽽⾔，SG效果常不尽如⼈意，因为每⼀轮梯度更新都完全与上⼀轮的数据和梯度⽆关。随机平均梯度算法克服了这个问题，在内存中为每⼀个样本都维护⼀个旧的梯度，随机选择第i个样本来更新此样本的梯度，其他样本的梯度保持不变，然后求得所有梯度的平均值，进⽽更新了参数。\n",
    "    - 公式：![jupyter](./note_img/note_SAG.png)\n"
   ]
  },
  {
   "cell_type": "markdown",
   "metadata": {},
   "source": [
    "#### 线性回归API\n",
    "- 正规方程\n",
    "    - sklearn.linear_model.LinearRegression(fit_intercept=True)\n",
    "        - fit_intercept：是否计算偏置。（y = kx + b，b为偏置）\n",
    "        - 属性\n",
    "            - coef_：回归系数\n",
    "            - intercept_：偏置\n",
    "\n",
    "- 梯度下降\n",
    "    - sklearn.linear_model.SGDRegressor(max_iter=1000,loss='squared_loss',fit_intercept=True,learning_rate='invscaling',eta0=0.01)\n",
    "        - max_iter：最大迭代次数\n",
    "        - loss：损失类型。'squared_loss'表示最小二乘法\n",
    "        - fit_intercept：是否计算偏置\n",
    "        - learning_rate：string类型\n",
    "            - 'constant'、'optimal'、'invscaling'\n",
    "            - constant：常数，使用eta0参数指定\n",
    "            - optimal：默认，eta=1.0/(alpha*(t+t0))\n",
    "            - invscaling：eta=eta0/pow(t,power_t)\n",
    "        - 属性\n",
    "            - coef_：回归系数\n",
    "            - intercept_：偏置"
   ]
  },
  {
   "cell_type": "markdown",
   "metadata": {},
   "source": [
    "#### 回归性能评估\n",
    "- 均方误差(Mean Squared Error，MSE)\n",
    "    - 公式：![jupyter](./note_img/note_MSE.png)\n",
    "    - sklearn.metrics.mean_square_error(y_true,y_pred)\n",
    "        - 均方误差回归损失\n",
    "        - y_true：真实值\n",
    "        - y_pred：预测值\n",
    "        - 返回：浮点数"
   ]
  },
  {
   "cell_type": "markdown",
   "metadata": {},
   "source": [
    "#### 练习：波士顿房价预测"
   ]
  },
  {
   "cell_type": "code",
   "execution_count": 4,
   "metadata": {},
   "outputs": [
    {
     "name": "stdout",
     "output_type": "stream",
     "text": [
      "[21.78612085 28.4697953  21.27590305 24.57571565 12.53517796 20.58301462\n",
      " 17.83498053  7.00771589 19.38177906 25.80140428 28.61417757 15.850017\n",
      " 24.34502817 22.22643325 20.42428792 25.29548637 31.79981882 20.1401947\n",
      " 14.86667585 17.5834923  40.29853446 44.44195126 28.30033845 32.95364306\n",
      " 27.70078324 28.13784601 20.58507589 26.05467118 21.74498591 24.30921939\n",
      " 20.90599241 17.53540868 23.65799005  9.03872323 31.51137833 20.95544135\n",
      " 45.3810468  22.80867141 19.71888996 32.53321764  8.22315627 17.25885497\n",
      " 19.55354456 13.14865283 22.94786994 29.88657833 22.07784464 21.09138787\n",
      "  9.3439061  12.76143058 36.43728956 35.37825664 11.18417046 38.73981409\n",
      " 18.93056536 23.74184089 19.66223019 21.38307491 20.98104006 23.50642802\n",
      " 29.02690747 21.27328546 19.39961473 24.78438117 17.12274272 18.2755977\n",
      " 28.83782907 27.58178333 19.38153489 18.65497639 36.27497696 16.94632002\n",
      " 26.05211517 23.74968344 21.06318759 25.50442382 24.91494915 27.84006485\n",
      " 30.22565457 19.07131257  7.9936711  13.91313399 22.89535485  6.64624507\n",
      " 30.1387111  25.23146032 24.15069729 19.60057367 25.16117509 28.28714323\n",
      " 24.29089271 26.62445211 19.20047891 12.74526633 24.03979704 28.54993233\n",
      " 20.22689061 18.96153531 17.55055366 19.65571737 17.72156174 27.11306482]\n",
      "18.327750834649247\n"
     ]
    }
   ],
   "source": [
    "# 正规方程算法\n",
    "\n",
    "from sklearn.datasets import load_boston\n",
    "from sklearn.model_selection import train_test_split\n",
    "from sklearn.preprocessing import StandardScaler\n",
    "from sklearn.linear_model import LinearRegression\n",
    "from sklearn.metrics import mean_squared_error\n",
    "\n",
    "# 1、获取数据\n",
    "boston = load_boston()\n",
    "\n",
    "# 2、数据基本处理\n",
    "x_train,x_test,y_train,y_test = train_test_split(boston[\"data\"],boston[\"target\"],test_size=0.2,random_state=20)\n",
    "\n",
    "# 3、特征工程-标准化\n",
    "standard = StandardScaler()\n",
    "x_train = standard.fit_transform(x_train)\n",
    "x_test = standard.fit_transform(x_test)\n",
    "\n",
    "# 4、机器学习-线性回归（正规方程）\n",
    "estimator = LinearRegression()\n",
    "# 模型训练\n",
    "estimator.fit(x_train,y_train)\n",
    "\n",
    "# 5、模型评估\n",
    "# 5.1 预测\n",
    "y_pre = estimator.predict(x_test)\n",
    "print(y_pre)\n",
    "# 5.2 均方误差（MSE）\n",
    "res = mean_squared_error(y_test,y_pre)\n",
    "print(res)"
   ]
  },
  {
   "cell_type": "code",
   "execution_count": 26,
   "metadata": {},
   "outputs": [
    {
     "name": "stdout",
     "output_type": "stream",
     "text": [
      "[22.16950406 27.20735729 21.86795099 24.35667203 11.94599962 20.9833319\n",
      " 17.43299175  7.13281634 19.52945895 25.46142765 28.19788605 16.54108829\n",
      " 24.71644026 22.63006014 20.46514972 25.76819608 31.9111184  19.65143536\n",
      " 14.87081992 17.88045611 40.12779435 43.59168037 28.5207312  33.19818703\n",
      " 27.29347799 28.04652993 20.84541277 26.12738927 21.93010823 24.60577665\n",
      " 20.38943536 17.41896355 21.95813014  8.94994365 31.7542907  21.10860257\n",
      " 45.64031941 23.16145077 19.74105921 32.71218397  7.39284403 17.15316809\n",
      " 20.55420357 13.44824713 23.13625387 29.23585567 21.98203357 21.66874093\n",
      "  8.98899834 12.67938831 36.71299729 35.64313023 11.17102067 38.08369463\n",
      " 19.10644765 23.74491985 19.21623777 21.55497424 21.37034854 23.13380979\n",
      " 28.46073316 21.40210952 19.70515077 24.54350551 16.97886542 18.05822237\n",
      " 28.98732493 27.58372225 19.48465661 18.75917784 35.86419748 18.1432492\n",
      " 26.40354242 23.80389634 21.27264773 25.66087239 25.13480322 27.78318359\n",
      " 29.161031   18.79727283  8.56766332 14.08777003 24.87977937  7.15813394\n",
      " 30.19189094 24.9336501  23.80241097 18.90825918 25.19721749 27.86323332\n",
      " 24.18075472 26.45000581 19.38420126 12.68708881 23.9881638  28.36775504\n",
      " 20.06816765 19.07251754 17.49661427 19.82563105 17.87304365 27.09441202]\n",
      "18.438080164240855\n"
     ]
    }
   ],
   "source": [
    "# 梯度下降算法\n",
    "\n",
    "from sklearn.datasets import load_boston\n",
    "from sklearn.model_selection import train_test_split\n",
    "from sklearn.preprocessing import StandardScaler\n",
    "from sklearn.linear_model import SGDRegressor\n",
    "from sklearn.metrics import mean_squared_error\n",
    "\n",
    "# 1、获取数据\n",
    "boston = load_boston()\n",
    "\n",
    "# 2、数据基本处理\n",
    "x_train,x_test,y_train,y_test = train_test_split(boston[\"data\"],boston[\"target\"],test_size=0.2,random_state=20)\n",
    "\n",
    "# 3、特征工程-标准化\n",
    "standard = StandardScaler()\n",
    "x_train = standard.fit_transform(x_train)\n",
    "x_test = standard.fit_transform(x_test)\n",
    "\n",
    "# 4、机器学习-线性回归（梯度下降）\n",
    "# estimator = SGDRegressor(max_iter=1000,learning_rate='constant',eta0=0.0001)\n",
    "stimator = SGDRegressor(max_iter=1000)\n",
    "# 模型训练\n",
    "estimator.fit(x_train,y_train)\n",
    "\n",
    "# 5、模型评估\n",
    "# 5.1 预测\n",
    "y_pre = estimator.predict(x_test)\n",
    "print(y_pre)\n",
    "# 5.2 均方误差（MSE）\n",
    "res = mean_squared_error(y_test,y_pre)\n",
    "print(res)\n"
   ]
  },
  {
   "cell_type": "markdown",
   "metadata": {},
   "source": [
    "#### 欠拟合与过拟合\n",
    "- 过拟合：\n",
    "    - 一个假设在训练数据上能够获得比其他假设更好的拟合，但是在测试数据集上却不能很好地拟合数据，此时认为这个假设出现了过拟合的现象。(模型过于复杂)\n",
    "    - 产生原因：原始特征过多，存在一些嘈杂特征，模型过于 复杂是因为模型尝试去兼顾各个测试数据点\n",
    "    - 解决方案：\n",
    "        - 重新清洗数据，导致过拟合的一个原因也有可能是数据不纯导致的，如果出现了过拟合就需要我们重新清洗数据。\n",
    "        - 增大数据的训练量，还有一个原因就是我们用于训练的数据量太小导致的，训练数据占总数据的比例过小。\n",
    "        - 正则化\n",
    "        - 减少特征维度，防止维灾难\n",
    "    \n",
    "- 欠拟合：\n",
    "    - 一个假设在训练数据上不能获得更好的拟合，并且在测试数据集上也不能很好地拟合数据，此时认为这个假设出现了欠拟合的现象。(模型过于简单)\n",
    "    - 产生原因：学习到数据的特征太少\n",
    "    - 解决方案：\n",
    "        - 添加其他特征项\n",
    "        - 添加多项式特征：这个在机器学习算法里面用的很普遍，例如将线性模型通过添加二次项或三次项使模型泛化能力更强\n",
    "\n",
    "#### 正则化\n",
    "- 在学习的时候，数据提供的特征有些影响模型复杂度或者这个特征的数据点异常较多，所以算法在学习的时候尽量减少这个特征的影响(甚至 删除某个特征的影响)，这就是正则化\n",
    "- 正则化类别\n",
    "    - L1正则化\n",
    "        - 作用:把高次项系数变为0\n",
    "        - LASSO回归\n",
    "    - L2正则化\n",
    "        - 作用:把高次项系数变得特别小，削弱某个特征的影响\n",
    "        - 优点:越小的参数说明模型越简单，越简单的模型则越不容易产生过拟合现象\n",
    "        - Ridge回归\n",
    "\n",
    "#### 维灾难\n",
    "- ![jupyter](./note_img/note_curseofdimension.png)"
   ]
  },
  {
   "cell_type": "markdown",
   "metadata": {},
   "source": [
    "#### 正则化线性回归：岭回归、lasso回归、Elastic Net、Early Stopping\n",
    "- 岭回归\n",
    "    - 种专用于共线性数据分析的有偏估计回归方法，实质上是一种改良的最小二乘估计法，通过放弃最小二乘法的无偏性，以损失部分信息、降低精度为代价获得回归系数更为符合实际、更可靠的回归方法，对病态数据的拟合要强于最小二乘法。\n",
    "    - 公式：![jupyter](./note_img/note_RidgeReg.png)\n",
    "\n",
    "- lasso回归\n",
    "    - 以缩小变量集（降阶）为思想的压缩估计方法\n",
    "    - 公式：![jupyter](./note_img/note_LassoReg.png)\n",
    "\n",
    "- Elastic Net（弹性网络）\n",
    "    - ElasticNet将Lasso和Ridge组成一个具有两种惩罚因素的单一模型\n",
    "    - 公式：![jupyter](./note_img/note_ElasticNet.png)\n",
    "\n",
    "- Early Stopping\n",
    "    - 在验证错误率达到最小值时停止训练"
   ]
  },
  {
   "cell_type": "markdown",
   "metadata": {},
   "source": [
    "#### 岭回归API\n",
    "- sklearn.linear_model.Ridge(alpha=1.0,fit_intercept=True,solver='auto',normalize=False)\n",
    "    - alpha：必须是正浮点数。alpha越小，惩罚力度越小；alpha越大，惩罚力度越大。\n",
    "    - solver：'auto'，'svd'，'cholesky'，'lsqr'，'sparse_cg'，'sag'\n",
    "        - 'auto'：根据数据自动选择算法\n",
    "        - 'svd'：使用X的奇异值分解来计算Ridge系数。对于奇异矩阵比'cholesky'更稳定。\n",
    "        - 'cholesky'：使用标准的scipy.linalg.solve函数来获得闭合形式的解。\n",
    "        - 'sparse_cg'：使用在scipy.sparse.linalg.cg中找到的共轭梯度求解器。作为迭代算法，这个求解器比大规模数据（设置tol和max_iter的可能性）的“cholesky”更合适。\n",
    "        - 'lsqr'：使用专用的正则化最小二乘常数scipy.sparse.linalg.lsqr。它是最快的，但可能不是在旧的scipy版本可用。它还使用迭代过程。\n",
    "        - 'sag'：使用随机平均梯度下降。它也使用迭代过程，并且当n_samples和n_feature都很大时，通常比其他求解器更快。注意，“sag”快速收敛仅在具有近似相同尺度的特征上被保证。您可以使用sklearn.preprocessing的缩放器预处理数据。\n",
    "    - normalize：数据是否进行归一化\n",
    "\n",
    "- sklearn.linear_model.RidgeCV(_BaseRidgeCV,RegressorMin)\n",
    "    - 具有L2正则化得线性回归，可以进行交叉验证"
   ]
  },
  {
   "cell_type": "code",
   "execution_count": 44,
   "metadata": {},
   "outputs": [
    {
     "name": "stdout",
     "output_type": "stream",
     "text": [
      "[21.89213831 28.02249033 21.47152558 24.55447633 12.41223358 20.72954699\n",
      " 17.81941186  7.11357239 19.46386056 25.66967119 28.42510292 16.1297336\n",
      " 24.46734183 22.37374482 20.48782811 25.5084243  31.83925921 19.94543847\n",
      " 14.90516225 17.73794483 40.08399296 44.03746927 28.31369331 33.02645073\n",
      " 27.57461799 28.02963451 20.6902545  26.05270544 21.82813804 24.47393007\n",
      " 20.70141512 17.49726719 23.11593232  9.1160975  31.49947355 21.00002772\n",
      " 45.28298446 22.96408453 19.79054575 32.52546444  7.98415908 17.22759347\n",
      " 19.72989823 13.32945195 23.08626592 29.62690073 22.07434717 21.28416389\n",
      "  9.29443011 12.81295301 36.40885708 35.4297344  11.24312387 38.45009111\n",
      " 19.10983855 23.67324486 19.60803028 21.42312765 21.10615409 23.3714238\n",
      " 28.72165789 21.28745993 19.56351834 24.67853588 17.18580681 18.31188014\n",
      " 28.82031301 27.45507646 19.39388636 18.67624516 36.0167906  17.43567358\n",
      " 26.11874536 23.76323292 21.12287348 25.55419813 24.95162667 27.84058668\n",
      " 29.82409976 18.93250881  8.33700798 14.07769567 23.55440944  6.97918387\n",
      " 30.05913818 25.13453624 24.08035747 19.32128057 25.15599031 28.08239129\n",
      " 24.23353592 26.47967357 19.28184321 12.76672716 23.980827   28.46242106\n",
      " 20.21032153 19.10706013 17.54005263 19.68176676 17.79264797 27.06815382]\n",
      "18.202028384500064\n"
     ]
    }
   ],
   "source": [
    "# 岭回归\n",
    "\n",
    "from sklearn.datasets import load_boston\n",
    "from sklearn.model_selection import train_test_split\n",
    "from sklearn.preprocessing import StandardScaler\n",
    "from sklearn.linear_model import Ridge,RidgeCV\n",
    "from sklearn.metrics import mean_squared_error\n",
    "\n",
    "# 1、获取数据\n",
    "boston = load_boston()\n",
    "\n",
    "# 2、数据基本处理\n",
    "x_train,x_test,y_train,y_test = train_test_split(boston[\"data\"],boston[\"target\"],test_size=0.2,random_state=20)\n",
    "\n",
    "# 3、特征工程-标准化\n",
    "standard = StandardScaler()\n",
    "x_train = standard.fit_transform(x_train)\n",
    "x_test = standard.fit_transform(x_test)\n",
    "\n",
    "# 4、机器学习-线性回归（梯度下降）\n",
    "# estimator = Ridge()\n",
    "estimator = RidgeCV(alphas=(0.1,0.5,1,5,10))\n",
    "# 模型训练\n",
    "estimator.fit(x_train,y_train)\n",
    "\n",
    "# 5、模型评估\n",
    "# 5.1 预测\n",
    "y_pre = estimator.predict(x_test)\n",
    "print(y_pre)\n",
    "# 5.2 均方误差（MSE）\n",
    "res = mean_squared_error(y_test,y_pre)\n",
    "print(res)\n"
   ]
  },
  {
   "cell_type": "markdown",
   "metadata": {},
   "source": [
    "#### 模型的保存和加载\n",
    "- import joblib\n",
    "    - 保存：joblib.dump(estimator,'test.pkl')\n",
    "    - 加载：estimator = joblib.load('test.pkl')"
   ]
  },
  {
   "cell_type": "code",
   "execution_count": 53,
   "metadata": {},
   "outputs": [
    {
     "name": "stdout",
     "output_type": "stream",
     "text": [
      "18.165165527063987\n"
     ]
    }
   ],
   "source": [
    "import joblib    # 保存与加载模型\n",
    "from sklearn.datasets import load_boston\n",
    "from sklearn.model_selection import train_test_split\n",
    "from sklearn.preprocessing import StandardScaler\n",
    "from sklearn.linear_model import Ridge,RidgeCV\n",
    "from sklearn.metrics import mean_squared_error\n",
    "\n",
    "# 1、获取数据\n",
    "data = load_boston()\n",
    "\n",
    "# 2、数据基本处理\n",
    "x_train,x_test,y_train,y_test = train_test_split(data[\"data\"],data[\"target\"],test_size=0.2,random_state=20)\n",
    "\n",
    "# 3、特征工程\n",
    "standard = StandardScaler()\n",
    "x_train = standard.fit_transform(x_train)\n",
    "x_test = standard.fit_transform(x_test)\n",
    "\n",
    "# 4、机器学习-岭回归\n",
    "estimator = RidgeCV(alphas=(0.1,1,3,5,7,10))\n",
    "estimator.fit(x_train,y_train)\n",
    "\n",
    "\n",
    "# 模型保存\n",
    "joblib.dump(estimator,\"./model/Ridge.pkl\")\n",
    "\n",
    "\n",
    "# 5、模型评估\n",
    "y_pre = estimator.predict(x_test)\n",
    "\n",
    "res = mean_squared_error(y_test,y_pre)\n",
    "print(res)"
   ]
  },
  {
   "cell_type": "code",
   "execution_count": 57,
   "metadata": {},
   "outputs": [
    {
     "name": "stdout",
     "output_type": "stream",
     "text": [
      "18.165165527063987\n"
     ]
    }
   ],
   "source": [
    "# 加载模型\n",
    "import joblib\n",
    "\n",
    "estimator = joblib.load(\"./model/Ridge.pkl\")\n",
    "\n",
    "y_pre = estimator.predict(x_test)\n",
    "\n",
    "res = mean_squared_error(y_test,y_pre)\n",
    "print(res)"
   ]
  },
  {
   "cell_type": "markdown",
   "metadata": {},
   "source": [
    "#### 逻辑回归\n",
    "- 是机器学习中的一种分类模型，逻辑回归是一种分类算法，虽然名字中带有回归，但是它与回归之间有一定的联系。由于算法的简单和高效，在实际中应用非常广泛。\n",
    "- 输入：逻辑回归的输入就是一个线性回归的结果。![jupyter](./note_img/note_logistic.png)\n",
    "- 激活函数\n",
    "    - sigmoid函数：![jupyter](./note_img/note_sigmoid.png)\n",
    "    - 回归结果输入到sigmoid函数中\n",
    "    - 输出结果：[0,1]区间中的一个概率值，默认0.5为阈值![jupyter](./note_img/note_sigmoidImg.png)\n",
    "    \n",
    "##### 损失及优化\n",
    "- 逻辑回归损失，也称为对数似然损失。公式：![jupyter](./note_img/note_logitLoss.png)\n",
    "- 图像：![jupyter](./note_img/note_logitLossImg.png)\n",
    "- 无论何时，希望损失函数值越小越好\n",
    "- 综合完整损失函数：![jupyter](./note_img/note_logitLossAll.png)\n",
    "- 优化：提升原本属于1类别的概率，降低原本是0类别的概率。\n",
    "\n",
    "##### 逻辑回归API\n",
    "- sklearn.linear_model.LogisticRegression(sovler='liblinear',penalty='l2',C=1.0)\n",
    "    - solver：{'liblinear', 'sag', 'saga', 'newton-cg', 'lbfgs'}\n",
    "        - 对于小数据集，'liblinear'是个不错的选择；对于大数据集，'sag'和'saga'会不错\n",
    "        - 对于多类问题，只有'newton-cg'，'sag' ,'saga' 和'lbfgs'可以处理多项损失;\"liblinear\"仅限于“one-versus-rest\"分类。\n",
    "    - penalty：正则化的种类\n",
    "    - C：正则化力度\n",
    "\n",
    "    "
   ]
  },
  {
   "cell_type": "markdown",
   "metadata": {},
   "source": [
    "### 肿瘤分类预测\n",
    "- https://archive.ics.uci.edu/ml/machine-learning-databases/breast-cancer-wisconsin\n",
    "- 总结：准确率不是衡量分类正确的唯一标准"
   ]
  },
  {
   "cell_type": "code",
   "execution_count": 197,
   "metadata": {},
   "outputs": [
    {
     "name": "stdout",
     "output_type": "stream",
     "text": [
      "真实值： [1, 0, 0, 1, 1, 1, 1, 1, 1, 1, 1, 1, 0, 0, 1, 1, 0, 0, 0, 1, 0, 1, 0, 0, 0, 1, 1, 0, 1, 1, 1, 1, 0, 1, 1, 1, 0, 0, 1, 1, 1, 0, 1, 1, 0, 0, 0, 1, 0, 0, 1, 1, 0, 1, 1, 0, 1, 1, 1, 1, 0, 1, 0, 0, 1, 0, 1, 1, 0, 1, 1, 1, 1, 0, 1, 0, 1, 1, 1, 1, 1, 0, 0, 1, 0, 0, 0, 0, 1, 1, 1, 1, 1, 0, 1, 1, 1, 1, 0, 0, 0, 1, 1, 0, 0, 1, 0, 0, 0, 0, 1, 1, 1, 1, 0, 1, 1, 1, 1, 1, 1, 1, 1, 1, 1, 1, 1, 0, 1, 0, 1, 1, 1, 1, 1, 1, 1]\n",
      "预测值： [1, 0, 0, 1, 1, 1, 1, 1, 1, 1, 1, 1, 0, 0, 1, 1, 0, 0, 0, 1, 0, 1, 0, 0, 0, 1, 1, 0, 1, 1, 1, 1, 0, 1, 1, 1, 0, 1, 1, 1, 1, 0, 1, 1, 0, 0, 0, 1, 0, 0, 1, 1, 0, 1, 1, 0, 1, 1, 1, 1, 0, 1, 0, 0, 1, 0, 1, 1, 0, 1, 1, 1, 1, 0, 1, 0, 1, 1, 1, 1, 1, 0, 0, 1, 0, 0, 0, 0, 1, 1, 1, 1, 1, 0, 1, 1, 1, 1, 0, 0, 0, 1, 1, 0, 0, 1, 0, 0, 0, 0, 1, 1, 1, 1, 0, 1, 1, 1, 1, 1, 1, 1, 1, 0, 1, 1, 1, 0, 1, 0, 1, 1, 1, 1, 1, 1, 1]\n",
      "模型评分： 0.9854014598540146\n",
      "预测的准确率： 0.9854014598540146\n",
      "均方误差： 0.014598540145985401\n"
     ]
    }
   ],
   "source": [
    "import pandas as pd\n",
    "import numpy as np\n",
    "from sklearn.model_selection import train_test_split\n",
    "from sklearn.preprocessing import StandardScaler\n",
    "from sklearn.linear_model import LogisticRegression,LogisticRegressionCV\n",
    "from sklearn.metrics import mean_squared_error,accuracy_score,precision_score\n",
    "\n",
    "# 1、获取数据\n",
    "data = pd.read_csv(\"./data/BreastCancel/breast-cancer-wisconsin.data\",header=None)\n",
    "data.rename(columns={0:'ID', 1:'Clump Thickness', 2:'Uniformity of Cell Size', 3:'Uniformity of Cell Shape', 4:'Marginal Adhesion', 5:'Single Epithelial Cell Size', 6:'Bare Nuclei', 7:'Bland Chromatin', 8:'Normal Nucleoli', 9:'Mitoses', 10:'Class'},inplace=True)\n",
    "data = data.set_index('ID')\n",
    "\n",
    "# 2、数据基本处理\n",
    "# 2.1 删除有 ? 的行\n",
    "dropIndex = data[data.isin(['?']).any(axis=1)].index     # 找出 ? 所在的行数\n",
    "data.drop(labels=dropIndex,inplace=True)\n",
    "# 2.2 将目标值：2->1，4->0\n",
    "data[\"Class\"] = data[\"Class\"].replace(to_replace={2:1,4:0})\n",
    "# 2.3 对数据集进行分割\n",
    "x_train,x_test,y_train,y_test = train_test_split(data.iloc[:,0:-1],data['Class'],test_size=0.2,random_state=22)\n",
    "\n",
    "# 3、特征工程-标准化\n",
    "standard = StandardScaler()\n",
    "x_train = standard.fit_transform(x_train)\n",
    "x_test = standard.fit_transform(x_test)\n",
    "\n",
    "# 4、机器学习-逻辑回归\n",
    "estimator = LogisticRegression()\n",
    "estimator.fit(x_train,y_train)\n",
    "\n",
    "# 5、模型评估\n",
    "# 5.1 预测值\n",
    "y_pre = estimator.predict(x_test)\n",
    "print(\"真实值：\",[i for i in y_test])\n",
    "print(\"预测值：\",[i for i in y_pre])\n",
    "# 5.2 预测分数\n",
    "score = estimator.score(x_test,y_test)\n",
    "print(\"模型评分：\",score)\n",
    "# 5.3 预测的准确率\n",
    "accuracyScore = accuracy_score(y_test,y_pre)\n",
    "print(\"预测的准确率：\",accuracyScore)\n",
    "# 5.4 均方误差\n",
    "res = mean_squared_error(y_test,y_pre)\n",
    "print(\"均方误差：\",res)"
   ]
  },
  {
   "cell_type": "markdown",
   "metadata": {},
   "source": [
    "### 分类评估方法\n",
    "- 混淆矩阵\n",
    "    - 在分类任务下，预测结果(Predicted Condition)与正确标记(True Condition)之间存在四种不同的组合，构成混淆矩阵(适用于多分类)\n",
    "    - ![jupyter](./note_img/note_confusionMatric.png)\n",
    "- 准确率(Accuracy)、精确率(Precision)、召回率(Recall)\n",
    "    - 准确率：(TP+TN)/(TP+FP+TN+FN)\n",
    "    - 精确率：\n",
    "        - 预测结果为正例样本中真实为正例的比例\n",
    "        - TP/(TP+FP)\n",
    "    - 召回率：\n",
    "        - 真实为正例的样本中预测结果为正例的比例\n",
    "        - TP/(TP+FN)\n",
    "\n",
    "- F1-score\n",
    "    - 反映模型的稳健性\n",
    "    - ![jupyter](./note_img/note_f1.png)\n",
    "\n",
    "#### 分类评估报告API\n",
    "- sklearn.metrics.classification_report(y_true,y_pred,labels=[],target_names=[])\n",
    "    - y_true：真实值\n",
    "    - y_pred：预测值\n",
    "    - labels：指定类别对应的数字\n",
    "    - target_names：目标类别名称\n",
    "    - 返回：每个类别的精准率和召回率\n",
    "\n",
    "例如：res = classification_report(y_true,y_pre,labels=[2,4],target_names=['良性','恶性'])\n"
   ]
  },
  {
   "cell_type": "code",
   "execution_count": 199,
   "metadata": {},
   "outputs": [
    {
     "name": "stdout",
     "output_type": "stream",
     "text": [
      "              precision    recall  f1-score   support\n",
      "\n",
      "          良性       0.99      0.99      0.99        88\n",
      "          恶性       0.98      0.98      0.98        49\n",
      "\n",
      "    accuracy                           0.99       137\n",
      "   macro avg       0.98      0.98      0.98       137\n",
      "weighted avg       0.99      0.99      0.99       137\n",
      "\n"
     ]
    }
   ],
   "source": [
    "# 精确率与召回率\n",
    "from sklearn.metrics import classification_report\n",
    "\n",
    "res = classification_report(y_test,y_pre,labels=[1,0],target_names=['良性','恶性'])\n",
    "print(res)"
   ]
  },
  {
   "cell_type": "markdown",
   "metadata": {},
   "source": [
    "#### ROC曲线与AUC指标\n",
    "- 为了衡量在不均衡状态下的样本\n",
    "\n",
    "- TPR与FPR\n",
    "    - TPR\n",
    "        - 所有真实类别为正例的样本中，预测类别为正例的比例\n",
    "        - TPR = TP/(TP+FN)\n",
    "    - FPR\n",
    "        - 所有真实类别为反例的样本中，预测类别为正例的比例\n",
    "        - FPR = FP/(FP+TN)\n",
    "\n",
    "- ROC曲线\n",
    "    - ROC曲线的横轴就是FPR，纵轴就是TPR，当二者相等时，表示的意义则是:对于不论真实类别是1(正例)还是0(反例)的样本，分类器预测为1的概率是相等的，此时AUC为0.5\n",
    "    - ![jupyter](./note_img/note_ROC.png)\n",
    "\n",
    "- AUC指标\n",
    "    - AUC：area under curse，ROC曲线与坐标轴的面积\n",
    "    - AUC的概率意义是随机取一对正负样本，正样本得分大于负样本得分的概率。\n",
    "    - AUC的范围在[0, 1]之间，并且越接近1越好，越接近0.5属于乱猜。\n",
    "    - AUC=1，完美分类器，采用这个预测模型时，不管设定什么阈值都能得出完美预测。绝大多数预测的场合，不存在完美分类器。\n",
    "    - 0.5<AUC<1,优于随机猜测。这个分类器(模型) 妥善设定阈值的话，能有预测价值。\n",
    "\n",
    "##### ROC的API\n",
    "- sklearn.metrics.roc_auc_score(y_true,y_score)\n",
    "    - 计算ROC曲线的面积，即AUC值\n",
    "    - y_true：每个样本的真实类别，必须为1(正例)，0(反例)标记\n",
    "    - y_score：预测得分，可以是正例的估计概率、质心值、分类器方法的返回值"
   ]
  },
  {
   "cell_type": "code",
   "execution_count": 201,
   "metadata": {},
   "outputs": [
    {
     "name": "stdout",
     "output_type": "stream",
     "text": [
      "0.9988404452690167\n"
     ]
    }
   ],
   "source": [
    "# AUC指标计算\n",
    "from sklearn.metrics import roc_auc_score\n",
    "\n",
    "'''\n",
    "知识点：\n",
    "estimator.classes_     # array([0, 1], dtype=int64)\n",
    "'''\n",
    "\n",
    "y_prop = estimator.predict_proba(x_test)\n",
    "auc = roc_auc_score(y_test,y_prop[:,1])\n",
    "print(auc)"
   ]
  },
  {
   "cell_type": "markdown",
   "metadata": {},
   "source": [
    "#### 分类中解决类别不平衡问题\n",
    "- 类别不平衡数据集介绍\n",
    "    - pip install imbalanced-learn\n",
    "    - 其就是为处理数据比例失衡而生"
   ]
  },
  {
   "cell_type": "code",
   "execution_count": 8,
   "metadata": {},
   "outputs": [
    {
     "data": {
      "image/png": "[encoded data removed]",
      "text/plain": [
       "<Figure size 432x288 with 1 Axes>"
      ]
     },
     "metadata": {
      "needs_background": "light"
     },
     "output_type": "display_data"
    }
   ],
   "source": [
    "from sklearn.datasets import make_classification\n",
    "import matplotlib.pyplot as plt\n",
    "from collections import Counter\n",
    "\n",
    "# 创建数据集\n",
    "x,y = make_classification(n_samples=5000,n_features=2,n_informative=2,n_redundant=0,n_repeated=0,n_classes=3,n_clusters_per_class=1,weights=[0.02,0.28,0.7],random_state=0)\n",
    "\n",
    "# 统计类别中的个数\n",
    "# Counter(y)   # Counter({2: 3484, 1: 1400, 0: 116})\n",
    "\n",
    "plt.scatter(x[:,0],x[:,1],c=y)\n",
    "plt.show()"
   ]
  },
  {
   "cell_type": "markdown",
   "metadata": {},
   "source": [
    "##### 解决类别不平衡数据的方法\n",
    "- 过采样\n",
    "    - 即增加一些少数类样本使得正、反例数目接近，然后再进行学习。\n",
    "    \n",
    "    - 随机过采样方法\n",
    "        - 随机过采样是在少数类中随机选择一些样本，然后通过复制所选择的样本生成样本集E,将它们添加到原少数类样本中来扩大原始数据集从而得到新的少数类集合。\n",
    "        - 缺点：\n",
    "            - 对于随机过采样，由于需要对少数类样本进行复制来扩大数据集，造成模型训练复杂度加大。\n",
    "            - 另一方面也容易造成模型的过拟合问题，因为随机过采样是简单的对初始样本进行复制采样，这就使得学习器学得的规则过于具体化，不利于学习器的泛化性能，造成过拟合问题。\n",
    "        - imblearn.over_sampling.RandomOverSampler\n",
    "\n",
    "    - 过采样代表性算法：SMOTE算法\n",
    "        - SMOTE全称是Synthetic Minority Oversampling即合成少数类过采样技术。\n",
    "        - SMOTE算法是对随机过采样方法的一个改进算法，由于随机过采样方法是直接对少数类进行重采用，会使训练集中有很多重复的样本，容易造成产生的模型过拟合问题。而SMOTE算法的基本思想是对每个少数类样本xi，从它的最近邻中随机选择一个样本xi^( xi是少数类中的一个样本)，然后在xi和xi^之间的连线上随机选择一点作为新合成的少数类样本。\n",
    "        - imblearn.over_sampling.SMOTE\n",
    "\n",
    "\n",
    "- 欠采样\n",
    "    - 即去除一些 多数类中的样本使得正例、反例数目接近，然后再进行学习。\n",
    "    \n",
    "    - 随机欠采样方法\n",
    "        - 随机欠采样顾名思义即从多数类中随机选择一些样本组成样本集E。然后将样本集E从该多数类中移除。\n",
    "        - imblearn.under_sampling.RandomUserSampler\n",
    "        - 缺点：\n",
    "            - 由于采样的样本集合要少于原来的样本集合，因此会造成一些信息缺失，即将多数类样本删除有可能会导致分类器丢失有关多数类的重要信息。\n"
   ]
  },
  {
   "cell_type": "code",
   "execution_count": 10,
   "metadata": {},
   "outputs": [
    {
     "data": {
      "image/png": "[encoded data removed]",
      "text/plain": [
       "<Figure size 432x288 with 1 Axes>"
      ]
     },
     "metadata": {
      "needs_background": "light"
     },
     "output_type": "display_data"
    }
   ],
   "source": [
    "# 随机过采样\n",
    "\n",
    "from imblearn.over_sampling import RandomOverSampler\n",
    "\n",
    "ros = RandomOverSampler(random_state=0)\n",
    "\n",
    "x_sample,y_sample = ros.fit_resample(x,y)\n",
    "\n",
    "# Counter(y)   # Counter({1: 3485, 2: 3485, 0: 3485})\n",
    "\n",
    "plt.scatter(x_sample[:,0],x_sample[:,1],c=y_sample)\n",
    "plt.show()"
   ]
  },
  {
   "cell_type": "code",
   "execution_count": 12,
   "metadata": {},
   "outputs": [
    {
     "data": {
      "image/png": "[encoded data removed]",
      "text/plain": [
       "<Figure size 432x288 with 1 Axes>"
      ]
     },
     "metadata": {
      "needs_background": "light"
     },
     "output_type": "display_data"
    }
   ],
   "source": [
    "# SMOTE算法\n",
    "\n",
    "from imblearn.over_sampling import SMOTE\n",
    "\n",
    "smote = SMOTE()\n",
    "\n",
    "x_sample,y_sample = smote.fit_resample(x,y)\n",
    "\n",
    "# Counter(y_sample)   # Counter({1: 3485, 2: 3485, 0: 3485})\n",
    "\n",
    "plt.scatter(x_sample[:,0],x_sample[:,1],c=y_sample)\n",
    "plt.show()"
   ]
  },
  {
   "cell_type": "code",
   "execution_count": 17,
   "metadata": {},
   "outputs": [
    {
     "data": {
      "image/png": "[encoded data removed]",
      "text/plain": [
       "<Figure size 432x288 with 1 Axes>"
      ]
     },
     "metadata": {
      "needs_background": "light"
     },
     "output_type": "display_data"
    }
   ],
   "source": [
    "# 随机欠采样\n",
    "\n",
    "from imblearn.under_sampling import RandomUnderSampler\n",
    "\n",
    "rus = RandomUnderSampler(random_state=0)\n",
    "\n",
    "x_sample,y_sample = rus.fit_resample(x,y)\n",
    "\n",
    "plt.scatter(x_sample[:,0],x_sample[:,1],c=y_sample)\n",
    "plt.show()"
   ]
  },
  {
   "cell_type": "markdown",
   "metadata": {},
   "source": [
    "### 决策树算法\n",
    "- 是一种树形结构，其中每个内部节点表示一个属性上的判断，每个分支代表一个判断结果的输出，最后每个叶节点代表一种分类结果，本质是一颗由多个判断节点组成的树。\n",
    "\n",
    "#### 信息熵\n",
    "- 物理学上，熵是“混乱”程度的量度。系统越有序，熵值越低;系统越混乱或者分散，熵值越高。\n",
    "\n",
    "- 信息熵\n",
    "    - 是度量样本集合纯度最常用的一种指标\n",
    "    - 从信息的完整性上进行的描述\n",
    "        - 当系统的有序状态一致时，数据越集中的地方熵值越小，数据越分散的地方熵值越大。\n",
    "    - 从信息的有序性上进行的描述\n",
    "        - 当数据量一致时,系统越有序，熵值越低;系统越混乱或者分散，熵值越高。\n",
    "    - 公式：log以2为底，lg以10为底；D为样本总数，C^k为第k类样本数量  ![jupyter](./note_img/note_Entropy.png)\n",
    "    \n",
    "#### 决策树的划分依据一：信息增益-ID3决策树\n",
    "- 公式：![jupyter](./note_img/note_InfoGain.png)\n",
    "\n",
    "\n",
    "- 一般而言，信息增益越大，则意味着使用属性a来进行划分所获得的\"纯度提升\"越大。因此，我们可用信息增益来进行决策树的划分属性选择。\n",
    "\n",
    "\n",
    "- 例子：![jupyter](./note_img/note_example1.png)  ![jupyter](./note_img/note_example2.png)  ![jupyter](./note_img/note_example3.png)  ![jupyter](./note_img/note_example4.png)\n",
    "\n",
    "#### 决策树的划分依据二：信息增益率-C4.5决策树\n",
    "- 实际上,信息增益准则对可取值数目较多的属性有所偏好，为减少这种偏好可能带来的不利影响，著名的C4.5决策树算法不直接使用信息增益，而是使用\"增益率\" (gain ratio)来选择最优划分属性\n",
    "- 增益率：![jupyter](./note_img/note_GainRate.png)\n",
    "- 例子：![jupyter](./note_img/note_example5.png)\n",
    "- 例子：![jupyter](./note_img/note_example6.png)  ![jupyter](./note_img/note_example7.png)\n",
    "- 为什么使用C4.5决策树算法比较好？\n",
    "    - 1.⽤信息增益率来选择属性\n",
    "        - 克服了⽤信息增益来选择属性时偏向选择值多的属性的不⾜。\n",
    "    - 2.采⽤了⼀种后剪枝⽅法\n",
    "        - 避免树的⾼度⽆节制的增⻓，避免过度拟合数据\n",
    "    - 3.对于缺失值的处理\n",
    "        - 在某些情况下，可供使⽤的数据可能缺少某些属性的值。假如〈x，c(x)〉是样本集S中的⼀个训练实例，但是其属性A的值A(x)未知。处理缺少属性值的⼀种策略是赋给它结点n所对应的训练实例中该属性的最常⻅值；\n",
    "        - 另外⼀种更复杂的策略是为A的每个可能值赋予⼀个概率。例如，给定⼀个布尔属性A，如果结点n包含6个已知A=1和4个A=0的实例，那么A(x)=1的概率是0.6，⽽A(x)=0的概率是0.4。于是，实例x的60%被分配到A=1的分⽀，40%被分配到另⼀个分⽀。\n",
    "\n",
    "#### 决策树的划分依据三：基尼指数-CART决策树\n",
    "- CART决策树使用\"基尼指数\"来选择划分属性\n",
    "- 基尼值Gini(D)：从数据集D中随机抽取两个样本，其类别标记不一致的概率。Gini(D)值越小，数据集D的纯度越高。\n",
    "    - ![jupyter](./note_img/note_Gini.png)\n",
    "- 基尼指数Gini_index(D)：选择使划分后基尼系数最小的属性作为最优化分属性。\n",
    "    - ![jupyter](./note_img/note_GiniIndex.png)\n",
    "- 例子：![jupyter](./note_img/note_example8.png)\n",
    "\n",
    "#### 决策树的划分依据总结\n",
    "- ![jupyter](./note_img/note_sum.png)\n",
    "- 如何评价分割点的好坏\n",
    "    - 如果一个分割点可以将当前的所有节点分为两类，使得每一类都很“纯”，也就是同一类的记录较多，那么就是一个好分割点。"
   ]
  },
  {
   "cell_type": "markdown",
   "metadata": {},
   "source": [
    "#### Cart剪枝\n",
    "- 剪枝是决策树学习算法对付\"过拟合\"的主要手段\n",
    "\n",
    "- 预剪枝\n",
    "    - 指在决策树生成过程中，对每个结点在划分前先进行估计，若当前结点的划分不能带来决策树泛化性能提升，则停止划分并将当前结点标记为叶结点\n",
    "    - 优点：\n",
    "        - 不仅降低了过拟合的风险,还显著减少了决策树的训练时间开销和测试时间开销\n",
    "    - 缺点：\n",
    "        - 有些分支的当前划分虽不能提升泛化性能、甚至可能导致泛化性能暂时下降,但在其基础上进行的后续划分却有可能导致性能显著提高\n",
    "        - 预剪枝基于“贪心”本质禁止这些分支展开,给预剪枝决策树带来了欠拟合的风险.\n",
    "    \n",
    "- 后剪枝\n",
    "    - 先从训练集生成一棵完整的决策树，然后自底向上地对非叶结点进行考察，若将该结点对应的子树替换为叶结点能带来决策树泛化性能提升，则将该子树替换为叶结点。\n",
    "    - 后剪枝决策树通常比预剪枝决策树保留了更多的分支。\n",
    "    - 优点：\n",
    "        - 一般情形下，后剪枝决策树的欠拟合风险很小，泛化性能往往优于预剪枝决策树。\n",
    "    - 缺点：\n",
    "        - 但后剪枝过程是在生成完全决策树之后进行的，并且要自底向上地对树中的所有非叶结点进行逐一考察,因此其训练时间开销比未剪枝决策树和预剪枝决策树都要大得多。\n",
    "\n",
    "\n",
    "- 关于预剪枝与后剪枝的例题：https://blog.csdn.net/zfan520/article/details/82454814/\n"
   ]
  },
  {
   "cell_type": "markdown",
   "metadata": {},
   "source": [
    "#### 特征工程：特征提取\n",
    "- 定义：将任意数据（如文本或图像）转换为可用于机器学习的数字特征。（注：特征值化是为了计算机更好的去理解数据）\n",
    "- 特征提取分类\n",
    "    - 字典特征提取\n",
    "    - 文本特征提取\n",
    "    - 图像特征提取\n",
    "\n",
    "##### 字典特征提取\n",
    "- sklearn.feature_extraction.DictVectorizer(sparse=True,...)\n",
    "    - sparse：True表示是否返回sparse矩阵\n",
    "    - DictVectorizer.fit_transform(X)\n",
    "        - X：字典或者包含字典的迭代器\n",
    "        - 返回：sparse矩阵\n",
    "    - 属性：\n",
    "        - DictVectorizer.get_feature_names()：返回类别名称"
   ]
  },
  {
   "cell_type": "code",
   "execution_count": 544,
   "metadata": {
    "scrolled": true
   },
   "outputs": [
    {
     "name": "stdout",
     "output_type": "stream",
     "text": [
      "特征名称：\n",
      " ['city=上海', 'city=北京', 'city=深圳', 'temperature']\n",
      "特征矩阵（sparse=True）：\n",
      "   (0, 1)\t1.0\n",
      "  (0, 3)\t100.0\n",
      "  (1, 0)\t1.0\n",
      "  (1, 3)\t50.0\n",
      "  (2, 2)\t1.0\n",
      "  (2, 3)\t20.0\n",
      "特征名称：\n",
      " ['city=上海', 'city=北京', 'city=深圳', 'temperature']\n",
      "one-hot编码（sparse=False）：\n",
      " [[  0.   1.   0. 100.]\n",
      " [  1.   0.   0.  50.]\n",
      " [  0.   0.   1.  20.]]\n"
     ]
    }
   ],
   "source": [
    "# 字典特征提取\n",
    "\n",
    "from sklearn.feature_extraction import DictVectorizer\n",
    "\n",
    "data = [\n",
    "    {\"city\":\"北京\",\"temperature\":100},\n",
    "    {\"city\":\"上海\",\"temperature\":50},\n",
    "    {\"city\":\"深圳\",\"temperature\":20}\n",
    "]\n",
    "\n",
    "# 1、实例化转换器对象：sparse=True\n",
    "transform = DictVectorizer(sparse=True)\n",
    "# 2、对数据进行提取\n",
    "feature = transform.fit_transform(data)\n",
    "\n",
    "print(\"特征名称：\\n\",transform.get_feature_names())\n",
    "print(\"特征矩阵（sparse=True）：\\n\",feature)\n",
    "\n",
    "# 1、实例化转换器对象：sparse=False\n",
    "transform = DictVectorizer(sparse=False)\n",
    "# 2、对数据进行提取\n",
    "feature = transform.fit_transform(data)\n",
    "\n",
    "print(\"特征名称：\\n\",transform.get_feature_names())\n",
    "print(\"one-hot编码（sparse=False）：\\n\",feature)\n"
   ]
  },
  {
   "cell_type": "markdown",
   "metadata": {},
   "source": [
    "##### 文本特征提取\n",
    "- sklearn.feature_extraction.text.CountVectorizer(stop_words=[])\n",
    "    - 返回词频矩阵\n",
    "    - CountVectorizer.fit_transform(X)\n",
    "        - X：文本或者包含文本字符串的可迭代对象\n",
    "        - 返回值：返回sparse矩阵\n",
    "    - CountVertorizer.get_feature_names()：返回单词列表"
   ]
  },
  {
   "cell_type": "code",
   "execution_count": 56,
   "metadata": {},
   "outputs": [
    {
     "name": "stdout",
     "output_type": "stream",
     "text": [
      "返回特征名字\n",
      " ['is', 'life', 'like', 'long', 'python', 'short', 'too']\n",
      "文本抽取结果\n",
      "   (0, 1)\t1\n",
      "  (0, 0)\t2\n",
      "  (0, 5)\t1\n",
      "  (0, 2)\t1\n",
      "  (0, 4)\t1\n",
      "  (1, 1)\t1\n",
      "  (1, 0)\t1\n",
      "  (1, 4)\t1\n",
      "  (1, 6)\t1\n",
      "  (1, 3)\t1\n",
      "文本抽取结果\n",
      " [[2 1 1 0 1 1 0]\n",
      " [1 1 0 1 1 0 1]]\n"
     ]
    }
   ],
   "source": [
    "# 文本特征提取-英文\n",
    "\n",
    "from sklearn.feature_extraction.text import CountVectorizer\n",
    "\n",
    "data = [\"life is is short,i like python\",\"life is too long,i dislike python\"]\n",
    "\n",
    "# 1、实例化对象\n",
    "transform = CountVectorizer(stop_words=[\"dislike\"])    # 不对 \"dislike\" 进行统计\n",
    "# transform = CountVectorizer(sparse=True)     # 报错，CountVectorizer()没有sparse参数，通过 toarray()对sparse矩阵转换为数组\n",
    "\n",
    "# 2、提取文本数据\n",
    "feature = transform.fit_transform(data)\n",
    "\n",
    "print(\"返回特征名字\\n\",transform.get_feature_names())\n",
    "print(\"文本抽取结果\\n\",feature)\n",
    "print(\"文本抽取结果\\n\",feature.toarray())"
   ]
  },
  {
   "cell_type": "code",
   "execution_count": 83,
   "metadata": {},
   "outputs": [
    {
     "name": "stdout",
     "output_type": "stream",
     "text": [
      "特征名称：\n",
      " ['不会', '不要', '之前', '了解', '事物', '今天', '光是在', '发出', '取决于', '后天', '含义', '如何', '如果', '宇宙', '我们', '所以', '放弃', '明天', '星系', '晚上', '某样', '残酷', '每个', '百万年', '看到', '真正', '秘密', '绝对', '美好', '联系', '过去', '还是', '这样', '部分']\n",
      "特征提取结果：\n",
      "   (0, 31)\t1\n",
      "  (0, 5)\t2\n",
      "  (0, 21)\t2\n",
      "  (0, 17)\t2\n",
      "  (0, 9)\t1\n",
      "  (0, 28)\t1\n",
      "  (0, 27)\t1\n",
      "  (0, 33)\t1\n",
      "  (0, 19)\t1\n",
      "  (0, 15)\t1\n",
      "  (0, 22)\t1\n",
      "  (0, 1)\t1\n",
      "  (0, 16)\t1\n",
      "  (1, 14)\t3\n",
      "  (1, 24)\t2\n",
      "  (1, 18)\t1\n",
      "  (1, 6)\t1\n",
      "  (1, 23)\t1\n",
      "  (1, 2)\t1\n",
      "  (1, 7)\t1\n",
      "  (1, 32)\t1\n",
      "  (1, 13)\t1\n",
      "  (1, 30)\t1\n",
      "  (2, 14)\t1\n",
      "  (2, 12)\t1\n",
      "  (2, 3)\t4\n",
      "  (2, 20)\t1\n",
      "  (2, 4)\t3\n",
      "  (2, 0)\t1\n",
      "  (2, 25)\t2\n",
      "  (2, 10)\t1\n",
      "  (2, 26)\t1\n",
      "  (2, 8)\t1\n",
      "  (2, 11)\t1\n",
      "  (2, 29)\t1\n",
      "特征提取结果数组形式：\n",
      " [[0 1 0 0 0 2 0 0 0 1 0 0 0 0 0 1 1 2 0 1 0 2 1 0 0 0 0 1 1 0 0 1 0 1]\n",
      " [0 0 1 0 0 0 1 1 0 0 0 0 0 1 3 0 0 0 1 0 0 0 0 1 2 0 0 0 0 0 1 0 1 0]\n",
      " [1 0 0 4 3 0 0 0 1 0 1 1 1 0 1 0 0 0 0 0 1 0 0 0 0 2 1 0 0 1 0 0 0 0]]\n"
     ]
    }
   ],
   "source": [
    "# 文本特征提取-中文\n",
    "'''\n",
    "在对英文进行分词时，英文自带空格，所以可以进行特征提取\n",
    "若需要对中文进行特征提取，但是中文没有空格，需要使用jieba分词对中文进行分词，然后将分词结果用空格进行连接，之后在进行特征提取\n",
    "'''\n",
    "\n",
    "from sklearn.feature_extraction.text import CountVectorizer\n",
    "import jieba\n",
    "\n",
    "\n",
    "data = [\"⼀种还是⼀种今天很残酷，明天更残酷，后天很美好，但绝对⼤部分是死在明天晚上，所以每个⼈不要放弃今天。\",\n",
    "\"我们看到的从很远星系来的光是在⼏百万年之前发出的，这样当我们看到宇宙时，我们是在看它的过去。\",\n",
    "\"如果只⽤⼀种⽅式了解某样事物，你就不会真正了解它。了解事物真正含义的秘密取决于如何将其与我们所了解的事物相联系。\"]\n",
    "\n",
    "seg = []\n",
    "\n",
    "# 将列表中元素，依次分词\n",
    "for i in data:\n",
    "    '''\n",
    "     思路：对列表中每个元素（即每一个句子）进行中文分词，然后用空格对每个分词进行连接\n",
    "    '''\n",
    "    l = \" \".join(jieba.lcut(i))\n",
    "    seg.append(l)\n",
    "\n",
    "\n",
    "# 实例化对象\n",
    "vector = CountVectorizer()\n",
    "feature = vector.fit_transform(seg)\n",
    "\n",
    "print(\"特征名称：\\n\",vector.get_feature_names())\n",
    "print(\"特征提取结果：\\n\",feature)\n",
    "print(\"特征提取结果数组形式：\\n\",feature.toarray())\n"
   ]
  },
  {
   "cell_type": "markdown",
   "metadata": {},
   "source": [
    "##### TF-IDF文本特征提取\n",
    "- 主要思想：如果某个词或短语在一篇文章中出现的概率高，并且在其他文章中很少出现，则认为此词或者短语具有很好的类别区分能力，适合用来分类。\n",
    "- TF-IDF作用：用以评估一字词对于一个文件集或一个语料库中的其中一份文件的重要程度。\n",
    "- 公式：\n",
    "    - 词频(Term Frequency，tf)：某一个给定的词语在该文件中出现的频率\n",
    "    - 逆向文档频率(Inverse Document Frequency, idf)：一个词语普遍重要性的度量。某一特定词语的idf，可以由总文件数目除以包含该词语的文件数目，再将得到的商取以10为底的对数得到\n",
    "    - ![jupyter](./note_img/note_tfidf.png)\n",
    "    - 最终结果可以理解为重要程度\n",
    "    - 举例：![jupyter](./note_img/note_tfidfexample.png)\n",
    "- sklearn.feature_extraction.text.TfidfVectorizer"
   ]
  },
  {
   "cell_type": "code",
   "execution_count": 85,
   "metadata": {},
   "outputs": [
    {
     "name": "stdout",
     "output_type": "stream",
     "text": [
      "特征名称：\n",
      " ['不会', '不要', '之前', '了解', '事物', '今天', '光是在', '发出', '取决于', '后天', '含义', '如何', '如果', '宇宙', '我们', '所以', '放弃', '明天', '星系', '晚上', '某样', '残酷', '每个', '百万年', '看到', '真正', '秘密', '绝对', '美好', '联系', '过去', '还是', '这样', '部分']\n",
      "特征提取结果：\n",
      "   (0, 16)\t0.21320071635561044\n",
      "  (0, 1)\t0.21320071635561044\n",
      "  (0, 22)\t0.21320071635561044\n",
      "  (0, 15)\t0.21320071635561044\n",
      "  (0, 19)\t0.21320071635561044\n",
      "  (0, 33)\t0.21320071635561044\n",
      "  (0, 27)\t0.21320071635561044\n",
      "  (0, 28)\t0.21320071635561044\n",
      "  (0, 9)\t0.21320071635561044\n",
      "  (0, 17)\t0.4264014327112209\n",
      "  (0, 21)\t0.4264014327112209\n",
      "  (0, 5)\t0.4264014327112209\n",
      "  (0, 31)\t0.21320071635561044\n",
      "  (1, 30)\t0.24108220270067757\n",
      "  (1, 13)\t0.24108220270067757\n",
      "  (1, 32)\t0.24108220270067757\n",
      "  (1, 7)\t0.24108220270067757\n",
      "  (1, 2)\t0.24108220270067757\n",
      "  (1, 23)\t0.24108220270067757\n",
      "  (1, 6)\t0.24108220270067757\n",
      "  (1, 18)\t0.24108220270067757\n",
      "  (1, 24)\t0.48216440540135513\n",
      "  (1, 14)\t0.5500476874707075\n",
      "  (2, 29)\t0.16312888234528164\n",
      "  (2, 11)\t0.16312888234528164\n",
      "  (2, 8)\t0.16312888234528164\n",
      "  (2, 26)\t0.16312888234528164\n",
      "  (2, 10)\t0.16312888234528164\n",
      "  (2, 25)\t0.3262577646905633\n",
      "  (2, 0)\t0.16312888234528164\n",
      "  (2, 4)\t0.48938664703584495\n",
      "  (2, 20)\t0.16312888234528164\n",
      "  (2, 3)\t0.6525155293811266\n",
      "  (2, 12)\t0.16312888234528164\n",
      "  (2, 14)\t0.12406371974446195\n",
      "特征提取结果数组形式：\n",
      " [[0.         0.21320072 0.         0.         0.         0.42640143\n",
      "  0.         0.         0.         0.21320072 0.         0.\n",
      "  0.         0.         0.         0.21320072 0.21320072 0.42640143\n",
      "  0.         0.21320072 0.         0.42640143 0.21320072 0.\n",
      "  0.         0.         0.         0.21320072 0.21320072 0.\n",
      "  0.         0.21320072 0.         0.21320072]\n",
      " [0.         0.         0.2410822  0.         0.         0.\n",
      "  0.2410822  0.2410822  0.         0.         0.         0.\n",
      "  0.         0.2410822  0.55004769 0.         0.         0.\n",
      "  0.2410822  0.         0.         0.         0.         0.2410822\n",
      "  0.48216441 0.         0.         0.         0.         0.\n",
      "  0.2410822  0.         0.2410822  0.        ]\n",
      " [0.16312888 0.         0.         0.65251553 0.48938665 0.\n",
      "  0.         0.         0.16312888 0.         0.16312888 0.16312888\n",
      "  0.16312888 0.         0.12406372 0.         0.         0.\n",
      "  0.         0.         0.16312888 0.         0.         0.\n",
      "  0.         0.32625776 0.16312888 0.         0.         0.16312888\n",
      "  0.         0.         0.         0.        ]]\n"
     ]
    }
   ],
   "source": [
    "# Td-idf\n",
    "\n",
    "from sklearn.feature_extraction.text import TfidfVectorizer\n",
    "import jieba\n",
    "\n",
    "data = [\"⼀种还是⼀种今天很残酷，明天更残酷，后天很美好，但绝对⼤部分是死在明天晚上，所以每个⼈不要放弃今天。\",\n",
    "\"我们看到的从很远星系来的光是在⼏百万年之前发出的，这样当我们看到宇宙时，我们是在看它的过去。\",\n",
    "\"如果只⽤⼀种⽅式了解某样事物，你就不会真正了解它。了解事物真正含义的秘密取决于如何将其与我们所了解的事物相联系。\"]\n",
    "\n",
    "seg = []\n",
    "\n",
    "for i in data:\n",
    "    seg.append(\" \".join(jieba.lcut(i)))\n",
    "\n",
    "# 实例化特征提取对象\n",
    "vector = TfidfVectorizer()\n",
    "feature = vector.fit_transform(seg)\n",
    "print(\"特征名称：\\n\",vector.get_feature_names())\n",
    "print(\"特征提取结果：\\n\",feature)\n",
    "print(\"特征提取结果数组形式：\\n\",feature.toarray())\n",
    "    "
   ]
  },
  {
   "cell_type": "markdown",
   "metadata": {},
   "source": [
    "#### 决策树API\n",
    "- sklearn.tree.DecisionTreeClassifier(criterion='gini',max_depth=None,random_state=None)\n",
    "    - criterion：'gini'、'entropy'\n",
    "        - gini：基尼指数\n",
    "        - entropy：信息增益\n",
    "    - 其余参数：见官方文档 https://scikit-learn.org/stable/modules/generated/sklearn.tree.DecisionTreeClassifier.html#sklearn.tree.DecisionTreeClassifier"
   ]
  },
  {
   "cell_type": "markdown",
   "metadata": {},
   "source": [
    "#### 泰坦尼克号乘客生存预测\n",
    "- https://www.kaggle.com/c/titanic/overview\n",
    "- 解题：https://blog.csdn.net/han_xiaoyang/article/details/49797143\n",
    "![](./note_img/note_TitanicNote.png)"
   ]
  },
  {
   "cell_type": "markdown",
   "metadata": {},
   "source": [
    "- 现在，按照简单的来做"
   ]
  },
  {
   "cell_type": "code",
   "execution_count": 1,
   "metadata": {
    "scrolled": false
   },
   "outputs": [
    {
     "name": "stdout",
     "output_type": "stream",
     "text": [
      "0.7039106145251397\n"
     ]
    },
    {
     "name": "stderr",
     "output_type": "stream",
     "text": [
      "C:\\Users\\Taylor\\AppData\\Local\\Temp/ipykernel_9024/269914331.py:18: SettingWithCopyWarning: \n",
      "A value is trying to be set on a copy of a slice from a DataFrame.\n",
      "Try using .loc[row_indexer,col_indexer] = value instead\n",
      "\n",
      "See the caveats in the documentation: https://pandas.pydata.org/pandas-docs/stable/user_guide/indexing.html#returning-a-view-versus-a-copy\n",
      "  data_train[\"Age\"] = data_train[\"Age\"].fillna(value=data_train[\"Age\"].mean())\n",
      "C:\\Users\\Taylor\\AppData\\Local\\Temp/ipykernel_9024/269914331.py:22: SettingWithCopyWarning: \n",
      "A value is trying to be set on a copy of a slice from a DataFrame.\n",
      "Try using .loc[row_indexer,col_indexer] = value instead\n",
      "\n",
      "See the caveats in the documentation: https://pandas.pydata.org/pandas-docs/stable/user_guide/indexing.html#returning-a-view-versus-a-copy\n",
      "  x[\"Pclass\"] = x[\"Pclass\"].replace({1:\"1\",2:\"2\",3:\"3\"})\n"
     ]
    },
    {
     "data": {
      "text/plain": [
       "'\\n# 对测试数据进行操作\\n\\ndata_test_origin = pd.read_csv(\"./data/Titanic/test.csv\")\\ndata_test = data_test_origin[[\"Pclass\",\"Sex\",\"Age\",\"Fare\"]]\\ndata_test[\"Age\"] = data_test[\"Age\"].fillna(value=data_test[\"Age\"].mean())\\ndata_test[\"Fare\"] = data_test[\"Fare\"].fillna(value=data_test[\"Fare\"].mean())\\nx_test = data_test[[\"Pclass\",\"Sex\",\"Age\",\"Fare\"]]\\nx_test[\"Pclass\"] = x_test[\"Pclass\"].replace({1:\"1\",2:\"2\",3:\"3\"})\\ndummies_test = pd.get_dummies(x_test[[\"Sex\",\"Pclass\"]])\\nx_test = pd.concat([x_test,dummies_test],axis=1)\\nx_test.drop(labels=[\"Pclass\",\"Sex\"],axis=1,inplace=True)\\nx_test[[\"Age\",\"Fare\"]] = scaler.fit_transform(x_test[[\"Age\",\"Fare\"]])\\n\\ny_pre = estimator.predict(x_test)\\n\\nresult_df.to_csv(\"./data/Titanic/resultPred.csv\",index=False)\\n'"
      ]
     },
     "execution_count": 1,
     "metadata": {},
     "output_type": "execute_result"
    }
   ],
   "source": [
    "import pandas as pd\n",
    "import numpy as np\n",
    "from pandas import DataFrame,Series\n",
    "from sklearn.model_selection import train_test_split\n",
    "from sklearn.preprocessing import StandardScaler\n",
    "from sklearn.feature_extraction import DictVectorizer\n",
    "from sklearn.tree import DecisionTreeClassifier\n",
    "from sklearn.metrics import mean_squared_error,classification_report\n",
    "# 1、获取数据\n",
    "data_train_origin = pd.read_csv(\"./data/Titanic/train.csv\")\n",
    "\n",
    "\n",
    "# 2、数据基本处理\n",
    "# 2.1、获取需要的特征属性\n",
    "data_train = data_train_origin[[\"Pclass\",\"Sex\",\"Age\",\"Fare\",\"Survived\"]]\n",
    "\n",
    "# 2.2、处理缺失值Age\n",
    "data_train[\"Age\"] = data_train[\"Age\"].fillna(value=data_train[\"Age\"].mean())\n",
    "\n",
    "# 2.3、获取特征值和目标值\n",
    "x = data_train[[\"Pclass\",\"Sex\",\"Age\",\"Fare\"]]\n",
    "x[\"Pclass\"] = x[\"Pclass\"].replace({1:\"1\",2:\"2\",3:\"3\"})\n",
    "y = data_train[\"Survived\"]\n",
    "\n",
    "# 2.3、数据分割。在此我们不对数据做分割，分为训练集和测试集。我们就把该data_train数据作为训练集，将data_test作为测试集\n",
    "x_train,x_test,y_train,y_test = train_test_split(x,y,test_size=0.2,random_state=20)\n",
    "\n",
    "\n",
    "# 3、特征工程-特征提取、标准化\n",
    "# 3.1、 特征提取：特征中出现类别符号，需要进⾏one-hot编码处理(两种方法：DictVectorizer()，pd.get_dummies())\n",
    "dummies_train = pd.get_dummies(x_train[[\"Sex\",\"Pclass\"]])\n",
    "dummies_test = pd.get_dummies(x_test[[\"Sex\",\"Pclass\"]])\n",
    "# 3.1.1 将特征数据与one-hot数据进行连接\n",
    "x_train = pd.concat([x_train,dummies_train],axis=1)\n",
    "x_test = pd.concat([x_test,dummies_test],axis=1)\n",
    "# 3.1.2 将转换了one-hot编码的列，进行删除\n",
    "x_train.drop(labels=[\"Pclass\",\"Sex\"],axis=1,inplace=True)\n",
    "x_test.drop(labels=[\"Pclass\",\"Sex\"],axis=1,inplace=True)\n",
    "\n",
    "# 3.2、标准化\n",
    "scaler = StandardScaler()\n",
    "x_train[[\"Age\",\"Fare\"]] = scaler.fit_transform(x_train[[\"Age\",\"Fare\"]])\n",
    "x_test[[\"Age\",\"Fare\"]] = scaler.fit_transform(x_test[[\"Age\",\"Fare\"]])\n",
    "\n",
    "# 4、机器学习\n",
    "estimator = DecisionTreeClassifier()\n",
    "estimator.fit(x_train,y_train)\n",
    "\n",
    "\n",
    "\n",
    "# 5、模型评估\n",
    "y_pre = estimator.predict(x_test)\n",
    "\n",
    "score = estimator.score(x_test,y_test)\n",
    "\n",
    "print(score)    # 0.7039106145251397\n",
    "\n",
    "\n",
    "'''\n",
    "# 对测试数据进行操作\n",
    "\n",
    "data_test_origin = pd.read_csv(\"./data/Titanic/test.csv\")\n",
    "data_test = data_test_origin[[\"Pclass\",\"Sex\",\"Age\",\"Fare\"]]\n",
    "data_test[\"Age\"] = data_test[\"Age\"].fillna(value=data_test[\"Age\"].mean())\n",
    "data_test[\"Fare\"] = data_test[\"Fare\"].fillna(value=data_test[\"Fare\"].mean())\n",
    "x_test = data_test[[\"Pclass\",\"Sex\",\"Age\",\"Fare\"]]\n",
    "x_test[\"Pclass\"] = x_test[\"Pclass\"].replace({1:\"1\",2:\"2\",3:\"3\"})\n",
    "dummies_test = pd.get_dummies(x_test[[\"Sex\",\"Pclass\"]])\n",
    "x_test = pd.concat([x_test,dummies_test],axis=1)\n",
    "x_test.drop(labels=[\"Pclass\",\"Sex\"],axis=1,inplace=True)\n",
    "x_test[[\"Age\",\"Fare\"]] = scaler.fit_transform(x_test[[\"Age\",\"Fare\"]])\n",
    "\n",
    "y_pre = estimator.predict(x_test)\n",
    "\n",
    "result_df.to_csv(\"./data/Titanic/resultPred.csv\",index=False)\n",
    "'''"
   ]
  },
  {
   "cell_type": "markdown",
   "metadata": {},
   "source": [
    "#### 决策树可视化\n",
    "- 把tree.dot文件内容放在 http://webgraphviz.com/ 展示\n",
    "- sklearn.tree.export_graphviz(extimator,out_file=\"tree.dot\",feature_names=[\"age, Pclass=1,Pclass=2\"])\n"
   ]
  },
  {
   "cell_type": "code",
   "execution_count": 11,
   "metadata": {},
   "outputs": [],
   "source": [
    "import sklearn.tree as tree\n",
    "\n",
    "tree.export_graphviz(estimator, out_file=\"tree.dot\")"
   ]
  },
  {
   "cell_type": "markdown",
   "metadata": {},
   "source": [
    "#### 回归决策树\n",
    "- 关于数据类型，我们可以将其分为两大类：连续性数据和离散型数据。在面对不同数据时，决策树也分为两大类：分类决策树（处理离散型数据）和回归决策树（处理连续性数据）\n",
    "- 原理概述：\n",
    "    - 不管是是回归决策树还是分类决策树，都存在两个核心问题：\n",
    "        - 如何选择划分点？\n",
    "        - 如何决定叶节点的输出值？\n",
    "    - 分类树中，我们采用信息论中的方法，通过计算选择最佳划分点。\n",
    "    - 一个回归树对应着输入空间(即特征空间)的一个划分以及在划分单元上的输出值。在回归树中，采用的是启发式的方法。假如我们有n个特征，每个特征有si(i ∈(1, n))个取值，那我们遍历所有特征，尝试该特征所有取值，对空间进行划分，直到取到特征j的取值s，使得损失函数最小，这样就得到了一个划分点。描述该过程的公式如下: ![jupyter](./note_img/note_decisiontreeformula.png)\n",
    "    - 假设将输入空间划分为M个单元: R1, R2.... Rm，那么每个区域的输出值就是: cm = avg(ji|xi∈Rm)也就是该区域内所有点y值的平均数。"
   ]
  },
  {
   "cell_type": "markdown",
   "metadata": {},
   "source": [
    "##### 回归决策树与线性回归对比：通过代码演示"
   ]
  },
  {
   "cell_type": "code",
   "execution_count": 727,
   "metadata": {},
   "outputs": [
    {
     "data": {
      "image/png": "[encoded data removed]",
      "text/plain": [
       "<Figure size 1000x400 with 1 Axes>"
      ]
     },
     "metadata": {
      "needs_background": "light"
     },
     "output_type": "display_data"
    }
   ],
   "source": [
    "# 回归决策树与线性回归对比\n",
    "import numpy as np\n",
    "import matplotlib.pyplot as plt\n",
    "from sklearn.linear_model import LinearRegression\n",
    "from sklearn.tree import DecisionTreeRegressor\n",
    "\n",
    "x = np.array(list(range(1,11))).reshape(-1,1)\n",
    "y = [5.56,5.70,5.91,6.40,6.80,7.05,8.90,8.70,9.00,9.05]\n",
    "\n",
    "m1 = DecisionTreeRegressor(max_depth=1)\n",
    "m2 = DecisionTreeRegressor(max_depth=5)\n",
    "m3 = LinearRegression()\n",
    "\n",
    "m1.fit(x,y)\n",
    "m2.fit(x,y)\n",
    "m3.fit(x,y)\n",
    "\n",
    "# 使用不同模型，对数据进行预测\n",
    "x_test = np.arange(1,10,0.01).reshape(-1,1)\n",
    "y1_pre = m1.predict(x_test)\n",
    "y2_pre = m2.predict(x_test)\n",
    "y3_pre = m3.predict(x_test)\n",
    "\n",
    "# 画图，使数据更加直观\n",
    "plt.figure(figsize=(10,4),dpi=100)\n",
    "\n",
    "plt.scatter(x,y)\n",
    "plt.plot(x_test,y1_pre,label=\"max_depth=1\")\n",
    "plt.plot(x_test,y2_pre,label=\"max_depth=5\")\n",
    "plt.plot(x_test,y3_pre,label=\"linear regression\")\n",
    "plt.xlabel(\"特征值\")\n",
    "plt.ylabel(\"预测值\")\n",
    "plt.title(\"回归决策树与线性回归对比\")\n",
    "plt.legend()\n",
    "\n",
    "plt.show()\n"
   ]
  },
  {
   "cell_type": "markdown",
   "metadata": {},
   "source": [
    "### 集成学习\n",
    "- 集成学习通过建立几个模型来解决单一预测问题。它的工作原理是生成多个模型，各自独立地学习和作出预测。这些预测最后结合成组合预测，因此优于任何一个单分类的做出预测。\n",
    "- 集成学习中Boosting和Bagging\n",
    "    - 欠拟合问题：弱弱组合变强，主要方法：Boosting逐步增强学习\n",
    "    - 过拟合问题：互相遏制变壮，主要方法：Bagging采样学习集成\n",
    "- 只要单分类器的表现不太差，集成学习的结果总是好于单分类器"
   ]
  },
  {
   "cell_type": "markdown",
   "metadata": {},
   "source": [
    "#### Bagging和随机森林\n",
    "\n",
    "##### Bagging算法\n",
    "- 学习器之间不存在依赖关系和可以并行生成学习器。给定包含m个样本的数据集，我们先随机取出一个样本放入采样中，再把该样本放回初始数据集，使得下次采样时该样本仍有可能被选中。这样，经过m次随机采样操作，我们得到含m个样本的采样集，初始训练集中有的样本在采样集里多次出现，有的则从未出现。初始训练集中约有63.2%的样本出现在采样集中。照这样，我们可采样出T个含m个训练样本的采样集，然后基于每个采样集训练出一个基学习器，再将这些基学习器进行结合。\n",
    "\n",
    "- Bagging集成优点\n",
    "    - Bagging +决策树/线性回归/逻辑回归/深度学习... = Bagging集成学习方法\n",
    "    - 经过上述组成的集成学习方法：\n",
    "        - 均可在原有算法上提高2%左右的泛化正确率\n",
    "        - 简单、方便、通用\n",
    "\n",
    "##### 随机森林算法\n",
    "- 在机器学习中，随机森林是一个包含多个决策树的分类器，并且其输出的类别是由个别树输出的类别的众数而定。随机森林 = Bagging + 决策树   ![jupyter](./note_img/note_randomforestprocess.png) 例如，如果你训练了5个树，其中有4个树的结果是True, 1个树的结果是False,那么最终投票结果就是True\n",
    "- 随机森林构造的关键步骤（M表示特征数量）\n",
    "    - 1)一次随机选出一个样本，有放回的抽样，重复N次(有可能出现重复的样本)\n",
    "    - 2)随机去选出m个特征, m << M，建立决策树\n",
    "\n",
    "- 包外估计：前面在自助法中已提到，这里不再讲述\n",
    "    - 用途：\n",
    "        - 当基学习器是决策树时，可使用包外样本来辅助剪枝，或用于估计决策树中各结点的后验概率以辅助对零训练样本结点的处理\n",
    "        - 当基学习器是神经网络时，可使用包外样本来辅助早期停止以减小过拟合\n",
    "\n",
    "##### 随机森林API\n",
    "- sklearn.ensemble.RandomForestClassifier(n_estimators=10,criterion=\"gini\",max_depth=None,bootstrap=True,min_samples_split=2)\n",
    "    - n_estimators：森林中决策树的数量。利用最大投票数或平均值来预测\n",
    "    - criterion：分割特征的测量方法\n",
    "    - max_depth：树的最大深度\n",
    "    - max_features：\"auto\"，每个决策树的最大特征数量\n",
    "        - \"auto\"：sqrt(n_features)\n",
    "        - \"sqrt\"：sqrt(n_features)，类似于\"auto\"\n",
    "        - \"log2\"：sqrt(n_features)\n",
    "        - None：sqrt(n_features)\n",
    "    - bootstrap：boolean值，是否在构建树时有放回抽样\n",
    "    - min_samples_split：内部节点再划分所需最小样本数\n",
    "    - min_samples_leaf：叶节点的最小样本数\n",
    "    - min_impurity_split：节点划分的最小不纯度（不推荐改动），这个值限制了决策树的增长，如果某节点的不纯度(基于基尼系数，均方差)小于这个阈值，则该节点不再生成子节点，即为叶子节点。"
   ]
  },
  {
   "cell_type": "code",
   "execution_count": 736,
   "metadata": {},
   "outputs": [
    {
     "name": "stdout",
     "output_type": "stream",
     "text": [
      "0.8100558659217877\n"
     ]
    }
   ],
   "source": [
    "# 随机森林（基于Bagging算法实现）\n",
    "\n",
    "from sklearn.ensemble import RandomForestClassifier\n",
    "from sklearn.model_selection import GridSearchCV\n",
    "\n",
    "# 将Titanic数据导入：直接使用：x_train、x_test、y_trian、y_test\n",
    "\n",
    "\n",
    "# 机器学习-随机森林\n",
    "rfc = RandomForestClassifier()\n",
    "param = {\"n_estimators\":[100,300,500],\"max_depth\":[5,10,15]}\n",
    "estimator = GridSearchCV(rfc,param_grid=param,cv=3)\n",
    "estimator.fit(x_train,y_train)\n",
    "\n",
    "# 模型评估\n",
    "score = estimator.score(x_test,y_test)\n",
    "print(score)\n"
   ]
  },
  {
   "cell_type": "markdown",
   "metadata": {},
   "source": [
    "#### otto案例：Otto Group Product Classification Challenge\n",
    "- https://www.kaggle.com/c/otto-group-product-classification-challenge/overview\n",
    "- 93个特征，9个类别"
   ]
  },
  {
   "cell_type": "code",
   "execution_count": 131,
   "metadata": {},
   "outputs": [],
   "source": [
    "import numpy as np\n",
    "import pandas as pd\n",
    "from matplotlib import pyplot as plt\n",
    "import seaborn as sns\n",
    "from imblearn.under_sampling import RandomUnderSampler\n",
    "from sklearn.preprocessing import LabelEncoder    # 将目标值转换为数字\n",
    "from sklearn.model_selection import train_test_split,GridSearchCV\n",
    "from sklearn.ensemble import RandomForestClassifier"
   ]
  },
  {
   "cell_type": "code",
   "execution_count": 132,
   "metadata": {},
   "outputs": [
    {
     "data": {
      "text/html": [
       "<div>\n",
       "<style scoped>\n",
       "    .dataframe tbody tr th:only-of-type {\n",
       "        vertical-align: middle;\n",
       "    }\n",
       "\n",
       "    .dataframe tbody tr th {\n",
       "        vertical-align: top;\n",
       "    }\n",
       "\n",
       "    .dataframe thead th {\n",
       "        text-align: right;\n",
       "    }\n",
       "</style>\n",
       "<table border=\"1\" class=\"dataframe\">\n",
       "  <thead>\n",
       "    <tr style=\"text-align: right;\">\n",
       "      <th></th>\n",
       "      <th>id</th>\n",
       "      <th>feat_1</th>\n",
       "      <th>feat_2</th>\n",
       "      <th>feat_3</th>\n",
       "      <th>feat_4</th>\n",
       "      <th>feat_5</th>\n",
       "      <th>feat_6</th>\n",
       "      <th>feat_7</th>\n",
       "      <th>feat_8</th>\n",
       "      <th>feat_9</th>\n",
       "      <th>...</th>\n",
       "      <th>feat_85</th>\n",
       "      <th>feat_86</th>\n",
       "      <th>feat_87</th>\n",
       "      <th>feat_88</th>\n",
       "      <th>feat_89</th>\n",
       "      <th>feat_90</th>\n",
       "      <th>feat_91</th>\n",
       "      <th>feat_92</th>\n",
       "      <th>feat_93</th>\n",
       "      <th>target</th>\n",
       "    </tr>\n",
       "  </thead>\n",
       "  <tbody>\n",
       "    <tr>\n",
       "      <th>0</th>\n",
       "      <td>1</td>\n",
       "      <td>1</td>\n",
       "      <td>0</td>\n",
       "      <td>0</td>\n",
       "      <td>0</td>\n",
       "      <td>0</td>\n",
       "      <td>0</td>\n",
       "      <td>0</td>\n",
       "      <td>0</td>\n",
       "      <td>0</td>\n",
       "      <td>...</td>\n",
       "      <td>1</td>\n",
       "      <td>0</td>\n",
       "      <td>0</td>\n",
       "      <td>0</td>\n",
       "      <td>0</td>\n",
       "      <td>0</td>\n",
       "      <td>0</td>\n",
       "      <td>0</td>\n",
       "      <td>0</td>\n",
       "      <td>Class_1</td>\n",
       "    </tr>\n",
       "    <tr>\n",
       "      <th>1</th>\n",
       "      <td>2</td>\n",
       "      <td>0</td>\n",
       "      <td>0</td>\n",
       "      <td>0</td>\n",
       "      <td>0</td>\n",
       "      <td>0</td>\n",
       "      <td>0</td>\n",
       "      <td>0</td>\n",
       "      <td>1</td>\n",
       "      <td>0</td>\n",
       "      <td>...</td>\n",
       "      <td>0</td>\n",
       "      <td>0</td>\n",
       "      <td>0</td>\n",
       "      <td>0</td>\n",
       "      <td>0</td>\n",
       "      <td>0</td>\n",
       "      <td>0</td>\n",
       "      <td>0</td>\n",
       "      <td>0</td>\n",
       "      <td>Class_1</td>\n",
       "    </tr>\n",
       "    <tr>\n",
       "      <th>2</th>\n",
       "      <td>3</td>\n",
       "      <td>0</td>\n",
       "      <td>0</td>\n",
       "      <td>0</td>\n",
       "      <td>0</td>\n",
       "      <td>0</td>\n",
       "      <td>0</td>\n",
       "      <td>0</td>\n",
       "      <td>1</td>\n",
       "      <td>0</td>\n",
       "      <td>...</td>\n",
       "      <td>0</td>\n",
       "      <td>0</td>\n",
       "      <td>0</td>\n",
       "      <td>0</td>\n",
       "      <td>0</td>\n",
       "      <td>0</td>\n",
       "      <td>0</td>\n",
       "      <td>0</td>\n",
       "      <td>0</td>\n",
       "      <td>Class_1</td>\n",
       "    </tr>\n",
       "    <tr>\n",
       "      <th>3</th>\n",
       "      <td>4</td>\n",
       "      <td>1</td>\n",
       "      <td>0</td>\n",
       "      <td>0</td>\n",
       "      <td>1</td>\n",
       "      <td>6</td>\n",
       "      <td>1</td>\n",
       "      <td>5</td>\n",
       "      <td>0</td>\n",
       "      <td>0</td>\n",
       "      <td>...</td>\n",
       "      <td>0</td>\n",
       "      <td>1</td>\n",
       "      <td>2</td>\n",
       "      <td>0</td>\n",
       "      <td>0</td>\n",
       "      <td>0</td>\n",
       "      <td>0</td>\n",
       "      <td>0</td>\n",
       "      <td>0</td>\n",
       "      <td>Class_1</td>\n",
       "    </tr>\n",
       "    <tr>\n",
       "      <th>4</th>\n",
       "      <td>5</td>\n",
       "      <td>0</td>\n",
       "      <td>0</td>\n",
       "      <td>0</td>\n",
       "      <td>0</td>\n",
       "      <td>0</td>\n",
       "      <td>0</td>\n",
       "      <td>0</td>\n",
       "      <td>0</td>\n",
       "      <td>0</td>\n",
       "      <td>...</td>\n",
       "      <td>1</td>\n",
       "      <td>0</td>\n",
       "      <td>0</td>\n",
       "      <td>0</td>\n",
       "      <td>0</td>\n",
       "      <td>1</td>\n",
       "      <td>0</td>\n",
       "      <td>0</td>\n",
       "      <td>0</td>\n",
       "      <td>Class_1</td>\n",
       "    </tr>\n",
       "  </tbody>\n",
       "</table>\n",
       "<p>5 rows × 95 columns</p>\n",
       "</div>"
      ],
      "text/plain": [
       "   id  feat_1  feat_2  feat_3  feat_4  feat_5  feat_6  feat_7  feat_8  feat_9  \\\n",
       "0   1       1       0       0       0       0       0       0       0       0   \n",
       "1   2       0       0       0       0       0       0       0       1       0   \n",
       "2   3       0       0       0       0       0       0       0       1       0   \n",
       "3   4       1       0       0       1       6       1       5       0       0   \n",
       "4   5       0       0       0       0       0       0       0       0       0   \n",
       "\n",
       "   ...  feat_85  feat_86  feat_87  feat_88  feat_89  feat_90  feat_91  \\\n",
       "0  ...        1        0        0        0        0        0        0   \n",
       "1  ...        0        0        0        0        0        0        0   \n",
       "2  ...        0        0        0        0        0        0        0   \n",
       "3  ...        0        1        2        0        0        0        0   \n",
       "4  ...        1        0        0        0        0        1        0   \n",
       "\n",
       "   feat_92  feat_93   target  \n",
       "0        0        0  Class_1  \n",
       "1        0        0  Class_1  \n",
       "2        0        0  Class_1  \n",
       "3        0        0  Class_1  \n",
       "4        0        0  Class_1  \n",
       "\n",
       "[5 rows x 95 columns]"
      ]
     },
     "execution_count": 132,
     "metadata": {},
     "output_type": "execute_result"
    }
   ],
   "source": [
    "# 1、获取数据\n",
    "data = pd.read_csv(\"./data/Otto/train.csv\")\n",
    "data.head()"
   ]
  },
  {
   "cell_type": "markdown",
   "metadata": {},
   "source": [
    "- 我们需要查看不同类别包含的商品个数，方便进行判断"
   ]
  },
  {
   "cell_type": "code",
   "execution_count": 133,
   "metadata": {},
   "outputs": [
    {
     "name": "stderr",
     "output_type": "stream",
     "text": [
      "E:\\Anaconda\\lib\\site-packages\\matplotlib\\backends\\backend_agg.py:240: RuntimeWarning: Glyph 25968 missing from current font.\n",
      "  font.set_text(s, 0.0, flags=flags)\n",
      "E:\\Anaconda\\lib\\site-packages\\matplotlib\\backends\\backend_agg.py:240: RuntimeWarning: Glyph 37327 missing from current font.\n",
      "  font.set_text(s, 0.0, flags=flags)\n",
      "E:\\Anaconda\\lib\\site-packages\\matplotlib\\backends\\backend_agg.py:203: RuntimeWarning: Glyph 25968 missing from current font.\n",
      "  font.set_text(s, 0, flags=flags)\n",
      "E:\\Anaconda\\lib\\site-packages\\matplotlib\\backends\\backend_agg.py:203: RuntimeWarning: Glyph 37327 missing from current font.\n",
      "  font.set_text(s, 0, flags=flags)\n"
     ]
    },
    {
     "data": {
      "image/png": "[encoded data removed]",
      "text/plain": [
       "<Figure size 800x320 with 1 Axes>"
      ]
     },
     "metadata": {
      "needs_background": "light"
     },
     "output_type": "display_data"
    }
   ],
   "source": [
    "plt.figure(figsize=(10,4),dpi=80)\n",
    "\n",
    "# 获取x轴、y轴数据\n",
    "x = sorted(data[\"target\"].unique())\n",
    "y = data[\"target\"].value_counts().sort_index()\n",
    "\n",
    "plt.bar(x,height=y)\n",
    "\n",
    "plt.xlabel(\"类别\")\n",
    "plt.xlabel(\"数量\")\n",
    "\n",
    "plt.show()"
   ]
  },
  {
   "cell_type": "code",
   "execution_count": 134,
   "metadata": {},
   "outputs": [],
   "source": [
    "# 2、数据基本处理\n",
    "\n",
    "# 2.1 截取部分数据，使用随机欠采样获取数据\n",
    "rus = RandomUnderSampler()\n",
    "x,y = rus.fit_resample(data.iloc[:,1:-1],data[\"target\"])\n",
    "\n",
    "# 2.2 把目标值中Class_1等字符，转换为数字。sklearn.preprocessing.LabelEncoder\n",
    "le = LabelEncoder()\n",
    "y = le.fit_transform(y)\n",
    "\n",
    "# 2.3 分割数据\n",
    "x_train,x_test,y_train,y_test = train_test_split(x,y,test_size=0.2,random_state=20)\n"
   ]
  },
  {
   "cell_type": "code",
   "execution_count": 135,
   "metadata": {},
   "outputs": [
    {
     "data": {
      "text/plain": [
       "RandomForestClassifier()"
      ]
     },
     "execution_count": 135,
     "metadata": {},
     "output_type": "execute_result"
    }
   ],
   "source": [
    "# 机器学习-随机森林\n",
    "rf = RandomForestClassifier(oob_score=False)\n",
    "rf.fit(x_train,y_train)"
   ]
  },
  {
   "cell_type": "code",
   "execution_count": 136,
   "metadata": {},
   "outputs": [
    {
     "data": {
      "text/plain": [
       "0.7788655341203571"
      ]
     },
     "execution_count": 136,
     "metadata": {},
     "output_type": "execute_result"
    }
   ],
   "source": [
    "# 模型评估\n",
    "y_pre = rf.predict(x_test)\n",
    "\n",
    "rf.score(x_test,y_test)"
   ]
  },
  {
   "cell_type": "code",
   "execution_count": 139,
   "metadata": {},
   "outputs": [
    {
     "data": {
      "text/plain": [
       "7.637713870225003"
      ]
     },
     "execution_count": 139,
     "metadata": {},
     "output_type": "execute_result"
    }
   ],
   "source": [
    "# 使用 logloss模型评估\n",
    "from sklearn.metrics import log_loss\n",
    "from sklearn.preprocessing import OneHotEncoder\n",
    "\n",
    "# log_loss(y_test,y_pre,eps=1e-15)   # 报错，需要将传入数据写为 one-hot编码形式\n",
    "\n",
    "one_hot = OneHotEncoder(sparse=False)\n",
    "y_test2 = one_hot.fit_transform(y_test.reshape(-1,1))\n",
    "y_pre2 = one_hot.fit_transform(y_pre.reshape(-1,1))\n",
    "\n",
    "log_loss(y_test2,y_pre2)"
   ]
  },
  {
   "cell_type": "markdown",
   "metadata": {},
   "source": [
    "##### 模型调优\n",
    "- n_estimators、max_feature、max_depth、min_samples_leaf"
   ]
  },
  {
   "cell_type": "code",
   "execution_count": 875,
   "metadata": {},
   "outputs": [
    {
     "name": "stderr",
     "output_type": "stream",
     "text": [
      "E:\\Anaconda\\lib\\site-packages\\sklearn\\ensemble\\_forest.py:541: UserWarning: Some inputs do not have OOB scores. This probably means too few trees were used to compute any reliable oob estimates.\n",
      "  warn(\"Some inputs do not have OOB scores. \"\n",
      "E:\\Anaconda\\lib\\site-packages\\sklearn\\ensemble\\_forest.py:545: RuntimeWarning: invalid value encountered in true_divide\n",
      "  decision = (predictions[k] /\n"
     ]
    },
    {
     "data": {
      "image/png": "[encoded data removed]",
      "text/plain": [
       "<Figure size 600x300 with 1 Axes>"
      ]
     },
     "metadata": {
      "needs_background": "light"
     },
     "output_type": "display_data"
    }
   ],
   "source": [
    "# 展示n_estimators参数，其余参数类似该调优过程，这里不作展示\n",
    "\n",
    "# 为方便进行画图展示，将每个模型的准确度放入列表中\n",
    "score_list = []\n",
    "\n",
    "n_estimator = list(range(10,250,10))\n",
    "\n",
    "for i,one_estimator in enumerate(n_estimator):\n",
    "    estimator = RandomForestClassifier(n_estimators=one_estimator,oob_score=True,n_jobs=-1)\n",
    "    estimator.fit(x_train,y_train)\n",
    "    \n",
    "    score = estimator.score(x_test,y_test)\n",
    "    \n",
    "    score_list.append(score)\n",
    "    \n",
    "\n",
    "# 画图\n",
    "plt.figure(figsize=(10,5),dpi=60)\n",
    "\n",
    "x = n_estimator\n",
    "y = score_list\n",
    "\n",
    "plt.plot(x,y)\n",
    "\n",
    "plt.xlabel(\"估计器数量\")\n",
    "plt.ylabel(\"模型准确度\")\n",
    "\n",
    "plt.show()"
   ]
  },
  {
   "cell_type": "markdown",
   "metadata": {},
   "source": [
    "- 使用交叉验证进行调优"
   ]
  },
  {
   "cell_type": "code",
   "execution_count": 891,
   "metadata": {
    "collapsed": true
   },
   "outputs": [
    {
     "ename": "KeyboardInterrupt",
     "evalue": "",
     "output_type": "error",
     "traceback": [
      "\u001b[1;31m---------------------------------------------------------------------------\u001b[0m",
      "\u001b[1;31mKeyboardInterrupt\u001b[0m                         Traceback (most recent call last)",
      "\u001b[1;32m<ipython-input-891-ebba66cf45f7>\u001b[0m in \u001b[0;36m<module>\u001b[1;34m\u001b[0m\n\u001b[0;32m      7\u001b[0m \u001b[0mestimator\u001b[0m \u001b[1;33m=\u001b[0m \u001b[0mGridSearchCV\u001b[0m\u001b[1;33m(\u001b[0m\u001b[0mestimator\u001b[0m\u001b[1;33m=\u001b[0m\u001b[0mrf\u001b[0m\u001b[1;33m,\u001b[0m\u001b[0mparam_grid\u001b[0m\u001b[1;33m=\u001b[0m\u001b[0mparam\u001b[0m\u001b[1;33m)\u001b[0m\u001b[1;33m\u001b[0m\u001b[1;33m\u001b[0m\u001b[0m\n\u001b[0;32m      8\u001b[0m \u001b[1;33m\u001b[0m\u001b[0m\n\u001b[1;32m----> 9\u001b[1;33m \u001b[0mestimator\u001b[0m\u001b[1;33m.\u001b[0m\u001b[0mfit\u001b[0m\u001b[1;33m(\u001b[0m\u001b[0mx_train\u001b[0m\u001b[1;33m,\u001b[0m\u001b[0my_train\u001b[0m\u001b[1;33m)\u001b[0m\u001b[1;33m\u001b[0m\u001b[1;33m\u001b[0m\u001b[0m\n\u001b[0m\u001b[0;32m     10\u001b[0m \u001b[1;33m\u001b[0m\u001b[0m\n\u001b[0;32m     11\u001b[0m \u001b[1;33m\u001b[0m\u001b[0m\n",
      "\u001b[1;32mE:\\Anaconda\\lib\\site-packages\\sklearn\\utils\\validation.py\u001b[0m in \u001b[0;36minner_f\u001b[1;34m(*args, **kwargs)\u001b[0m\n\u001b[0;32m     61\u001b[0m             \u001b[0mextra_args\u001b[0m \u001b[1;33m=\u001b[0m \u001b[0mlen\u001b[0m\u001b[1;33m(\u001b[0m\u001b[0margs\u001b[0m\u001b[1;33m)\u001b[0m \u001b[1;33m-\u001b[0m \u001b[0mlen\u001b[0m\u001b[1;33m(\u001b[0m\u001b[0mall_args\u001b[0m\u001b[1;33m)\u001b[0m\u001b[1;33m\u001b[0m\u001b[1;33m\u001b[0m\u001b[0m\n\u001b[0;32m     62\u001b[0m             \u001b[1;32mif\u001b[0m \u001b[0mextra_args\u001b[0m \u001b[1;33m<=\u001b[0m \u001b[1;36m0\u001b[0m\u001b[1;33m:\u001b[0m\u001b[1;33m\u001b[0m\u001b[1;33m\u001b[0m\u001b[0m\n\u001b[1;32m---> 63\u001b[1;33m                 \u001b[1;32mreturn\u001b[0m \u001b[0mf\u001b[0m\u001b[1;33m(\u001b[0m\u001b[1;33m*\u001b[0m\u001b[0margs\u001b[0m\u001b[1;33m,\u001b[0m \u001b[1;33m**\u001b[0m\u001b[0mkwargs\u001b[0m\u001b[1;33m)\u001b[0m\u001b[1;33m\u001b[0m\u001b[1;33m\u001b[0m\u001b[0m\n\u001b[0m\u001b[0;32m     64\u001b[0m \u001b[1;33m\u001b[0m\u001b[0m\n\u001b[0;32m     65\u001b[0m             \u001b[1;31m# extra_args > 0\u001b[0m\u001b[1;33m\u001b[0m\u001b[1;33m\u001b[0m\u001b[1;33m\u001b[0m\u001b[0m\n",
      "\u001b[1;32mE:\\Anaconda\\lib\\site-packages\\sklearn\\model_selection\\_search.py\u001b[0m in \u001b[0;36mfit\u001b[1;34m(self, X, y, groups, **fit_params)\u001b[0m\n\u001b[0;32m    839\u001b[0m                 \u001b[1;32mreturn\u001b[0m \u001b[0mresults\u001b[0m\u001b[1;33m\u001b[0m\u001b[1;33m\u001b[0m\u001b[0m\n\u001b[0;32m    840\u001b[0m \u001b[1;33m\u001b[0m\u001b[0m\n\u001b[1;32m--> 841\u001b[1;33m             \u001b[0mself\u001b[0m\u001b[1;33m.\u001b[0m\u001b[0m_run_search\u001b[0m\u001b[1;33m(\u001b[0m\u001b[0mevaluate_candidates\u001b[0m\u001b[1;33m)\u001b[0m\u001b[1;33m\u001b[0m\u001b[1;33m\u001b[0m\u001b[0m\n\u001b[0m\u001b[0;32m    842\u001b[0m \u001b[1;33m\u001b[0m\u001b[0m\n\u001b[0;32m    843\u001b[0m             \u001b[1;31m# multimetric is determined here because in the case of a callable\u001b[0m\u001b[1;33m\u001b[0m\u001b[1;33m\u001b[0m\u001b[1;33m\u001b[0m\u001b[0m\n",
      "\u001b[1;32mE:\\Anaconda\\lib\\site-packages\\sklearn\\model_selection\\_search.py\u001b[0m in \u001b[0;36m_run_search\u001b[1;34m(self, evaluate_candidates)\u001b[0m\n\u001b[0;32m   1294\u001b[0m     \u001b[1;32mdef\u001b[0m \u001b[0m_run_search\u001b[0m\u001b[1;33m(\u001b[0m\u001b[0mself\u001b[0m\u001b[1;33m,\u001b[0m \u001b[0mevaluate_candidates\u001b[0m\u001b[1;33m)\u001b[0m\u001b[1;33m:\u001b[0m\u001b[1;33m\u001b[0m\u001b[1;33m\u001b[0m\u001b[0m\n\u001b[0;32m   1295\u001b[0m         \u001b[1;34m\"\"\"Search all candidates in param_grid\"\"\"\u001b[0m\u001b[1;33m\u001b[0m\u001b[1;33m\u001b[0m\u001b[0m\n\u001b[1;32m-> 1296\u001b[1;33m         \u001b[0mevaluate_candidates\u001b[0m\u001b[1;33m(\u001b[0m\u001b[0mParameterGrid\u001b[0m\u001b[1;33m(\u001b[0m\u001b[0mself\u001b[0m\u001b[1;33m.\u001b[0m\u001b[0mparam_grid\u001b[0m\u001b[1;33m)\u001b[0m\u001b[1;33m)\u001b[0m\u001b[1;33m\u001b[0m\u001b[1;33m\u001b[0m\u001b[0m\n\u001b[0m\u001b[0;32m   1297\u001b[0m \u001b[1;33m\u001b[0m\u001b[0m\n\u001b[0;32m   1298\u001b[0m \u001b[1;33m\u001b[0m\u001b[0m\n",
      "\u001b[1;32mE:\\Anaconda\\lib\\site-packages\\sklearn\\model_selection\\_search.py\u001b[0m in \u001b[0;36mevaluate_candidates\u001b[1;34m(candidate_params, cv, more_results)\u001b[0m\n\u001b[0;32m    793\u001b[0m                               n_splits, n_candidates, n_candidates * n_splits))\n\u001b[0;32m    794\u001b[0m \u001b[1;33m\u001b[0m\u001b[0m\n\u001b[1;32m--> 795\u001b[1;33m                 out = parallel(delayed(_fit_and_score)(clone(base_estimator),\n\u001b[0m\u001b[0;32m    796\u001b[0m                                                        \u001b[0mX\u001b[0m\u001b[1;33m,\u001b[0m \u001b[0my\u001b[0m\u001b[1;33m,\u001b[0m\u001b[1;33m\u001b[0m\u001b[1;33m\u001b[0m\u001b[0m\n\u001b[0;32m    797\u001b[0m                                                        \u001b[0mtrain\u001b[0m\u001b[1;33m=\u001b[0m\u001b[0mtrain\u001b[0m\u001b[1;33m,\u001b[0m \u001b[0mtest\u001b[0m\u001b[1;33m=\u001b[0m\u001b[0mtest\u001b[0m\u001b[1;33m,\u001b[0m\u001b[1;33m\u001b[0m\u001b[1;33m\u001b[0m\u001b[0m\n",
      "\u001b[1;32mE:\\Anaconda\\lib\\site-packages\\joblib\\parallel.py\u001b[0m in \u001b[0;36m__call__\u001b[1;34m(self, iterable)\u001b[0m\n\u001b[0;32m   1042\u001b[0m                 \u001b[0mself\u001b[0m\u001b[1;33m.\u001b[0m\u001b[0m_iterating\u001b[0m \u001b[1;33m=\u001b[0m \u001b[0mself\u001b[0m\u001b[1;33m.\u001b[0m\u001b[0m_original_iterator\u001b[0m \u001b[1;32mis\u001b[0m \u001b[1;32mnot\u001b[0m \u001b[1;32mNone\u001b[0m\u001b[1;33m\u001b[0m\u001b[1;33m\u001b[0m\u001b[0m\n\u001b[0;32m   1043\u001b[0m \u001b[1;33m\u001b[0m\u001b[0m\n\u001b[1;32m-> 1044\u001b[1;33m             \u001b[1;32mwhile\u001b[0m \u001b[0mself\u001b[0m\u001b[1;33m.\u001b[0m\u001b[0mdispatch_one_batch\u001b[0m\u001b[1;33m(\u001b[0m\u001b[0miterator\u001b[0m\u001b[1;33m)\u001b[0m\u001b[1;33m:\u001b[0m\u001b[1;33m\u001b[0m\u001b[1;33m\u001b[0m\u001b[0m\n\u001b[0m\u001b[0;32m   1045\u001b[0m                 \u001b[1;32mpass\u001b[0m\u001b[1;33m\u001b[0m\u001b[1;33m\u001b[0m\u001b[0m\n\u001b[0;32m   1046\u001b[0m \u001b[1;33m\u001b[0m\u001b[0m\n",
      "\u001b[1;32mE:\\Anaconda\\lib\\site-packages\\joblib\\parallel.py\u001b[0m in \u001b[0;36mdispatch_one_batch\u001b[1;34m(self, iterator)\u001b[0m\n\u001b[0;32m    857\u001b[0m                 \u001b[1;32mreturn\u001b[0m \u001b[1;32mFalse\u001b[0m\u001b[1;33m\u001b[0m\u001b[1;33m\u001b[0m\u001b[0m\n\u001b[0;32m    858\u001b[0m             \u001b[1;32melse\u001b[0m\u001b[1;33m:\u001b[0m\u001b[1;33m\u001b[0m\u001b[1;33m\u001b[0m\u001b[0m\n\u001b[1;32m--> 859\u001b[1;33m                 \u001b[0mself\u001b[0m\u001b[1;33m.\u001b[0m\u001b[0m_dispatch\u001b[0m\u001b[1;33m(\u001b[0m\u001b[0mtasks\u001b[0m\u001b[1;33m)\u001b[0m\u001b[1;33m\u001b[0m\u001b[1;33m\u001b[0m\u001b[0m\n\u001b[0m\u001b[0;32m    860\u001b[0m                 \u001b[1;32mreturn\u001b[0m \u001b[1;32mTrue\u001b[0m\u001b[1;33m\u001b[0m\u001b[1;33m\u001b[0m\u001b[0m\n\u001b[0;32m    861\u001b[0m \u001b[1;33m\u001b[0m\u001b[0m\n",
      "\u001b[1;32mE:\\Anaconda\\lib\\site-packages\\joblib\\parallel.py\u001b[0m in \u001b[0;36m_dispatch\u001b[1;34m(self, batch)\u001b[0m\n\u001b[0;32m    775\u001b[0m         \u001b[1;32mwith\u001b[0m \u001b[0mself\u001b[0m\u001b[1;33m.\u001b[0m\u001b[0m_lock\u001b[0m\u001b[1;33m:\u001b[0m\u001b[1;33m\u001b[0m\u001b[1;33m\u001b[0m\u001b[0m\n\u001b[0;32m    776\u001b[0m             \u001b[0mjob_idx\u001b[0m \u001b[1;33m=\u001b[0m \u001b[0mlen\u001b[0m\u001b[1;33m(\u001b[0m\u001b[0mself\u001b[0m\u001b[1;33m.\u001b[0m\u001b[0m_jobs\u001b[0m\u001b[1;33m)\u001b[0m\u001b[1;33m\u001b[0m\u001b[1;33m\u001b[0m\u001b[0m\n\u001b[1;32m--> 777\u001b[1;33m             \u001b[0mjob\u001b[0m \u001b[1;33m=\u001b[0m \u001b[0mself\u001b[0m\u001b[1;33m.\u001b[0m\u001b[0m_backend\u001b[0m\u001b[1;33m.\u001b[0m\u001b[0mapply_async\u001b[0m\u001b[1;33m(\u001b[0m\u001b[0mbatch\u001b[0m\u001b[1;33m,\u001b[0m \u001b[0mcallback\u001b[0m\u001b[1;33m=\u001b[0m\u001b[0mcb\u001b[0m\u001b[1;33m)\u001b[0m\u001b[1;33m\u001b[0m\u001b[1;33m\u001b[0m\u001b[0m\n\u001b[0m\u001b[0;32m    778\u001b[0m             \u001b[1;31m# A job can complete so quickly than its callback is\u001b[0m\u001b[1;33m\u001b[0m\u001b[1;33m\u001b[0m\u001b[1;33m\u001b[0m\u001b[0m\n\u001b[0;32m    779\u001b[0m             \u001b[1;31m# called before we get here, causing self._jobs to\u001b[0m\u001b[1;33m\u001b[0m\u001b[1;33m\u001b[0m\u001b[1;33m\u001b[0m\u001b[0m\n",
      "\u001b[1;32mE:\\Anaconda\\lib\\site-packages\\joblib\\_parallel_backends.py\u001b[0m in \u001b[0;36mapply_async\u001b[1;34m(self, func, callback)\u001b[0m\n\u001b[0;32m    206\u001b[0m     \u001b[1;32mdef\u001b[0m \u001b[0mapply_async\u001b[0m\u001b[1;33m(\u001b[0m\u001b[0mself\u001b[0m\u001b[1;33m,\u001b[0m \u001b[0mfunc\u001b[0m\u001b[1;33m,\u001b[0m \u001b[0mcallback\u001b[0m\u001b[1;33m=\u001b[0m\u001b[1;32mNone\u001b[0m\u001b[1;33m)\u001b[0m\u001b[1;33m:\u001b[0m\u001b[1;33m\u001b[0m\u001b[1;33m\u001b[0m\u001b[0m\n\u001b[0;32m    207\u001b[0m         \u001b[1;34m\"\"\"Schedule a func to be run\"\"\"\u001b[0m\u001b[1;33m\u001b[0m\u001b[1;33m\u001b[0m\u001b[0m\n\u001b[1;32m--> 208\u001b[1;33m         \u001b[0mresult\u001b[0m \u001b[1;33m=\u001b[0m \u001b[0mImmediateResult\u001b[0m\u001b[1;33m(\u001b[0m\u001b[0mfunc\u001b[0m\u001b[1;33m)\u001b[0m\u001b[1;33m\u001b[0m\u001b[1;33m\u001b[0m\u001b[0m\n\u001b[0m\u001b[0;32m    209\u001b[0m         \u001b[1;32mif\u001b[0m \u001b[0mcallback\u001b[0m\u001b[1;33m:\u001b[0m\u001b[1;33m\u001b[0m\u001b[1;33m\u001b[0m\u001b[0m\n\u001b[0;32m    210\u001b[0m             \u001b[0mcallback\u001b[0m\u001b[1;33m(\u001b[0m\u001b[0mresult\u001b[0m\u001b[1;33m)\u001b[0m\u001b[1;33m\u001b[0m\u001b[1;33m\u001b[0m\u001b[0m\n",
      "\u001b[1;32mE:\\Anaconda\\lib\\site-packages\\joblib\\_parallel_backends.py\u001b[0m in \u001b[0;36m__init__\u001b[1;34m(self, batch)\u001b[0m\n\u001b[0;32m    570\u001b[0m         \u001b[1;31m# Don't delay the application, to avoid keeping the input\u001b[0m\u001b[1;33m\u001b[0m\u001b[1;33m\u001b[0m\u001b[1;33m\u001b[0m\u001b[0m\n\u001b[0;32m    571\u001b[0m         \u001b[1;31m# arguments in memory\u001b[0m\u001b[1;33m\u001b[0m\u001b[1;33m\u001b[0m\u001b[1;33m\u001b[0m\u001b[0m\n\u001b[1;32m--> 572\u001b[1;33m         \u001b[0mself\u001b[0m\u001b[1;33m.\u001b[0m\u001b[0mresults\u001b[0m \u001b[1;33m=\u001b[0m \u001b[0mbatch\u001b[0m\u001b[1;33m(\u001b[0m\u001b[1;33m)\u001b[0m\u001b[1;33m\u001b[0m\u001b[1;33m\u001b[0m\u001b[0m\n\u001b[0m\u001b[0;32m    573\u001b[0m \u001b[1;33m\u001b[0m\u001b[0m\n\u001b[0;32m    574\u001b[0m     \u001b[1;32mdef\u001b[0m \u001b[0mget\u001b[0m\u001b[1;33m(\u001b[0m\u001b[0mself\u001b[0m\u001b[1;33m)\u001b[0m\u001b[1;33m:\u001b[0m\u001b[1;33m\u001b[0m\u001b[1;33m\u001b[0m\u001b[0m\n",
      "\u001b[1;32mE:\\Anaconda\\lib\\site-packages\\joblib\\parallel.py\u001b[0m in \u001b[0;36m__call__\u001b[1;34m(self)\u001b[0m\n\u001b[0;32m    260\u001b[0m         \u001b[1;31m# change the default number of processes to -1\u001b[0m\u001b[1;33m\u001b[0m\u001b[1;33m\u001b[0m\u001b[1;33m\u001b[0m\u001b[0m\n\u001b[0;32m    261\u001b[0m         \u001b[1;32mwith\u001b[0m \u001b[0mparallel_backend\u001b[0m\u001b[1;33m(\u001b[0m\u001b[0mself\u001b[0m\u001b[1;33m.\u001b[0m\u001b[0m_backend\u001b[0m\u001b[1;33m,\u001b[0m \u001b[0mn_jobs\u001b[0m\u001b[1;33m=\u001b[0m\u001b[0mself\u001b[0m\u001b[1;33m.\u001b[0m\u001b[0m_n_jobs\u001b[0m\u001b[1;33m)\u001b[0m\u001b[1;33m:\u001b[0m\u001b[1;33m\u001b[0m\u001b[1;33m\u001b[0m\u001b[0m\n\u001b[1;32m--> 262\u001b[1;33m             return [func(*args, **kwargs)\n\u001b[0m\u001b[0;32m    263\u001b[0m                     for func, args, kwargs in self.items]\n\u001b[0;32m    264\u001b[0m \u001b[1;33m\u001b[0m\u001b[0m\n",
      "\u001b[1;32mE:\\Anaconda\\lib\\site-packages\\joblib\\parallel.py\u001b[0m in \u001b[0;36m<listcomp>\u001b[1;34m(.0)\u001b[0m\n\u001b[0;32m    260\u001b[0m         \u001b[1;31m# change the default number of processes to -1\u001b[0m\u001b[1;33m\u001b[0m\u001b[1;33m\u001b[0m\u001b[1;33m\u001b[0m\u001b[0m\n\u001b[0;32m    261\u001b[0m         \u001b[1;32mwith\u001b[0m \u001b[0mparallel_backend\u001b[0m\u001b[1;33m(\u001b[0m\u001b[0mself\u001b[0m\u001b[1;33m.\u001b[0m\u001b[0m_backend\u001b[0m\u001b[1;33m,\u001b[0m \u001b[0mn_jobs\u001b[0m\u001b[1;33m=\u001b[0m\u001b[0mself\u001b[0m\u001b[1;33m.\u001b[0m\u001b[0m_n_jobs\u001b[0m\u001b[1;33m)\u001b[0m\u001b[1;33m:\u001b[0m\u001b[1;33m\u001b[0m\u001b[1;33m\u001b[0m\u001b[0m\n\u001b[1;32m--> 262\u001b[1;33m             return [func(*args, **kwargs)\n\u001b[0m\u001b[0;32m    263\u001b[0m                     for func, args, kwargs in self.items]\n\u001b[0;32m    264\u001b[0m \u001b[1;33m\u001b[0m\u001b[0m\n",
      "\u001b[1;32mE:\\Anaconda\\lib\\site-packages\\sklearn\\utils\\fixes.py\u001b[0m in \u001b[0;36m__call__\u001b[1;34m(self, *args, **kwargs)\u001b[0m\n\u001b[0;32m    220\u001b[0m     \u001b[1;32mdef\u001b[0m \u001b[0m__call__\u001b[0m\u001b[1;33m(\u001b[0m\u001b[0mself\u001b[0m\u001b[1;33m,\u001b[0m \u001b[1;33m*\u001b[0m\u001b[0margs\u001b[0m\u001b[1;33m,\u001b[0m \u001b[1;33m**\u001b[0m\u001b[0mkwargs\u001b[0m\u001b[1;33m)\u001b[0m\u001b[1;33m:\u001b[0m\u001b[1;33m\u001b[0m\u001b[1;33m\u001b[0m\u001b[0m\n\u001b[0;32m    221\u001b[0m         \u001b[1;32mwith\u001b[0m \u001b[0mconfig_context\u001b[0m\u001b[1;33m(\u001b[0m\u001b[1;33m**\u001b[0m\u001b[0mself\u001b[0m\u001b[1;33m.\u001b[0m\u001b[0mconfig\u001b[0m\u001b[1;33m)\u001b[0m\u001b[1;33m:\u001b[0m\u001b[1;33m\u001b[0m\u001b[1;33m\u001b[0m\u001b[0m\n\u001b[1;32m--> 222\u001b[1;33m             \u001b[1;32mreturn\u001b[0m \u001b[0mself\u001b[0m\u001b[1;33m.\u001b[0m\u001b[0mfunction\u001b[0m\u001b[1;33m(\u001b[0m\u001b[1;33m*\u001b[0m\u001b[0margs\u001b[0m\u001b[1;33m,\u001b[0m \u001b[1;33m**\u001b[0m\u001b[0mkwargs\u001b[0m\u001b[1;33m)\u001b[0m\u001b[1;33m\u001b[0m\u001b[1;33m\u001b[0m\u001b[0m\n\u001b[0m",
      "\u001b[1;32mE:\\Anaconda\\lib\\site-packages\\sklearn\\model_selection\\_validation.py\u001b[0m in \u001b[0;36m_fit_and_score\u001b[1;34m(estimator, X, y, scorer, train, test, verbose, parameters, fit_params, return_train_score, return_parameters, return_n_test_samples, return_times, return_estimator, split_progress, candidate_progress, error_score)\u001b[0m\n\u001b[0;32m    623\u001b[0m \u001b[1;33m\u001b[0m\u001b[0m\n\u001b[0;32m    624\u001b[0m         \u001b[0mfit_time\u001b[0m \u001b[1;33m=\u001b[0m \u001b[0mtime\u001b[0m\u001b[1;33m.\u001b[0m\u001b[0mtime\u001b[0m\u001b[1;33m(\u001b[0m\u001b[1;33m)\u001b[0m \u001b[1;33m-\u001b[0m \u001b[0mstart_time\u001b[0m\u001b[1;33m\u001b[0m\u001b[1;33m\u001b[0m\u001b[0m\n\u001b[1;32m--> 625\u001b[1;33m         \u001b[0mtest_scores\u001b[0m \u001b[1;33m=\u001b[0m \u001b[0m_score\u001b[0m\u001b[1;33m(\u001b[0m\u001b[0mestimator\u001b[0m\u001b[1;33m,\u001b[0m \u001b[0mX_test\u001b[0m\u001b[1;33m,\u001b[0m \u001b[0my_test\u001b[0m\u001b[1;33m,\u001b[0m \u001b[0mscorer\u001b[0m\u001b[1;33m,\u001b[0m \u001b[0merror_score\u001b[0m\u001b[1;33m)\u001b[0m\u001b[1;33m\u001b[0m\u001b[1;33m\u001b[0m\u001b[0m\n\u001b[0m\u001b[0;32m    626\u001b[0m         \u001b[0mscore_time\u001b[0m \u001b[1;33m=\u001b[0m \u001b[0mtime\u001b[0m\u001b[1;33m.\u001b[0m\u001b[0mtime\u001b[0m\u001b[1;33m(\u001b[0m\u001b[1;33m)\u001b[0m \u001b[1;33m-\u001b[0m \u001b[0mstart_time\u001b[0m \u001b[1;33m-\u001b[0m \u001b[0mfit_time\u001b[0m\u001b[1;33m\u001b[0m\u001b[1;33m\u001b[0m\u001b[0m\n\u001b[0;32m    627\u001b[0m         \u001b[1;32mif\u001b[0m \u001b[0mreturn_train_score\u001b[0m\u001b[1;33m:\u001b[0m\u001b[1;33m\u001b[0m\u001b[1;33m\u001b[0m\u001b[0m\n",
      "\u001b[1;32mE:\\Anaconda\\lib\\site-packages\\sklearn\\model_selection\\_validation.py\u001b[0m in \u001b[0;36m_score\u001b[1;34m(estimator, X_test, y_test, scorer, error_score)\u001b[0m\n\u001b[0;32m    685\u001b[0m             \u001b[0mscores\u001b[0m \u001b[1;33m=\u001b[0m \u001b[0mscorer\u001b[0m\u001b[1;33m(\u001b[0m\u001b[0mestimator\u001b[0m\u001b[1;33m,\u001b[0m \u001b[0mX_test\u001b[0m\u001b[1;33m)\u001b[0m\u001b[1;33m\u001b[0m\u001b[1;33m\u001b[0m\u001b[0m\n\u001b[0;32m    686\u001b[0m         \u001b[1;32melse\u001b[0m\u001b[1;33m:\u001b[0m\u001b[1;33m\u001b[0m\u001b[1;33m\u001b[0m\u001b[0m\n\u001b[1;32m--> 687\u001b[1;33m             \u001b[0mscores\u001b[0m \u001b[1;33m=\u001b[0m \u001b[0mscorer\u001b[0m\u001b[1;33m(\u001b[0m\u001b[0mestimator\u001b[0m\u001b[1;33m,\u001b[0m \u001b[0mX_test\u001b[0m\u001b[1;33m,\u001b[0m \u001b[0my_test\u001b[0m\u001b[1;33m)\u001b[0m\u001b[1;33m\u001b[0m\u001b[1;33m\u001b[0m\u001b[0m\n\u001b[0m\u001b[0;32m    688\u001b[0m     \u001b[1;32mexcept\u001b[0m \u001b[0mException\u001b[0m\u001b[1;33m:\u001b[0m\u001b[1;33m\u001b[0m\u001b[1;33m\u001b[0m\u001b[0m\n\u001b[0;32m    689\u001b[0m         \u001b[1;32mif\u001b[0m \u001b[0merror_score\u001b[0m \u001b[1;33m==\u001b[0m \u001b[1;34m'raise'\u001b[0m\u001b[1;33m:\u001b[0m\u001b[1;33m\u001b[0m\u001b[1;33m\u001b[0m\u001b[0m\n",
      "\u001b[1;32mE:\\Anaconda\\lib\\site-packages\\sklearn\\metrics\\_scorer.py\u001b[0m in \u001b[0;36m_passthrough_scorer\u001b[1;34m(estimator, *args, **kwargs)\u001b[0m\n\u001b[0;32m    395\u001b[0m \u001b[1;32mdef\u001b[0m \u001b[0m_passthrough_scorer\u001b[0m\u001b[1;33m(\u001b[0m\u001b[0mestimator\u001b[0m\u001b[1;33m,\u001b[0m \u001b[1;33m*\u001b[0m\u001b[0margs\u001b[0m\u001b[1;33m,\u001b[0m \u001b[1;33m**\u001b[0m\u001b[0mkwargs\u001b[0m\u001b[1;33m)\u001b[0m\u001b[1;33m:\u001b[0m\u001b[1;33m\u001b[0m\u001b[1;33m\u001b[0m\u001b[0m\n\u001b[0;32m    396\u001b[0m     \u001b[1;34m\"\"\"Function that wraps estimator.score\"\"\"\u001b[0m\u001b[1;33m\u001b[0m\u001b[1;33m\u001b[0m\u001b[0m\n\u001b[1;32m--> 397\u001b[1;33m     \u001b[1;32mreturn\u001b[0m \u001b[0mestimator\u001b[0m\u001b[1;33m.\u001b[0m\u001b[0mscore\u001b[0m\u001b[1;33m(\u001b[0m\u001b[1;33m*\u001b[0m\u001b[0margs\u001b[0m\u001b[1;33m,\u001b[0m \u001b[1;33m**\u001b[0m\u001b[0mkwargs\u001b[0m\u001b[1;33m)\u001b[0m\u001b[1;33m\u001b[0m\u001b[1;33m\u001b[0m\u001b[0m\n\u001b[0m\u001b[0;32m    398\u001b[0m \u001b[1;33m\u001b[0m\u001b[0m\n\u001b[0;32m    399\u001b[0m \u001b[1;33m\u001b[0m\u001b[0m\n",
      "\u001b[1;32mE:\\Anaconda\\lib\\site-packages\\sklearn\\base.py\u001b[0m in \u001b[0;36mscore\u001b[1;34m(self, X, y, sample_weight)\u001b[0m\n\u001b[0;32m    498\u001b[0m         \"\"\"\n\u001b[0;32m    499\u001b[0m         \u001b[1;32mfrom\u001b[0m \u001b[1;33m.\u001b[0m\u001b[0mmetrics\u001b[0m \u001b[1;32mimport\u001b[0m \u001b[0maccuracy_score\u001b[0m\u001b[1;33m\u001b[0m\u001b[1;33m\u001b[0m\u001b[0m\n\u001b[1;32m--> 500\u001b[1;33m         \u001b[1;32mreturn\u001b[0m \u001b[0maccuracy_score\u001b[0m\u001b[1;33m(\u001b[0m\u001b[0my\u001b[0m\u001b[1;33m,\u001b[0m \u001b[0mself\u001b[0m\u001b[1;33m.\u001b[0m\u001b[0mpredict\u001b[0m\u001b[1;33m(\u001b[0m\u001b[0mX\u001b[0m\u001b[1;33m)\u001b[0m\u001b[1;33m,\u001b[0m \u001b[0msample_weight\u001b[0m\u001b[1;33m=\u001b[0m\u001b[0msample_weight\u001b[0m\u001b[1;33m)\u001b[0m\u001b[1;33m\u001b[0m\u001b[1;33m\u001b[0m\u001b[0m\n\u001b[0m\u001b[0;32m    501\u001b[0m \u001b[1;33m\u001b[0m\u001b[0m\n\u001b[0;32m    502\u001b[0m     \u001b[1;32mdef\u001b[0m \u001b[0m_more_tags\u001b[0m\u001b[1;33m(\u001b[0m\u001b[0mself\u001b[0m\u001b[1;33m)\u001b[0m\u001b[1;33m:\u001b[0m\u001b[1;33m\u001b[0m\u001b[1;33m\u001b[0m\u001b[0m\n",
      "\u001b[1;32mE:\\Anaconda\\lib\\site-packages\\sklearn\\ensemble\\_forest.py\u001b[0m in \u001b[0;36mpredict\u001b[1;34m(self, X)\u001b[0m\n\u001b[0;32m    628\u001b[0m             \u001b[0mThe\u001b[0m \u001b[0mpredicted\u001b[0m \u001b[0mclasses\u001b[0m\u001b[1;33m.\u001b[0m\u001b[1;33m\u001b[0m\u001b[1;33m\u001b[0m\u001b[0m\n\u001b[0;32m    629\u001b[0m         \"\"\"\n\u001b[1;32m--> 630\u001b[1;33m         \u001b[0mproba\u001b[0m \u001b[1;33m=\u001b[0m \u001b[0mself\u001b[0m\u001b[1;33m.\u001b[0m\u001b[0mpredict_proba\u001b[0m\u001b[1;33m(\u001b[0m\u001b[0mX\u001b[0m\u001b[1;33m)\u001b[0m\u001b[1;33m\u001b[0m\u001b[1;33m\u001b[0m\u001b[0m\n\u001b[0m\u001b[0;32m    631\u001b[0m \u001b[1;33m\u001b[0m\u001b[0m\n\u001b[0;32m    632\u001b[0m         \u001b[1;32mif\u001b[0m \u001b[0mself\u001b[0m\u001b[1;33m.\u001b[0m\u001b[0mn_outputs_\u001b[0m \u001b[1;33m==\u001b[0m \u001b[1;36m1\u001b[0m\u001b[1;33m:\u001b[0m\u001b[1;33m\u001b[0m\u001b[1;33m\u001b[0m\u001b[0m\n",
      "\u001b[1;32mE:\\Anaconda\\lib\\site-packages\\sklearn\\ensemble\\_forest.py\u001b[0m in \u001b[0;36mpredict_proba\u001b[1;34m(self, X)\u001b[0m\n\u001b[0;32m    681\u001b[0m                      for j in np.atleast_1d(self.n_classes_)]\n\u001b[0;32m    682\u001b[0m         \u001b[0mlock\u001b[0m \u001b[1;33m=\u001b[0m \u001b[0mthreading\u001b[0m\u001b[1;33m.\u001b[0m\u001b[0mLock\u001b[0m\u001b[1;33m(\u001b[0m\u001b[1;33m)\u001b[0m\u001b[1;33m\u001b[0m\u001b[1;33m\u001b[0m\u001b[0m\n\u001b[1;32m--> 683\u001b[1;33m         Parallel(n_jobs=n_jobs, verbose=self.verbose,\n\u001b[0m\u001b[0;32m    684\u001b[0m                  \u001b[1;33m**\u001b[0m\u001b[0m_joblib_parallel_args\u001b[0m\u001b[1;33m(\u001b[0m\u001b[0mrequire\u001b[0m\u001b[1;33m=\u001b[0m\u001b[1;34m\"sharedmem\"\u001b[0m\u001b[1;33m)\u001b[0m\u001b[1;33m)\u001b[0m\u001b[1;33m(\u001b[0m\u001b[1;33m\u001b[0m\u001b[1;33m\u001b[0m\u001b[0m\n\u001b[0;32m    685\u001b[0m             delayed(_accumulate_prediction)(e.predict_proba, X, all_proba,\n",
      "\u001b[1;32mE:\\Anaconda\\lib\\site-packages\\joblib\\parallel.py\u001b[0m in \u001b[0;36m__call__\u001b[1;34m(self, iterable)\u001b[0m\n\u001b[0;32m   1052\u001b[0m \u001b[1;33m\u001b[0m\u001b[0m\n\u001b[0;32m   1053\u001b[0m             \u001b[1;32mwith\u001b[0m \u001b[0mself\u001b[0m\u001b[1;33m.\u001b[0m\u001b[0m_backend\u001b[0m\u001b[1;33m.\u001b[0m\u001b[0mretrieval_context\u001b[0m\u001b[1;33m(\u001b[0m\u001b[1;33m)\u001b[0m\u001b[1;33m:\u001b[0m\u001b[1;33m\u001b[0m\u001b[1;33m\u001b[0m\u001b[0m\n\u001b[1;32m-> 1054\u001b[1;33m                 \u001b[0mself\u001b[0m\u001b[1;33m.\u001b[0m\u001b[0mretrieve\u001b[0m\u001b[1;33m(\u001b[0m\u001b[1;33m)\u001b[0m\u001b[1;33m\u001b[0m\u001b[1;33m\u001b[0m\u001b[0m\n\u001b[0m\u001b[0;32m   1055\u001b[0m             \u001b[1;31m# Make sure that we get a last message telling us we are done\u001b[0m\u001b[1;33m\u001b[0m\u001b[1;33m\u001b[0m\u001b[1;33m\u001b[0m\u001b[0m\n\u001b[0;32m   1056\u001b[0m             \u001b[0melapsed_time\u001b[0m \u001b[1;33m=\u001b[0m \u001b[0mtime\u001b[0m\u001b[1;33m.\u001b[0m\u001b[0mtime\u001b[0m\u001b[1;33m(\u001b[0m\u001b[1;33m)\u001b[0m \u001b[1;33m-\u001b[0m \u001b[0mself\u001b[0m\u001b[1;33m.\u001b[0m\u001b[0m_start_time\u001b[0m\u001b[1;33m\u001b[0m\u001b[1;33m\u001b[0m\u001b[0m\n",
      "\u001b[1;32mE:\\Anaconda\\lib\\site-packages\\joblib\\parallel.py\u001b[0m in \u001b[0;36mretrieve\u001b[1;34m(self)\u001b[0m\n\u001b[0;32m    931\u001b[0m             \u001b[1;32mtry\u001b[0m\u001b[1;33m:\u001b[0m\u001b[1;33m\u001b[0m\u001b[1;33m\u001b[0m\u001b[0m\n\u001b[0;32m    932\u001b[0m                 \u001b[1;32mif\u001b[0m \u001b[0mgetattr\u001b[0m\u001b[1;33m(\u001b[0m\u001b[0mself\u001b[0m\u001b[1;33m.\u001b[0m\u001b[0m_backend\u001b[0m\u001b[1;33m,\u001b[0m \u001b[1;34m'supports_timeout'\u001b[0m\u001b[1;33m,\u001b[0m \u001b[1;32mFalse\u001b[0m\u001b[1;33m)\u001b[0m\u001b[1;33m:\u001b[0m\u001b[1;33m\u001b[0m\u001b[1;33m\u001b[0m\u001b[0m\n\u001b[1;32m--> 933\u001b[1;33m                     \u001b[0mself\u001b[0m\u001b[1;33m.\u001b[0m\u001b[0m_output\u001b[0m\u001b[1;33m.\u001b[0m\u001b[0mextend\u001b[0m\u001b[1;33m(\u001b[0m\u001b[0mjob\u001b[0m\u001b[1;33m.\u001b[0m\u001b[0mget\u001b[0m\u001b[1;33m(\u001b[0m\u001b[0mtimeout\u001b[0m\u001b[1;33m=\u001b[0m\u001b[0mself\u001b[0m\u001b[1;33m.\u001b[0m\u001b[0mtimeout\u001b[0m\u001b[1;33m)\u001b[0m\u001b[1;33m)\u001b[0m\u001b[1;33m\u001b[0m\u001b[1;33m\u001b[0m\u001b[0m\n\u001b[0m\u001b[0;32m    934\u001b[0m                 \u001b[1;32melse\u001b[0m\u001b[1;33m:\u001b[0m\u001b[1;33m\u001b[0m\u001b[1;33m\u001b[0m\u001b[0m\n\u001b[0;32m    935\u001b[0m                     \u001b[0mself\u001b[0m\u001b[1;33m.\u001b[0m\u001b[0m_output\u001b[0m\u001b[1;33m.\u001b[0m\u001b[0mextend\u001b[0m\u001b[1;33m(\u001b[0m\u001b[0mjob\u001b[0m\u001b[1;33m.\u001b[0m\u001b[0mget\u001b[0m\u001b[1;33m(\u001b[0m\u001b[1;33m)\u001b[0m\u001b[1;33m)\u001b[0m\u001b[1;33m\u001b[0m\u001b[1;33m\u001b[0m\u001b[0m\n",
      "\u001b[1;32mE:\\Anaconda\\lib\\multiprocessing\\pool.py\u001b[0m in \u001b[0;36mget\u001b[1;34m(self, timeout)\u001b[0m\n\u001b[0;32m    763\u001b[0m \u001b[1;33m\u001b[0m\u001b[0m\n\u001b[0;32m    764\u001b[0m     \u001b[1;32mdef\u001b[0m \u001b[0mget\u001b[0m\u001b[1;33m(\u001b[0m\u001b[0mself\u001b[0m\u001b[1;33m,\u001b[0m \u001b[0mtimeout\u001b[0m\u001b[1;33m=\u001b[0m\u001b[1;32mNone\u001b[0m\u001b[1;33m)\u001b[0m\u001b[1;33m:\u001b[0m\u001b[1;33m\u001b[0m\u001b[1;33m\u001b[0m\u001b[0m\n\u001b[1;32m--> 765\u001b[1;33m         \u001b[0mself\u001b[0m\u001b[1;33m.\u001b[0m\u001b[0mwait\u001b[0m\u001b[1;33m(\u001b[0m\u001b[0mtimeout\u001b[0m\u001b[1;33m)\u001b[0m\u001b[1;33m\u001b[0m\u001b[1;33m\u001b[0m\u001b[0m\n\u001b[0m\u001b[0;32m    766\u001b[0m         \u001b[1;32mif\u001b[0m \u001b[1;32mnot\u001b[0m \u001b[0mself\u001b[0m\u001b[1;33m.\u001b[0m\u001b[0mready\u001b[0m\u001b[1;33m(\u001b[0m\u001b[1;33m)\u001b[0m\u001b[1;33m:\u001b[0m\u001b[1;33m\u001b[0m\u001b[1;33m\u001b[0m\u001b[0m\n\u001b[0;32m    767\u001b[0m             \u001b[1;32mraise\u001b[0m \u001b[0mTimeoutError\u001b[0m\u001b[1;33m\u001b[0m\u001b[1;33m\u001b[0m\u001b[0m\n",
      "\u001b[1;32mE:\\Anaconda\\lib\\multiprocessing\\pool.py\u001b[0m in \u001b[0;36mwait\u001b[1;34m(self, timeout)\u001b[0m\n\u001b[0;32m    760\u001b[0m \u001b[1;33m\u001b[0m\u001b[0m\n\u001b[0;32m    761\u001b[0m     \u001b[1;32mdef\u001b[0m \u001b[0mwait\u001b[0m\u001b[1;33m(\u001b[0m\u001b[0mself\u001b[0m\u001b[1;33m,\u001b[0m \u001b[0mtimeout\u001b[0m\u001b[1;33m=\u001b[0m\u001b[1;32mNone\u001b[0m\u001b[1;33m)\u001b[0m\u001b[1;33m:\u001b[0m\u001b[1;33m\u001b[0m\u001b[1;33m\u001b[0m\u001b[0m\n\u001b[1;32m--> 762\u001b[1;33m         \u001b[0mself\u001b[0m\u001b[1;33m.\u001b[0m\u001b[0m_event\u001b[0m\u001b[1;33m.\u001b[0m\u001b[0mwait\u001b[0m\u001b[1;33m(\u001b[0m\u001b[0mtimeout\u001b[0m\u001b[1;33m)\u001b[0m\u001b[1;33m\u001b[0m\u001b[1;33m\u001b[0m\u001b[0m\n\u001b[0m\u001b[0;32m    763\u001b[0m \u001b[1;33m\u001b[0m\u001b[0m\n\u001b[0;32m    764\u001b[0m     \u001b[1;32mdef\u001b[0m \u001b[0mget\u001b[0m\u001b[1;33m(\u001b[0m\u001b[0mself\u001b[0m\u001b[1;33m,\u001b[0m \u001b[0mtimeout\u001b[0m\u001b[1;33m=\u001b[0m\u001b[1;32mNone\u001b[0m\u001b[1;33m)\u001b[0m\u001b[1;33m:\u001b[0m\u001b[1;33m\u001b[0m\u001b[1;33m\u001b[0m\u001b[0m\n",
      "\u001b[1;32mE:\\Anaconda\\lib\\threading.py\u001b[0m in \u001b[0;36mwait\u001b[1;34m(self, timeout)\u001b[0m\n\u001b[0;32m    556\u001b[0m             \u001b[0msignaled\u001b[0m \u001b[1;33m=\u001b[0m \u001b[0mself\u001b[0m\u001b[1;33m.\u001b[0m\u001b[0m_flag\u001b[0m\u001b[1;33m\u001b[0m\u001b[1;33m\u001b[0m\u001b[0m\n\u001b[0;32m    557\u001b[0m             \u001b[1;32mif\u001b[0m \u001b[1;32mnot\u001b[0m \u001b[0msignaled\u001b[0m\u001b[1;33m:\u001b[0m\u001b[1;33m\u001b[0m\u001b[1;33m\u001b[0m\u001b[0m\n\u001b[1;32m--> 558\u001b[1;33m                 \u001b[0msignaled\u001b[0m \u001b[1;33m=\u001b[0m \u001b[0mself\u001b[0m\u001b[1;33m.\u001b[0m\u001b[0m_cond\u001b[0m\u001b[1;33m.\u001b[0m\u001b[0mwait\u001b[0m\u001b[1;33m(\u001b[0m\u001b[0mtimeout\u001b[0m\u001b[1;33m)\u001b[0m\u001b[1;33m\u001b[0m\u001b[1;33m\u001b[0m\u001b[0m\n\u001b[0m\u001b[0;32m    559\u001b[0m             \u001b[1;32mreturn\u001b[0m \u001b[0msignaled\u001b[0m\u001b[1;33m\u001b[0m\u001b[1;33m\u001b[0m\u001b[0m\n\u001b[0;32m    560\u001b[0m \u001b[1;33m\u001b[0m\u001b[0m\n",
      "\u001b[1;32mE:\\Anaconda\\lib\\threading.py\u001b[0m in \u001b[0;36mwait\u001b[1;34m(self, timeout)\u001b[0m\n\u001b[0;32m    300\u001b[0m         \u001b[1;32mtry\u001b[0m\u001b[1;33m:\u001b[0m    \u001b[1;31m# restore state no matter what (e.g., KeyboardInterrupt)\u001b[0m\u001b[1;33m\u001b[0m\u001b[1;33m\u001b[0m\u001b[0m\n\u001b[0;32m    301\u001b[0m             \u001b[1;32mif\u001b[0m \u001b[0mtimeout\u001b[0m \u001b[1;32mis\u001b[0m \u001b[1;32mNone\u001b[0m\u001b[1;33m:\u001b[0m\u001b[1;33m\u001b[0m\u001b[1;33m\u001b[0m\u001b[0m\n\u001b[1;32m--> 302\u001b[1;33m                 \u001b[0mwaiter\u001b[0m\u001b[1;33m.\u001b[0m\u001b[0macquire\u001b[0m\u001b[1;33m(\u001b[0m\u001b[1;33m)\u001b[0m\u001b[1;33m\u001b[0m\u001b[1;33m\u001b[0m\u001b[0m\n\u001b[0m\u001b[0;32m    303\u001b[0m                 \u001b[0mgotit\u001b[0m \u001b[1;33m=\u001b[0m \u001b[1;32mTrue\u001b[0m\u001b[1;33m\u001b[0m\u001b[1;33m\u001b[0m\u001b[0m\n\u001b[0;32m    304\u001b[0m             \u001b[1;32melse\u001b[0m\u001b[1;33m:\u001b[0m\u001b[1;33m\u001b[0m\u001b[1;33m\u001b[0m\u001b[0m\n",
      "\u001b[1;31mKeyboardInterrupt\u001b[0m: "
     ]
    }
   ],
   "source": [
    "from math import sqrt\n",
    "\n",
    "rf = RandomForestClassifier(n_jobs=-1)\n",
    "\n",
    "param = {\"n_estimators\":list(range(100,300,10)),\"max_depth\":list(range(1,20,3)),\n",
    "         \"min_samples_leaf\":list(range(1,5)),\"max_features\":list(range(1,int(sqrt(x_train.columns.size))))}\n",
    "estimator = GridSearchCV(estimator=rf,param_grid=param)\n",
    "\n",
    "estimator.fit(x_train,y_train)\n",
    "\n",
    "\n",
    "\n",
    "print(estimator.best_estimator_)\n",
    "print(estimator.best_params_)\n",
    "\n",
    "# 训练太慢了\n"
   ]
  },
  {
   "cell_type": "markdown",
   "metadata": {},
   "source": [
    "#### Boosting\n",
    "- 随着学习的积累从弱到强，每新加入一个弱学习器，整体能力就会得到提升\n",
    "- 代表算法：Adaboost、GDBT、XGBoost、LightGBM\n",
    "\n",
    "##### Bagging集成与Boosting集成的区别\n",
    "- 数据方面\n",
    "    - Bagging：对数据进行采样\n",
    "    - Boosting：根据前一轮学习结果调整数据的重要性\n",
    "\n",
    "- 投票方面\n",
    "    - Bagging：所有学习器平权投票\n",
    "    - Boosting：对学习器进行加权投票\n",
    "\n",
    "- 学习顺序\n",
    "    - Bagging：学习是并行的，每个学习器没有依赖关系\n",
    "    - Boosting：学习是串行的，学习有先后顺序\n",
    "\n",
    "- 主要作用\n",
    "    - Bagging：主要用于提高泛化性能（解决过拟合，也可以说降低方差）\n",
    "    - Boosting：主要用于提高训练精度（解决欠拟合，也可以说降低偏差）\n",
    "\n",
    "##### AdaBoost\n",
    "- ![jupyter](./note_img/note_AdaBoost.png) \n",
    "- 关键点剖析：![jupyter](./note_img/note_AdaBoostKey.png)\n",
    "    \n",
    "##### AdaBoost的API\n",
    "- sklearn.ensemble.AdaBoostClassifier\n",
    "\n",
    "\n",
    "##### GBDT\n",
    "- GBDT的全称是Gradient Boosting Decision Tree，梯度提升树，在传统机器学习算法中，GBDT算的上TOP3的算法。\n",
    "- GBDT使用的决策树是CART回归树，无论是处理回归问题还是二分类以及多分类，GBDT使用的决策树都是CART回归树。\n",
    "- 在分类树中最佳划分点的判别标准是熵或者基尼系数，都是用纯度来衡量的，但是在回归树中的样本标签是连续数值，所以使用熵之类的指标不再合适，取而代之的是平方误差，它能很好的评判拟合程度。\n",
    "\n",
    "- Gradient Boosting\n",
    "    - 梯度提升树是提升树的一种改进算法\n",
    "    - 提升树算法：![jupyter](./note_img/note_boostingTree.png) \n",
    "    - 残差：![jupyter](./note_img/note_residual.png)\n"
   ]
  },
  {
   "cell_type": "markdown",
   "metadata": {},
   "source": [
    "### 聚类算法\n",
    "- 一种典型的无监督学习算法，主要用于将相似的样本自动归到一个类别中。在聚类算法中根据样本之间的相似性，将样本划分到不同的类别中，对于不同的相似度计算方法，会得到不同的聚类结果，常用的相似度计算方法有欧式距离法。\n",
    "\n",
    "- 实现流程：\n",
    "    - 1、随机设置K个特征空间内的点作为初始的聚类中心\n",
    "    - 2、对于其他每个点计算到K个中心的距离，未知的点选择最近的一个聚类中心点作为标记类别\n",
    "    - 3、接着对着标记的聚类中心之后，重新计算出每个聚类的新中心点(平均值)\n",
    "    - 4、如果计算得出的新中心点与原中心点一样(质心不再移动)，那么结束，否则重新进行第二步过程\n",
    "\n",
    "- 注意：\n",
    "    - 由于每次都要计算所有的样本与每一个质心之间的相似度，故在大规模的数据集上，K-Means算法的收敛速度比较慢。\n",
    "\n",
    "\n",
    "#### 聚类算法的API\n",
    "- sklearn.cluster.KMeans(n_clusters=8)\n",
    "    - n_clusters：开始的聚类中心数量\n",
    "    - 方法：\n",
    "        - fit(x)\n",
    "        - predict(x)\n",
    "        - fit_predict(x)：相当于先调用fit(x)，再调用predict(x)"
   ]
  },
  {
   "cell_type": "code",
   "execution_count": 97,
   "metadata": {},
   "outputs": [
    {
     "data": {
      "image/png": "[encoded data removed]",
      "text/plain": [
       "<Figure size 2000x800 with 2 Axes>"
      ]
     },
     "metadata": {
      "needs_background": "light"
     },
     "output_type": "display_data"
    },
    {
     "name": "stdout",
     "output_type": "stream",
     "text": [
      "10546.796486547755\n"
     ]
    }
   ],
   "source": [
    "import matplotlib.pyplot as plt\n",
    "from sklearn.datasets import make_blobs\n",
    "from sklearn.cluster import KMeans\n",
    "from sklearn.metrics import calinski_harabasz_score\n",
    "\n",
    "# 创建数据集 \n",
    "x,y = make_blobs(n_samples=1000,n_features=4,centers=[(1,1),(2,2),(3,3),(-2,-4)],cluster_std=[0.4,0.3,0.7,0.2],random_state=20)\n",
    "\n",
    "# 画图\n",
    "plt.figure(figsize=(20,8),dpi=100)\n",
    "plt.subplot(121)\n",
    "plt.scatter(x[:,0],x[:,1],c=y)\n",
    "\n",
    "# KMeans进行评估\n",
    "estimator = KMeans(n_clusters=4,random_state=20)\n",
    "y_pre = estimator.fit_predict(x)\n",
    "\n",
    "# 画图\n",
    "plt.subplot(122)\n",
    "plt.scatter(x[:,0],x[:,1],c=y_pre)\n",
    "plt.show()\n",
    "\n",
    "# 使用 Calinski Harabasz 模型评估\n",
    "print(calinski_harabasz_score(x,y_pre))\n"
   ]
  },
  {
   "cell_type": "markdown",
   "metadata": {},
   "source": [
    "#### 模型评估\n",
    "- SSE（误差平方和）： ![jupyter](./note_img/note_SSE.png)\n",
    "\n",
    "\n",
    "- 肘方法（Elbow method）：K值确定，下降率突然变缓时即认为是最佳K值 ![jupyter](./note_img/note_ElbowMethod.png)\n",
    "    - 1、对于n个点的数据集，迭代计算k from 1 to n,每次聚类完成后计算每个点到其所属的簇中心的距离的平方和\n",
    "    - 2、平方和是会逐渐变小的，直到k==n时平方和为0,因为每个点都是它所在的簇中心本身。\n",
    "    - 3、在这个平方和变化过程中，会出现一个拐点也即“肘”点，下降率突然变缓时即认为是最佳的k值。\n",
    "    - 在决定什么时候停止训练时，肘形判据同样有效，数据通常有更多的噪音，在增加分类无法带来更多回报时，我们停止增加类别。\n",
    "\n",
    "\n",
    "- 轮廓系数法（Silhouette Coefficient）：![jupyter](./note_img/note_SC.png) 目的：内部距离最小化，外部距离最大化\n",
    "\n",
    "\n",
    "- CH系数（Calinski-Harabasz）\n",
    "    - 类别内部数据的协方差越小越好，类别之间的协方差越大越好。那么，Calinski-Harabasz分数会高，表明聚类效果好。![](./note_img/note_CH.png)\n",
    "    - 目的：用尽量少的类别聚类尽量多的样本，同时获得较好的聚类效果\n"
   ]
  },
  {
   "cell_type": "markdown",
   "metadata": {},
   "source": [
    "#### 算法优化\n",
    "- Canopy算法：Canopy粗聚类配合kmeans\n",
    "- KMeans++：距离越远越容易成为新的质心\n",
    "- 二分K-Means：拆除SSE最大的簇\n",
    "- k-medoids：和kmeans选取中心点的方式不同\n",
    "- kernel kmeans：映射到高维空间\n",
    "- ISODATA：动态聚类，可以更改K值大小\n",
    "- Mini-batch K-Means：一大数据集分批聚类"
   ]
  },
  {
   "cell_type": "markdown",
   "metadata": {},
   "source": [
    "#### 特征降维\n",
    "- 定义：降维是指在某些限定条件下，降低随机变量(特征)个数，得到一组“不相关”主变量的过程\n",
    "    - 降低随机变量个数\n",
    "    - 相关特征\n",
    "        - 例如：相对湿度与降雨量之间的相关性\n",
    "        - 其他情况\n",
    "\n",
    "\n",
    "- 正是因为在进行训练时，我们都是使用特征进行学习。如果特征本身存在问题或者特征之间相关性较强，对于算法学习预测会影响较大\n",
    "\n",
    "\n",
    "##### 降维的两种方式：特征选择、主成分分析\n",
    "\n",
    "###### 特征选择\n",
    "- 定义：数据中包含冗余或无关变量(或称特征、属性、指标等)，旨在从原有特征中找出主要特征。\n",
    "- 方法：\n",
    "    - Filter（过滤式）：主要探究特征本身特点、特征与目标值之间的关联\n",
    "        - 方法选择法：低方差特征过滤\n",
    "        - 相关系数：\n",
    "            - 主要实现方式：皮尔逊相关系数、斯皮尔曼相关系数\n",
    "    - Embedded（嵌入式）：算法自动选择特征（特征与目标值之间的关联）\n",
    "        - 决策树：信息熵，信息增益\n",
    "        - 正则化：L1、L2\n",
    "        - 深度学习：卷积等等\n",
    "\n",
    "- 低方差特征过滤：\n",
    "     - 删除低方差的一些特征\n",
    "         - 特征方差小：某个特征大多样本的值比较相近\n",
    "         - 特征方差大：某个特征很多样本的值都有差别\n",
    "    - sklearn.feature_selection.VarianceThreshold(threshold=0)\n",
    "        - 删除所有低方差特征\n",
    "        - threshold：低于该值进行删除。默认值为0，则删除样本中所有相同方差的特征。\n",
    "\n",
    "- 皮尔逊相关系数\n",
    "    - 反映变量之间相关关系密切程度的统计指标\n",
    "    - 相关系数的值在[-1,1]范围，当0<|r|<1时，表示两变量存在一定程度的相关。且|r|越接近1,两变量间线性关系越密切; |r|越接近于0，表示两变量的线性相关越弱。一般可按三级划分: |r|<0.4为低度相关; 0.4<|r|<0.7为 显著性相关; 0.7<|r|<1为高度线性相关\n",
    "    - scipy.stats.pearsonr(x,y)\n",
    "        - 判断x，y之间的相关性\n",
    "        - 返回：\n",
    "            - r：float，皮尔逊的相关系数，[-1，1]之间。\n",
    "            - p-value：float，注： p值越小，表示相关系数越显著，一般p值在500个样本以上时有较高的可靠性。\n",
    "\n",
    "- 斯皮尔曼相关系数\n",
    "    - 反映变量之间相关关系密切程度的统计指标\n",
    "    - 斯皮尔曼相关系数表明X (自变量)和Y (因变量)的相关方向。如果当X增加时，Y趋向于增加,斯皮尔曼相关系数则为正。相关系数的值在[-1,1]范围\n",
    "    - scipy.stats.spearmanr\n",
    "\n"
   ]
  },
  {
   "cell_type": "code",
   "execution_count": 70,
   "metadata": {},
   "outputs": [
    {
     "name": "stdout",
     "output_type": "stream",
     "text": [
      "(2318, 9)\n",
      "(2318, 8)\n"
     ]
    }
   ],
   "source": [
    "# 低方差特征过滤\n",
    "\n",
    "import pandas as pd\n",
    "from sklearn.feature_selection import VarianceThreshold\n",
    "\n",
    "data = pd.read_csv(\"./data/factor_returns.csv\")\n",
    "\n",
    "transform = VarianceThreshold(1)\n",
    "x = transform.fit_transform(data.iloc[:,1:10])\n",
    "\n",
    "print(data.iloc[:,1:10].shape)   # 特征过滤前\n",
    "print(x.shape)                   # 特征过滤后"
   ]
  },
  {
   "cell_type": "code",
   "execution_count": 72,
   "metadata": {},
   "outputs": [
    {
     "name": "stdout",
     "output_type": "stream",
     "text": [
      "0.9941983762371884 4.922089955456964e-09\n"
     ]
    }
   ],
   "source": [
    "# 皮尔逊相关系数\n",
    "\n",
    "import pandas as pd\n",
    "from scipy.stats import pearsonr\n",
    "\n",
    "x1 = [12.5, 15.3, 23.2, 26.4, 33.5, 34.4, 39.4, 45.2, 55.4, 60.9]\n",
    "x2 = [21.2, 23.9, 32.9, 34.1, 42.5, 43.2, 49.0, 52.8, 59.4, 63.5]\n",
    "\n",
    "r,p = pearsonr(x1,x2)\n",
    "\n",
    "print(r,p)"
   ]
  },
  {
   "cell_type": "code",
   "execution_count": 74,
   "metadata": {},
   "outputs": [
    {
     "name": "stdout",
     "output_type": "stream",
     "text": [
      "0.9999999999999999 6.646897422032013e-64\n"
     ]
    }
   ],
   "source": [
    "# 斯皮尔曼相关系数\n",
    "\n",
    "from scipy.stats import spearmanr\n",
    "\n",
    "x1 = [12.5, 15.3, 23.2, 26.4, 33.5, 34.4, 39.4, 45.2, 55.4, 60.9]\n",
    "x2 = [21.2, 23.9, 32.9, 34.1, 42.5, 43.2, 49.0, 52.8, 59.4, 63.5]\n",
    "\n",
    "r,p = spearmanr(x1,x2)\n",
    "\n",
    "print(r,p)"
   ]
  },
  {
   "cell_type": "markdown",
   "metadata": {},
   "source": [
    "###### 主成分分析\n",
    "- 定义：高维数据转化为低维数据的过程，在此过程中可能会舍弃原有数据、创造新的变量\n",
    "- 作用：是数据维数压缩，尽可能降低原数据的维数(复杂度)，损失少量信息\n",
    "- 应用：回归分析、聚类分析\n",
    "\n",
    "###### 主成分分析的API\n",
    "- sklearn.decomposition.PCA(n_components=None)\n",
    "    - 将数据分解为较低维度数据\n",
    "    - n_components：\n",
    "        - 小数：保留百分之多少的信息\n",
    "        - 整数：减少到多少特征"
   ]
  },
  {
   "cell_type": "code",
   "execution_count": 78,
   "metadata": {},
   "outputs": [
    {
     "name": "stdout",
     "output_type": "stream",
     "text": [
      "保留90%的数据：\n",
      " [[-3.13587302e-16  3.82970843e+00]\n",
      " [-5.74456265e+00 -1.91485422e+00]\n",
      " [ 5.74456265e+00 -1.91485422e+00]]\n",
      "将数据的特征保留3个：\n",
      " [[-3.13587302e-16  3.82970843e+00  4.59544715e-16]\n",
      " [-5.74456265e+00 -1.91485422e+00  4.59544715e-16]\n",
      " [ 5.74456265e+00 -1.91485422e+00  4.59544715e-16]]\n"
     ]
    }
   ],
   "source": [
    "# 主成分分析\n",
    "from sklearn.decomposition import PCA\n",
    "\n",
    "data = [[2,8,4,5], [6,3,0,8], [5,4,9,1]]\n",
    "\n",
    "transform = PCA(0.9)\n",
    "trans_data = transform.fit_transform(data)\n",
    "print(\"保留90%的数据：\\n\",trans_data)\n",
    "\n",
    "transform = PCA(3)\n",
    "trans_data = transform.fit_transform(data)\n",
    "print(\"将数据的特征保留3个：\\n\",trans_data)\n"
   ]
  },
  {
   "cell_type": "markdown",
   "metadata": {},
   "source": [
    "#### 案例：探究用户对物品类别的喜好划分\n",
    "- https://www.kaggle.com/c/instacart-market-basket-analysis/data\n",
    "- 仔细阅读与数据相关的信息"
   ]
  },
  {
   "cell_type": "code",
   "execution_count": null,
   "metadata": {},
   "outputs": [],
   "source": []
  },
  {
   "cell_type": "markdown",
   "metadata": {},
   "source": [
    "### 朴素贝叶斯\n",
    "- 假定特征与特征之间是相互独立的\n",
    "\n",
    "#### 拉普拉斯平滑系数\n",
    "- ![jupyter](./note_img/note_Laplace.png)\n",
    "\n",
    "#### 朴素贝叶斯的API\n",
    "- sklearn.naive_bayes.MultinomialNB(alpha=1.0)\n",
    "    - 朴素贝叶斯分类\n",
    "    - alpha：拉普拉斯平滑系数\n",
    "\n",
    "#### 优缺点\n",
    "- 优点\n",
    "    - 朴素贝叶斯模型发源于古典数学理论，有稳定的分类效率\n",
    "    - 对缺失数据不太敏感，算法也比较简单，常用于文本分类\n",
    "    - 分类准确度高，速度快\n",
    "- 缺点\n",
    "    - 由于使用了样本属性独立性的假设，所以如果特征属性有关联时其效果不好\n",
    "    - 需要计算先验概率，而先验概率很多时候取决于假设，假设的模型可以有很多种，因此在某些时候会由于假设的先验模型的原因导致预测效果不佳"
   ]
  },
  {
   "cell_type": "code",
   "execution_count": 127,
   "metadata": {
    "scrolled": false
   },
   "outputs": [
    {
     "name": "stderr",
     "output_type": "stream",
     "text": [
      "E:\\Anaconda\\lib\\site-packages\\sklearn\\feature_extraction\\text.py:388: UserWarning: Your stop_words may be inconsistent with your preprocessing. Tokenizing the stop words generated tokens ['lex', '①①', '①②', '①③', '①④', '①⑤', '①⑥', '①⑦', '①⑧', '①⑨', '①ａ', '①ｂ', '①ｃ', '①ｄ', '①ｅ', '①ｆ', '①ｇ', '①ｈ', '①ｉ', '①ｏ', '②①', '②②', '②③', '②④', '②⑤', '②⑥', '②⑦', '②⑧', '②⑩', '②ａ', '②ｂ', '②ｄ', '②ｅ', '②ｆ', '②ｇ', '②ｈ', '②ｉ', '②ｊ', '③①', '③⑩', '③ａ', '③ｂ', '③ｃ', '③ｄ', '③ｅ', '③ｆ', '③ｇ', '③ｈ', '④ａ', '④ｂ', '④ｃ', '④ｄ', '④ｅ', '⑤ａ', '⑤ｂ', '⑤ｄ', '⑤ｅ', '⑤ｆ', '１２', 'ｌｉ', 'ｚｘｆｉｔｌ'] not in stop_words.\n",
      "  warnings.warn('Your stop_words may be inconsistent with '\n"
     ]
    },
    {
     "data": {
      "text/plain": [
       "1.0"
      ]
     },
     "execution_count": 127,
     "metadata": {},
     "output_type": "execute_result"
    }
   ],
   "source": [
    "# 练习：情感分析\n",
    "\n",
    "import pandas as pd\n",
    "import jieba\n",
    "from sklearn.preprocessing import LabelEncoder\n",
    "from sklearn.naive_bayes import MultinomialNB\n",
    "from sklearn.feature_extraction.text import CountVectorizer\n",
    "from sklearn.metrics import silhouette_score\n",
    "\n",
    "# 获取数据\n",
    "data = pd.read_csv(\"./data/书籍评价.csv\",encoding=\"gbk\")\n",
    "data.drop(labels=[\"Unnamed: 0\"],axis=1,inplace=True)\n",
    "\n",
    "# 数据基本处理\n",
    "\n",
    "# 将 “评价”列 变为数字\n",
    "encoder = LabelEncoder()\n",
    "data[\"评价\"] = encoder.fit_transform(data[\"评价\"])     # 0：好评，1：差评\n",
    "\n",
    "# 加载停用词\n",
    "stopwords = []\n",
    "with open(\"./data/stopwords.txt\",encoding=\"utf8\") as f:\n",
    "    lines = f.readlines()\n",
    "    for line in lines:\n",
    "        line = line.strip()\n",
    "        stopwords.append(line)\n",
    "\n",
    "# 对 “内容”列 进行分词\n",
    "contents = []\n",
    "for content in data[\"内容\"]:\n",
    "    content = content.strip()\n",
    "    seg = \" \".join(jieba.cut(content))\n",
    "    contents.append(seg)\n",
    "data.drop(labels=[\"内容\"],axis=1,inplace=True)\n",
    "\n",
    "# 对分词结果进行转化\n",
    "vectorizer = CountVectorizer(stop_words=stopwords)\n",
    "x = vectorizer.fit_transform(contents)\n",
    "\n",
    "# 将转化后结果输入到data中\n",
    "data[vectorizer.get_feature_names()] = 0\n",
    "# 将 “评价”列 移动到最后一列\n",
    "content = data.pop(\"评价\")\n",
    "data[\"评价\"] = content\n",
    "\n",
    "# 将分词结果输入到data中\n",
    "for row in data.index:\n",
    "    data.iloc[row,:37] = x.toarray()[row]\n",
    "\n",
    "# 分割数据\n",
    "x_train = data.iloc[:10,:37]\n",
    "y_train = data.iloc[:10,37]\n",
    "x_test = data.iloc[11:,:37]\n",
    "y_test = data.iloc[11:,37]\n",
    "\n",
    "# 机器学习-朴素贝叶斯\n",
    "estimator = MultinomialNB(alpha=1)\n",
    "estimator.fit(x_train,y_train)\n",
    "# 预测\n",
    "y_pre = estimator.predict(x_test)\n",
    "\n",
    "# 模型评估\n",
    "estimator.score(x_test,y_test)"
   ]
  },
  {
   "cell_type": "markdown",
   "metadata": {},
   "source": [
    "### 支持向量机\n",
    "- 定义：寻找到一个超平面使样本分成两类，并间隔最大\n",
    "- SVM能够执行线性或非线性分类、回归，甚至是异常值检测任务。它是机器学习领域最受欢迎的模型之一。SVM特别适用于中小型复杂数据集的分类。\n",
    "- 支持向量：接近超平面/决策边界的数据的子集\n",
    "- 基于二维空间：\n",
    "    - 该直线分开了两类\n",
    "    - 该直线最大化间隔\n",
    "    - 该直线处于间隔的中间，到所有支持向量距离相等\n",
    "- 硬间隔\n",
    "    - 完全分类准确，其损失函数不存在；其损失值为0；只要找出两个异类正中间的那个平面\n",
    "    \n",
    "- 软间隔\n",
    "    - 尽可能在保持最大间隔宽阔和限制间隔违例(即位于最大间隔之上，甚至在错误的一边的实例)之间找到良好的平衡，这就是软间隔分类。\n",
    "    - 通过超参数C（惩罚因子）控制该平衡：C值越小，间隔越宽，但是间隔违例也会越多\n",
    "\n",
    "#### SVM算法原理\n",
    "- 算法原理链接：https://zhuanlan.zhihu.com/p/31886934\n",
    "\n",
    "#### SVM的损失函数\n",
    "- 主要讨论三种损失函数：\n",
    "    - 相关概念自行百度\n",
    "    - ![](./note_img/note_lossfunction.png)\n",
    "\n",
    "#### SVM的核函数\n",
    "- 由低维向高维的映射，该映射可以把低维空间中线性不可分的两类点变成线性可分的。\n",
    "- 常见核函数：![](./note_img/note_kernelfunction.png)\n",
    "- 在什么情况下使用：\n",
    "    - 如果特征的数量很大，甚至和样本数量差不多时,往往线性可分，这时选用LR或者线性核Linear\n",
    "    - 如果特征的数量很小，样本数量正常，不算多也不算少，这时选用RBF核\n",
    "    - 如果特征的数量很小，而样本的数量很大，这时手动添加一些特征, 使得线性可分，然后选用LR或者线性核Linear\n",
    "    - 多项式核一般很少使用，效率不高，结果也不优于RBF;\n",
    "    - Linear核参数少，速度快；RBF核参数多，分类结果非常依赖于参数，需要交叉验证或网格搜索最佳参数，比较耗时\n",
    "    - 应用最广的应该就是RBF核，无论是小样本还是大样本，高维还是低维等情况，RBF核函数均适\n",
    "\n",
    "#### SVM回归\n",
    "- 让尽可能多的实例位于预测线上，同时限制间隔违例。线距的宽度由超参数ε控制"
   ]
  },
  {
   "cell_type": "markdown",
   "metadata": {},
   "source": [
    "#### SVM的API\n",
    "- SVM方法既可以用于分类(二/多分类)，也可用于回归和异常值检测。\n",
    "- SVM具有良好的鲁棒性,对未知数据拥有很强的泛化能力，特别是在数据量较少的情况下，相较其他传统机器学习算法具有更优的性能。\n",
    "\n",
    "\n",
    "- 使用SVM作为模型，具体流程如下：\n",
    "    - 1、对样本数据进行归一化\n",
    "    - 2、应用核函数对样本进行映射(最 常采用和核函数是RBF和Linear,在样本线性可分时，Linear效果要比RBF好)\n",
    "    - 3、用cross-validation和grid-search对超参数进行优选\n",
    "    - 4、用最优参数训练得到模型\n",
    "    - 5、测试\n",
    "\n",
    "\n",
    "- sklearn中支持向量分类主要有三种方法: SVC、NuSVC、LinearSVC,扩展为三个支持向量回归方法:SVR、NuSVR、LinearSVR。\n",
    "    - SVC和NuSVC方法基本一致， 唯一区别就是损失函数的度量方式不同\n",
    "        - NuSVC中的nu参数和SVC中的C参数;\n",
    "    - LinearSVC是实现线性核函数的支持向量分类，没有kernel参数。\n",
    "\n",
    "\n",
    "- sklearn.svm.SVC(C=1.0, kernel='rbf', degree=3, coef0=0.0, random_state=None)\n",
    "    - C：惩罚系数，用来控制损失函数的惩罚系数，类似于线性回归中的正则化系数。\n",
    "        - C越大，相当于惩罚松弛变量,希望松弛变量接近0，即对误分类的惩罚增大，趋向于对训练集全分对的情况，这样会出现训练集测试时准确率很高，但泛化能力弱，容易导致过拟合。\n",
    "        - C值小，对误分类的惩罚减小，容错能力增强，泛化能力较强，但也可能欠拟合。\n",
    "    - kernel：算法中采用核函数类型\n",
    "        - 参数选择：RBF、Linear、Poly、Sigmoid、自定义核函数\n",
    "        - RBF：默认，高斯函数\n",
    "        - Linear：线性核函数\n",
    "        - Poly：多项式核\n",
    "        - Sigmoid：双曲正切函数\n",
    "    - degree：\n",
    "        - 当指定 kernel='poly' 时，表示选择的多项式的最高次数，默认为三次多项式;\n",
    "        - 当指定 kernel 不是 'poly' 时，则忽略\n",
    "    - coef0：核函数常数值（y=kx+b中的b值）\n",
    "        - 只有核函数为 'poly' 和 'sigmoid' 时，该参数才有用\n",
    "\n",
    "\n",
    "- sklearn.svm.NuSVC(nu=0.5)\n",
    "    - nu：默认是0.5，训练误差部分的上限和支持向量部分的下限，取值在(0,1)之间。\n",
    "\n",
    "\n",
    "- sklearn.svm.LinearSVC(penalty='l2', loss='squared_hinge', dual=True, C=1.0)\n",
    "    - penalty：正则化参数,\n",
    "        - L1和L2两种参数可选，仅LinearSVC有。\n",
    "    - loss：损失函数\n",
    "        - 有hinge和squared_ hinge两种可选， 前者又称L1损失，后者称为L2损失，默认是squared_hinge,其中hinge是SVM的标准损失， squared_hinge是hinge的平方\n",
    "    - dual：是否转化为对偶问题求解，默认是True。\n",
    "    - C：惩罚系数,"
   ]
  },
  {
   "cell_type": "markdown",
   "metadata": {},
   "source": [
    "#### SVM案例：数字识别器\n",
    "- https://www.kaggle.com/c/digit-recognizer"
   ]
  },
  {
   "cell_type": "code",
   "execution_count": 117,
   "metadata": {},
   "outputs": [],
   "source": [
    "# 将array展示为图像\n",
    "def to_img(data,n):\n",
    "    img_arr = np.array(data.iloc[n,:])\n",
    "    img_arr = img_arr.reshape(28,28)\n",
    "    plt.imshow(img_arr)\n",
    "    plt.axis(\"off\")\n",
    "    plt.show()"
   ]
  },
  {
   "cell_type": "code",
   "execution_count": 118,
   "metadata": {},
   "outputs": [],
   "source": [
    "import pandas as pd\n",
    "import numpy as np\n",
    "import matplotlib.pyplot as plt\n",
    "from sklearn import svm\n",
    "from sklearn.model_selection import train_test_split\n",
    "from sklearn.preprocessing import MinMaxScaler\n",
    "from sklearn.decomposition import PCA\n"
   ]
  },
  {
   "cell_type": "code",
   "execution_count": 119,
   "metadata": {},
   "outputs": [],
   "source": [
    "# 获取数据\n",
    "train_data = pd.read_csv(\"./data/DigitRecognition/train.csv\")"
   ]
  },
  {
   "cell_type": "code",
   "execution_count": 120,
   "metadata": {},
   "outputs": [
    {
     "data": {
      "image/png": "[encoded data removed]",
      "text/plain": [
       "<Figure size 432x288 with 1 Axes>"
      ]
     },
     "metadata": {
      "needs_background": "light"
     },
     "output_type": "display_data"
    }
   ],
   "source": [
    "# 查看图像\n",
    "\n",
    "x = train_data.iloc[:,1:]  # 特征值\n",
    "y = train_data.iloc[:,0]   # 目标值\n",
    "\n",
    "# 展示一行数据的图像，可以将其定义为方法\n",
    "img_arr = np.array(x.iloc[0,:])\n",
    "img_arr = img_arr.reshape(28,28)\n",
    "plt.imshow(img_arr)\n",
    "plt.axis(\"off\")\n",
    "plt.show()"
   ]
  },
  {
   "cell_type": "code",
   "execution_count": 121,
   "metadata": {},
   "outputs": [],
   "source": [
    "# 数据基本处理\n",
    "\n",
    "# 对数据进行归一化\n",
    "scaler = MinMaxScaler()\n",
    "x = scaler.fit_transform(x)\n",
    "\n",
    "# 数据分割\n",
    "x_train,x_var,y_train,y_var = train_test_split(x,y,test_size=0.25,random_state=20)"
   ]
  },
  {
   "cell_type": "code",
   "execution_count": 100,
   "metadata": {},
   "outputs": [],
   "source": [
    "# 定义函数\n",
    "# 多次使用PCA，确定最优参数n_components\n",
    "\n",
    "import time\n",
    "\n",
    "def optimal_parm(n_component,x_train,x_var,y_train,y_var):\n",
    "    start = time.time()\n",
    "    \n",
    "    pca = PCA(n_components=n_component)\n",
    "    pca.fit(x_train)\n",
    "    \n",
    "    # 进行降维\n",
    "    x_train = pca.transform(x_train)\n",
    "    x_var = pca.transform(x_var)\n",
    "    \n",
    "    # 对数据进行训练以及预测，从而确定最优参数\n",
    "    svc = svm.SVC()\n",
    "    svc.fit(x_train,y_train)\n",
    "    accuracy = svc.score(x_var,y_var)\n",
    "    \n",
    "    end = time.time()\n",
    "    \n",
    "    print(\"参数n_components：{}，预测准确度：{}\".format(n_component,accuracy))\n",
    "    print(\"运行时间：{}\".format(int(end-start)))\n",
    "    \n",
    "    return accuracy"
   ]
  },
  {
   "cell_type": "code",
   "execution_count": 101,
   "metadata": {
    "scrolled": false
   },
   "outputs": [
    {
     "name": "stdout",
     "output_type": "stream",
     "text": [
      "参数n_components：0.6，预测准确度：0.9673333333333334\n",
      "运行时间：30\n",
      "参数n_components：0.6625，预测准确度：0.9723809523809523\n",
      "运行时间：27\n",
      "参数n_components：0.725，预测准确度：0.977047619047619\n",
      "运行时间：29\n",
      "参数n_components：0.7875，预测准确度：0.9795238095238096\n",
      "运行时间：33\n",
      "参数n_components：0.85，预测准确度：0.9804761904761905\n",
      "运行时间：38\n"
     ]
    },
    {
     "data": {
      "image/png": "[encoded data removed]",
      "text/plain": [
       "<Figure size 600x240 with 1 Axes>"
      ]
     },
     "metadata": {
      "needs_background": "light"
     },
     "output_type": "display_data"
    }
   ],
   "source": [
    "# 执行函数\n",
    "# 进行确定最优函数\n",
    "\n",
    "n_components = np.linspace(0.6,0.85,5)\n",
    "\n",
    "accuracys = []\n",
    "\n",
    "for n_component in n_components:\n",
    "    accuracy = optimal_parm(n_component,x_train,x_var,y_train,y_var)\n",
    "    accuracys.append(accuracy)\n",
    "    \n",
    "# 画图，直观\n",
    "plt.figure(figsize=(10,4),dpi=60)\n",
    "plt.plot(n_components,accuracys)\n",
    "plt.show()"
   ]
  },
  {
   "cell_type": "markdown",
   "metadata": {},
   "source": [
    "由上图确定，合适的参数n_components：0.77。注意：此处要考虑运行时间等因素，确定合适参数"
   ]
  },
  {
   "cell_type": "code",
   "execution_count": 129,
   "metadata": {},
   "outputs": [
    {
     "name": "stdout",
     "output_type": "stream",
     "text": [
      "0.9791428571428571\n"
     ]
    }
   ],
   "source": [
    "# 使用n_components：0.77 进行PCA降维\n",
    "pca = PCA(n_components=0.77)\n",
    "pca.fit(x_train)\n",
    "x_train_pca = pca.transform(x_train)\n",
    "x_var_pca = pca.transform(x_var)\n",
    "\n",
    "# 机器学习-SVM\n",
    "svc = svm.SVC()\n",
    "svc.fit(x_train_pca,y_train)\n",
    "score = svc.score(x_var_pca,y_var)\n",
    "print(score)\n"
   ]
  },
  {
   "cell_type": "markdown",
   "metadata": {},
   "source": [
    "### EM算法\n",
    "- EM算法也称期望最大化(Expectation-Maximum,简称EM) 算法。它是一个基础算法，是很多机器学习领域算法的基础，比如隐式马尔科夫算法(HMM)等等。EM算法是一种迭代优化策略，由于它的计算方法中每一次迭代都分两步：其中一个为期望步(E步)，另一个为极大步(M步)。所以算法被称为EM算法(Expectation-Maximization Algorithm)。\n",
    "\n",
    "\n",
    "- EM算法受到缺失思想影响，最初是为了解决数据缺失情况下的参数估计问题\n",
    "    - 首先根据己经给出的观测数据，估计出模型参数的值\n",
    "    - 然后再依据上一步估计出的参数值估计缺失数据的值，再根据估计出的缺失数据加上之前己经观测到的\n",
    "    - 数据重新再对参数值进行估计\n",
    "    - 然后反复迭代，直至最后收敛，迭代结束"
   ]
  },
  {
   "cell_type": "markdown",
   "metadata": {},
   "source": [
    "### HMM\n",
    "- 马尔科夫链：即状态空间中从一个状态到另一个状态转换的随机过程\n",
    "    - 无记忆性质：下一状态的概率分布只能由当前状态决定，在时间序列中它前面的事件均与之无关\n",
    "    - 在马尔可夫链的每一步，系统根据概率分布，可以从一个状态变到另-个状态，也可以保持当前状态\n",
    "    - 状态的改变叫做转移，与不同的状态改变相关的概率叫做转移概率\n",
    "    - 既然某一时刻状态转移的概率只依赖前-一个状态，那么只要求出系统中任意两个状态之间的转移概率，这个马尔科夫链的模型就定了\n",
    "\n",
    "- HMM（隐马尔可夫模型）\n",
    "    - HMM中提到的马尔可夫链是指隐含状态链\n",
    "    - 可见状态链\n",
    "    - 隐含状态链\n",
    "    - 输出概率：隐含状态和可见状态之间有一个概率叫做输出概率\n",
    "    - ![](./note_img/note_HMMexample.png)\n",
    "\n",
    "#### HMM模型基础\n",
    "- 什么样的问题需要HMM模型\n",
    "    - 一般问题存在以下2个特征：\n",
    "        - 基于序列的，例如：时间序列，或者状态序列\n",
    "        - 存在两类数据：\n",
    "            - 一类序列数据可观测到，即观测序列\n",
    "            - 一类数据不可观测到，即隐藏状态序列（简称：状态序列）\n",
    "    \n",
    "    - 前向后向算法：评估观测序列概率\n",
    "        - 前向算法\n",
    "            - 本质上属于动态规划算法\n",
    "            - 前向概率定义：定义时刻t时隐藏状态为qi,观测状态的序列为o1，o2，...，ot的概率为前向概率。记为：![](./note_img/note_front.png)\n",
    "        - 后向算法\n",
    "            - 后向算法和前向算法非常类似，都是用的动态规划，唯一的区别是选择的局部状态不同，后向算法用的是“后向概率”\n",
    "    \n",
    "    - 维特比算法：解码隐藏状态序列\n",
    "    \n",
    "    - 保姆-韦尔奇算法\n",
    "        - 算法原理是EM算法原理\n",
    "\n",
    "#### HMM的API\n",
    "- https://hmmlearn.readthedocs.io/en/latest/\n",
    "- hmmlearn实现了三种HMM模型类，按照观测状态是连续状态还是离散状态，可以分为两类。\n",
    "    - GaussianHMM、GMMHMM：连续观测状态的HMM模型\n",
    "    - MultinomialHMM：离散观测状态的模型\n",
    "- MultinomialHMM()\n",
    "    - 属性：\n",
    "        - startprob_：隐藏初始分布Π\n",
    "        - transmat_：状态转移矩阵A\n",
    "        - emissionprob_：观测状态概率矩阵B"
   ]
  },
  {
   "cell_type": "code",
   "execution_count": 165,
   "metadata": {},
   "outputs": [
    {
     "name": "stdout",
     "output_type": "stream",
     "text": [
      "['red', 'white', 'red']\n",
      "['box3', 'box3', 'box3']\n",
      "-2.038545309915233\n",
      "0.13021800000000003\n"
     ]
    }
   ],
   "source": [
    "import math\n",
    "import numpy as np\n",
    "from hmmlearn import hmm\n",
    "\n",
    "# 设定 隐藏状态\n",
    "hiddenState = [\"box1\",\"box2\",\"box3\"]\n",
    "\n",
    "# 设定 观测状态\n",
    "observation = [\"red\",\"white\"]\n",
    "\n",
    "# 设定 初始状态分布\n",
    "start_state = [0.2,0.4,0.4]\n",
    "\n",
    "# 设定 状态转移矩阵\n",
    "trans_state = [\n",
    "                [0.5,0.2,0.3],\n",
    "                [0.3,0.5,0.2],\n",
    "                [0.2,0.3,0.5]\n",
    "               ]\n",
    "\n",
    "# 设定 观测状态分布矩阵\n",
    "observ_prob = [\n",
    "                [0.5,0.5],\n",
    "                [0.4,0.6],\n",
    "                [0.7,0.3]\n",
    "               ]\n",
    "\n",
    "# 设置模型\n",
    "model = hmm.MultinomialHMM(n_components=len(hiddenState))\n",
    "# 设置概率分布（即将概率值传入）\n",
    "model.startprob_ = start_state\n",
    "model.transmat_ = trans_state\n",
    "model.emissionprob_ = observ_prob\n",
    "\n",
    "# 设置 观测序列\n",
    "obser = np.array([[0,1,0]])\n",
    "\n",
    "# 查看 观测序列 代表的是什么观测状态\n",
    "obser_str = map(lambda x:observation[x], obser.flatten())    # flatten()：转换为一维数组\n",
    "print(list(obser_str))\n",
    "\n",
    "# 进行观测\n",
    "result = model.predict(obser)\n",
    "\n",
    "# 查看 obser 出自哪一个盒子中\n",
    "result_box = map(lambda x:hiddenState[x], result)\n",
    "print(list(result_box))\n",
    "\n",
    "# 评估观测序列的概率：表示在三个盒子中，出现 ['red', 'white', 'red'] 的概率为 0.13021800000000003\n",
    "print(model.score(obser))   # 以e为底的对数\n",
    "print(math.exp(model.score(obser)))"
   ]
  },
  {
   "cell_type": "markdown",
   "metadata": {},
   "source": [
    "### 集成学习进阶\n",
    "\n",
    "#### xgboost算法原理\n",
    "- XGBoost (Extreme Gradient Boosting)全名叫极端梯度提升树，XGBoost是集成学习方法的王牌，\n",
    "\n",
    "\n",
    "- XGBoost和GBDT区别\n",
    "    - 区别一\n",
    "        - XGBoost生成CART树考虑了树的复杂度\n",
    "        - GDBT未考虑，GDBT在树的剪枝步骤中考虑了树的复杂度\n",
    "    - 区别二\n",
    "        - XGBoost是拟合上一轮损失函数的二阶导展开\n",
    "        - GDBT是拟合上一轮损失函数的一阶导展开\n",
    "        - 因此，XGBoost的准确性更高，且满足相同的训练效果，需要的迭代次数更少\n",
    "    - 区别三\n",
    "        - XGBoost与GDBT都是逐次迭代来提高模型性能，但是XGBoost在选取最佳切分点时可以开启多线程进行，大大提高了运行速度\n",
    "\n",
    "\n",
    "#### xgboost算法的API\n",
    "- https://xgboost.readthedocs.io/en/latest/\n",
    "- xgboost中封装了很多参数，主要有3种类型参数：通用参数（general parameters），Booster参数（booster parameters），学习目标参数（task parameters）\n",
    "    - 通用参数：主要是宏观函数控制\n",
    "    - Booster参数：取决于选择的Booster类型，用于控制每一步的booster（tree，regression等等）\n",
    "    - 学习目标参数：控制训练的目标表现\n",
    "\n",
    "\n",
    "- 通用参数\n",
    "    - booster\n",
    "        - 取值：'gbtree'，'gblinear'，'dart'。默认'gbtree'\n",
    "        - gbtree和dart使用的是基于树的模型（dart主要多了Dropout），而gblinear使用线性函数\n",
    "    - verbosity=0：不显示warnings信息\n",
    "    - nthread\n",
    "        - 并行运行xgboost的线程数，默认设置为CPU全部核心数\n",
    "\n",
    "\n",
    "- Booster参数\n",
    "    - Tree Booster参数\n",
    "        - eta\n",
    "            - 别名：learning_rate\n",
    "            - 更新中减少的步长防止过拟合\n",
    "            - 范围：[0,1]\n",
    "        - gamma\n",
    "            - 别名：min_split_loss\n",
    "            - 在节点分裂时，只有分裂后损失函数的值下降了，才会分裂这个节点\n",
    "            - Gamma指定了节点分裂所需的最小损失函数下降值。这个参数的值越大，算法越保守。这个参数的值和损失函数息息相关，所以              是需要调整的。\n",
    "            - 范围：[0,+∞]\n",
    "        - max_depth\n",
    "            - 设置为0：代表没有限制\n",
    "            - 这个值为树的最大深度。这个值也是用来避免过拟合的。max_depth越大，模型会学到更具体更局部的样本。\n",
    "            - 范围：[0,+∞]\n",
    "        - min_child_weight\n",
    "            - 决定最小叶子节点样本权重和。XGBoost的这个参数是最小样本权重的和.\n",
    "            - 当它的值较大时，可以避免模型学习到局部的特殊样本。但是如果这个值过高，会导致欠拟合。这个参数需要使用CV来调整\n",
    "            - 范围：[0,+∞]\n",
    "        - subsample\n",
    "            - 这个参数控制对于每棵树，随机采样的比例。减小这个参数的值，算法会更加保守,避免过拟合。但是，如果这个值设置得过                小，它可能会导致欠拟合。\n",
    "            - 典型值: 0.5-1,0.5代表平均采样，防止过拟合\n",
    "            - 范围：(0,1]\n",
    "        - colsample_bytree\n",
    "            - 控制每颗随机采样的列数占比\n",
    "        - colsample_bylevel\n",
    "            - 控制每层的每次分裂，对列数的采样占比\n",
    "        - lambda\n",
    "            - 权重的L2正则化项(和Ridge regression类似)。这个参数是用来控制XGBoost的正则化部分的。虽然大部分数据科学家很少用到这个参数，但是这个参数在减少过拟合上还是可以挖掘出更多用处的。\n",
    "        - alpha\n",
    "            - 权重的L1正则化项。(和Lasso regression类似)。可以应用在很高维度 的情况下，使得算法的速度更快。\n",
    "        - scale_pos_weight\n",
    "            - 在各类别样本十分不平衡时，把这个参数设定为一个正值，可以使算法更快收敛。通常可以将其设置为负样本的数目与正样本数              目的比值。\n",
    "    - Linear Booster参数\n",
    "        - lambda\n",
    "            - L2正则化惩罚系数\n",
    "        - alpha\n",
    "            - L1正则化惩罚系数\n",
    "        - lambda_bias\n",
    "            - 偏置上的L2正则化\n",
    "\n",
    "\n",
    "- 学习目标参数\n",
    "    - objective\n",
    "        - \"reg:linear\"：线性回归\n",
    "        - \"reg:logistic\" ：逻辑回归\n",
    "        - \"binary:logistic\" ：二分类逻辑回归，输出为概率\n",
    "        - \"multi:softmax\"：使用softmax的多分类器，返回预测的类别(不是概率)。在这种情况下，你还需要多设一个参数: num_class(类别数目)\n",
    "        - \"multi:softprob\"：使用softmax的多分类器，返回每个数据属于各个类别的概率。\n",
    "    - eval_metric\n",
    "        - “rmse\"：均方根误差\n",
    "        - “mae\"：平均绝对值误差\n",
    "        - \"logloss\"：负对数似然函数值\n",
    "        - \"error\"：二分类错误率。\n",
    "            - 其值通过错误分类数目与全部分类数目比值得到。对于预测，预测值大于0.5被认为是正类，其它归为负类。\n",
    "        - \"error@t\"：不同的划分阈值可以通过t进行设置\n",
    "        - \"merror\"：多分类错误率，计算公式为(wrong cases)/(all cases)\n",
    "        - “mlogloss\"：多分类log损失\n",
    "        - \"auc\"：曲线下的而和\n",
    "    - seed：随机数种子\n",
    "\n",
    "        \n",
    "        \n",
    "    "
   ]
  },
  {
   "cell_type": "markdown",
   "metadata": {},
   "source": [
    "#### 案例：泰坦尼克号-基于XGBoost编写"
   ]
  },
  {
   "cell_type": "code",
   "execution_count": 192,
   "metadata": {},
   "outputs": [],
   "source": [
    "import numpy as np\n",
    "import pandas as pd\n",
    "import matplotlib.pyplot as plt\n",
    "from pandas import Series,DataFrame\n",
    "from sklearn.feature_extraction import DictVectorizer\n",
    "from sklearn.model_selection import train_test_split\n",
    "from sklearn.preprocessing import MinMaxScaler\n",
    "from xgboost import XGBClassifier"
   ]
  },
  {
   "cell_type": "code",
   "execution_count": 200,
   "metadata": {
    "scrolled": true
   },
   "outputs": [
    {
     "name": "stderr",
     "output_type": "stream",
     "text": [
      "<ipython-input-200-39ea58aad30b>:10: SettingWithCopyWarning: \n",
      "A value is trying to be set on a copy of a slice from a DataFrame.\n",
      "Try using .loc[row_indexer,col_indexer] = value instead\n",
      "\n",
      "See the caveats in the documentation: https://pandas.pydata.org/pandas-docs/stable/user_guide/indexing.html#returning-a-view-versus-a-copy\n",
      "  data_train[\"Age\"] = data_train[\"Age\"].fillna(value=data_train[\"Age\"].mean())\n",
      "<ipython-input-200-39ea58aad30b>:14: SettingWithCopyWarning: \n",
      "A value is trying to be set on a copy of a slice from a DataFrame.\n",
      "Try using .loc[row_indexer,col_indexer] = value instead\n",
      "\n",
      "See the caveats in the documentation: https://pandas.pydata.org/pandas-docs/stable/user_guide/indexing.html#returning-a-view-versus-a-copy\n",
      "  x[\"Pclass\"] = x[\"Pclass\"].replace({1:\"1\",2:\"2\",3:\"3\"})\n",
      "E:\\Anaconda\\lib\\site-packages\\xgboost\\sklearn.py:1146: UserWarning: The use of label encoder in XGBClassifier is deprecated and will be removed in a future release. To remove this warning, do the following: 1) Pass option use_label_encoder=False when constructing XGBClassifier object; and 2) Encode your labels (y) as integers starting with 0, i.e. 0, 1, 2, ..., [num_class - 1].\n",
      "  warnings.warn(label_encoder_deprecation_msg, UserWarning)\n",
      "E:\\Anaconda\\lib\\site-packages\\xgboost\\sklearn.py:1146: UserWarning: The use of label encoder in XGBClassifier is deprecated and will be removed in a future release. To remove this warning, do the following: 1) Pass option use_label_encoder=False when constructing XGBClassifier object; and 2) Encode your labels (y) as integers starting with 0, i.e. 0, 1, 2, ..., [num_class - 1].\n",
      "  warnings.warn(label_encoder_deprecation_msg, UserWarning)\n",
      "E:\\Anaconda\\lib\\site-packages\\xgboost\\sklearn.py:1146: UserWarning: The use of label encoder in XGBClassifier is deprecated and will be removed in a future release. To remove this warning, do the following: 1) Pass option use_label_encoder=False when constructing XGBClassifier object; and 2) Encode your labels (y) as integers starting with 0, i.e. 0, 1, 2, ..., [num_class - 1].\n",
      "  warnings.warn(label_encoder_deprecation_msg, UserWarning)\n",
      "E:\\Anaconda\\lib\\site-packages\\xgboost\\sklearn.py:1146: UserWarning: The use of label encoder in XGBClassifier is deprecated and will be removed in a future release. To remove this warning, do the following: 1) Pass option use_label_encoder=False when constructing XGBClassifier object; and 2) Encode your labels (y) as integers starting with 0, i.e. 0, 1, 2, ..., [num_class - 1].\n",
      "  warnings.warn(label_encoder_deprecation_msg, UserWarning)\n",
      "E:\\Anaconda\\lib\\site-packages\\xgboost\\sklearn.py:1146: UserWarning: The use of label encoder in XGBClassifier is deprecated and will be removed in a future release. To remove this warning, do the following: 1) Pass option use_label_encoder=False when constructing XGBClassifier object; and 2) Encode your labels (y) as integers starting with 0, i.e. 0, 1, 2, ..., [num_class - 1].\n",
      "  warnings.warn(label_encoder_deprecation_msg, UserWarning)\n",
      "E:\\Anaconda\\lib\\site-packages\\xgboost\\sklearn.py:1146: UserWarning: The use of label encoder in XGBClassifier is deprecated and will be removed in a future release. To remove this warning, do the following: 1) Pass option use_label_encoder=False when constructing XGBClassifier object; and 2) Encode your labels (y) as integers starting with 0, i.e. 0, 1, 2, ..., [num_class - 1].\n",
      "  warnings.warn(label_encoder_deprecation_msg, UserWarning)\n",
      "E:\\Anaconda\\lib\\site-packages\\xgboost\\sklearn.py:1146: UserWarning: The use of label encoder in XGBClassifier is deprecated and will be removed in a future release. To remove this warning, do the following: 1) Pass option use_label_encoder=False when constructing XGBClassifier object; and 2) Encode your labels (y) as integers starting with 0, i.e. 0, 1, 2, ..., [num_class - 1].\n",
      "  warnings.warn(label_encoder_deprecation_msg, UserWarning)\n",
      "E:\\Anaconda\\lib\\site-packages\\xgboost\\sklearn.py:1146: UserWarning: The use of label encoder in XGBClassifier is deprecated and will be removed in a future release. To remove this warning, do the following: 1) Pass option use_label_encoder=False when constructing XGBClassifier object; and 2) Encode your labels (y) as integers starting with 0, i.e. 0, 1, 2, ..., [num_class - 1].\n",
      "  warnings.warn(label_encoder_deprecation_msg, UserWarning)\n",
      "E:\\Anaconda\\lib\\site-packages\\xgboost\\sklearn.py:1146: UserWarning: The use of label encoder in XGBClassifier is deprecated and will be removed in a future release. To remove this warning, do the following: 1) Pass option use_label_encoder=False when constructing XGBClassifier object; and 2) Encode your labels (y) as integers starting with 0, i.e. 0, 1, 2, ..., [num_class - 1].\n",
      "  warnings.warn(label_encoder_deprecation_msg, UserWarning)\n",
      "E:\\Anaconda\\lib\\site-packages\\xgboost\\sklearn.py:1146: UserWarning: The use of label encoder in XGBClassifier is deprecated and will be removed in a future release. To remove this warning, do the following: 1) Pass option use_label_encoder=False when constructing XGBClassifier object; and 2) Encode your labels (y) as integers starting with 0, i.e. 0, 1, 2, ..., [num_class - 1].\n",
      "  warnings.warn(label_encoder_deprecation_msg, UserWarning)\n"
     ]
    },
    {
     "data": {
      "text/plain": [
       "[<matplotlib.lines.Line2D at 0x2858ac4a610>]"
      ]
     },
     "execution_count": 200,
     "metadata": {},
     "output_type": "execute_result"
    },
    {
     "data": {
      "image/png": "[encoded data removed]",
      "text/plain": [
       "<Figure size 432x288 with 1 Axes>"
      ]
     },
     "metadata": {
      "needs_background": "light"
     },
     "output_type": "display_data"
    }
   ],
   "source": [
    "# 1、获取数据\n",
    "data_train_origin = pd.read_csv(\"./data/Titanic/train.csv\")\n",
    "\n",
    "\n",
    "# 2、数据基本处理\n",
    "# 2.1、获取需要的特征属性\n",
    "data_train = data_train_origin[[\"Pclass\",\"Sex\",\"Age\",\"Fare\",\"Survived\"]]\n",
    "\n",
    "# 2.2、处理缺失值Age\n",
    "data_train[\"Age\"] = data_train[\"Age\"].fillna(value=data_train[\"Age\"].mean())\n",
    "\n",
    "# 2.3、获取特征值和目标值\n",
    "x = data_train[[\"Pclass\",\"Sex\",\"Age\",\"Fare\"]]\n",
    "x[\"Pclass\"] = x[\"Pclass\"].replace({1:\"1\",2:\"2\",3:\"3\"})\n",
    "y = data_train[\"Survived\"]\n",
    "\n",
    "# 2.3、数据分割。在此我们不对数据做分割，分为训练集和测试集。我们就把该data_train数据作为训练集，将data_test作为测试集\n",
    "x_train,x_test,y_train,y_test = train_test_split(x,y,test_size=0.2,random_state=20)\n",
    "\n",
    "\n",
    "# 3、特征工程-特征提取、标准化\n",
    "# 3.1、 特征提取：特征中出现类别符号，需要进⾏one-hot编码处理(两种方法：DictVectorizer()，pd.get_dummies())\n",
    "dummies_train = pd.get_dummies(x_train[[\"Sex\",\"Pclass\"]])\n",
    "dummies_test = pd.get_dummies(x_test[[\"Sex\",\"Pclass\"]])\n",
    "# 3.1.1 将特征数据与one-hot数据进行连接\n",
    "x_train = pd.concat([x_train,dummies_train],axis=1)\n",
    "x_test = pd.concat([x_test,dummies_test],axis=1)\n",
    "# 3.1.2 将转换了one-hot编码的列，进行删除\n",
    "x_train.drop(labels=[\"Pclass\",\"Sex\"],axis=1,inplace=True)\n",
    "x_test.drop(labels=[\"Pclass\",\"Sex\"],axis=1,inplace=True)\n",
    "\n",
    "# 归一化\n",
    "scaler = MinMaxScaler()\n",
    "x_train[[\"Age\",\"Fare\"]] = scaler.fit_transform(x_train[[\"Age\",\"Fare\"]])\n",
    "x_test[[\"Age\",\"Fare\"]] = scaler.fit_transform(x_test[[\"Age\",\"Fare\"]])\n",
    "\n",
    "\n",
    "# 机器学习-XGBoost\n",
    "# 对max_depth调优\n",
    "scores = []\n",
    "for i in range(10):\n",
    "    estimator = XGBClassifier(max_depth=i,verbosity=0)\n",
    "    estimator.fit(x_train,y_train)\n",
    "    score = estimator.score(x_test,y_test)\n",
    "    scores.append(score)\n",
    "\n",
    "plt.plot([i for i in range(10)],scores)"
   ]
  },
  {
   "cell_type": "markdown",
   "metadata": {},
   "source": [
    "#### 案例：otto-基于XGBoost编写"
   ]
  },
  {
   "cell_type": "code",
   "execution_count": 255,
   "metadata": {},
   "outputs": [],
   "source": [
    "import numpy as np\n",
    "import pandas as pd\n",
    "import matplotlib.pyplot as plt\n",
    "from pandas import Series,DataFrame\n",
    "from sklearn.preprocessing import LabelEncoder,StandardScaler,MinMaxScaler,OneHotEncoder\n",
    "from imblearn.over_sampling import SMOTE\n",
    "from sklearn.model_selection import train_test_split,StratifiedShuffleSplit\n",
    "from sklearn.decomposition import PCA\n",
    "from xgboost import XGBClassifier\n",
    "from sklearn.metrics import classification_report,log_loss"
   ]
  },
  {
   "cell_type": "code",
   "execution_count": 256,
   "metadata": {},
   "outputs": [],
   "source": [
    "# 1、获取数据\n",
    "data = pd.read_csv(\"./data/Otto/train.csv\")\n",
    "\n",
    "# 2、数据基本处理\n",
    "# 2.1、数据不平衡：过采样\n",
    "smote = SMOTE()\n",
    "x,y = smote.fit_resample(data.loc[:,\"feat_1\":\"feat_93\"],data[\"target\"])\n",
    "# 2.2、将目标值转换为数字\n",
    "labelEncoder = LabelEncoder()\n",
    "y = labelEncoder.fit_transform(y)"
   ]
  },
  {
   "cell_type": "code",
   "execution_count": 257,
   "metadata": {},
   "outputs": [],
   "source": [
    "# 2.3、 分割数据：使用StratifiedShuffleSplit，具体使用https://blog.csdn.net/wuzhongqiang/article/details/101560889\n",
    "sss = StratifiedShuffleSplit(n_splits=1,test_size=0.2,random_state=20)\n",
    "x_train,x_test,y_train,y_test = 0,0,0,0\n",
    "for train_index,test_index in sss.split(x,y):\n",
    "    x_train,x_test = x.iloc[train_index],x.iloc[test_index]\n",
    "    y_train,y_test = y[train_index],y[test_index]"
   ]
  },
  {
   "cell_type": "code",
   "execution_count": 258,
   "metadata": {},
   "outputs": [],
   "source": [
    "# 3、特征工程\n",
    "# 3.1、数据标准化\n",
    "scaler = StandardScaler()\n",
    "scaler.fit(x_train_pca)\n",
    "x_train = scaler.transform(x_train_pca)\n",
    "x_test = scaler.transform(x_test_pca)\n",
    "\n",
    "# 3.2、 PCA降维\n",
    "pca = PCA()\n",
    "pca.fit(x_train)\n",
    "x_train_pca = pca.transform(x_train)\n",
    "x_test_pca = pca.transform(x_test)"
   ]
  },
  {
   "cell_type": "code",
   "execution_count": 260,
   "metadata": {},
   "outputs": [],
   "source": [
    "# 4、机器学习-XGBoost\n",
    "estimator = XGBClassifier(n_jobs=-1)\n",
    "estimator.fit(x_train_pca,y_train)\n",
    "\n",
    "# 预测\n",
    "y_pre_proba = estimator.predict_proba(x_test_pca)\n",
    "\n",
    "# 5、模型评估：logloss评估\n",
    "logloss = log_loss(y_test,y_pre_proba)\n",
    "print(logloss)"
   ]
  },
  {
   "cell_type": "markdown",
   "metadata": {},
   "source": [
    "##### 模型调优\n",
    "- 将一个个参数依次进行调优"
   ]
  },
  {
   "cell_type": "code",
   "execution_count": 240,
   "metadata": {},
   "outputs": [],
   "source": [
    "# n_estimators参数调优\n",
    "logloss_n_estimator = []\n",
    "n_estimators = [100,200,300,400,500,600]\n",
    "for n_estimator in n_estimators:\n",
    "    estimator = XGBClassifier(n_estimators=n_estimator,\n",
    "                              max_depth=3,\n",
    "                              learning_rate=0.1,\n",
    "                              min_split_loss=1,\n",
    "                              subsample=1,\n",
    "                              objective=\"multi:softmax\",num_class=9,n_jobs=-1)\n",
    "    estimator.fit(x_train_pca,y_train)\n",
    "    y_pre_proba = estimator.predict_proba(x_test_pca)\n",
    "    logloss = log_loss(y_test,y_pre_proba)\n",
    "    logloss_n_estimator.append(logloss)\n",
    "\n",
    "# 画图\n",
    "plt.plot(n_estimators,logloss_n_estimator)\n",
    "plt.show()"
   ]
  },
  {
   "cell_type": "code",
   "execution_count": null,
   "metadata": {},
   "outputs": [],
   "source": [
    "# max_depth参数调优\n",
    "logloss_max_depth = []\n",
    "max_depths = [1,3,5,10,20]\n",
    "for max_depth in max_depths:\n",
    "    estimator = XGBClassifier(n_estimators=10,\n",
    "                              max_depth=max_depth,\n",
    "                              learning_rate=0.1,\n",
    "                              min_split_loss=1,\n",
    "                              subsample=1,\n",
    "                              objective=\"multi:softmax\",num_class=9,n_jobs=-1)\n",
    "    estimator.fit(x_train_pca,y_train)\n",
    "    y_pre_proba = estimator.predict_proba(x_test_pca)\n",
    "    logloss = log_loss(y_test,y_pre_proba)\n",
    "    logloss_max_depth.append(logloss)\n",
    "\n",
    "# 画图\n",
    "plt.plot(max_depths,max_depths)\n",
    "plt.show()"
   ]
  },
  {
   "cell_type": "code",
   "execution_count": null,
   "metadata": {},
   "outputs": [],
   "source": [
    "# learning_rate参数调优\n",
    "logloss_learning_rate = []\n",
    "learning_rates = [0.1,0.3,0.5,0.7,0.9,1]\n",
    "for learning_rate in learning_rates:\n",
    "    estimator = XGBClassifier(n_estimators=10,\n",
    "                              max_depth=3,\n",
    "                              learning_rate=learning_rate,\n",
    "                              min_split_loss=1,\n",
    "                              subsample=1,\n",
    "                              objective=\"multi:softmax\",num_class=9,n_jobs=-1)\n",
    "    estimator.fit(x_train_pca,y_train)\n",
    "    y_pre_proba = estimator.predict_proba(x_test_pca)\n",
    "    logloss = log_loss(y_test,y_pre_proba)\n",
    "    logloss_learning_rate.append(logloss)\n",
    "\n",
    "# 画图\n",
    "plt.plot(learning_rates,logloss_learning_rate)\n",
    "plt.show()"
   ]
  },
  {
   "cell_type": "code",
   "execution_count": null,
   "metadata": {},
   "outputs": [],
   "source": [
    "# min_split_loss参数调优\n",
    "logloss_min_split_loss = []\n",
    "min_split_losss = [0.5,1,3,5,10]\n",
    "for min_split_loss in min_split_losss:\n",
    "    estimator = XGBClassifier(n_estimators=10,\n",
    "                              max_depth=3,\n",
    "                              learning_rate=0.1,\n",
    "                              min_split_loss=min_split_loss,\n",
    "                              subsample=1,\n",
    "                              objective=\"multi:softmax\",num_class=9,n_jobs=-1)\n",
    "    estimator.fit(x_train_pca,y_train)\n",
    "    y_pre_proba = estimator.predict_proba(x_test_pca)\n",
    "    logloss = log_loss(y_test,y_pre_proba)\n",
    "    logloss_min_split_loss.append(logloss)\n",
    "\n",
    "# 画图\n",
    "plt.plot(min_split_losss,logloss_min_split_loss)\n",
    "plt.show()"
   ]
  },
  {
   "cell_type": "code",
   "execution_count": null,
   "metadata": {},
   "outputs": [],
   "source": [
    "# subsample参数调优\n",
    "logloss_subsample = []\n",
    "subsamples = [0.1,0.3,0.5,0.7,0.9]\n",
    "for n_estimator in n_estimators:\n",
    "    estimator = XGBClassifier(n_estimators=10,\n",
    "                              max_depth=3,\n",
    "                              learning_rate=0.1,\n",
    "                              min_split_loss=1,\n",
    "                              subsample=subsample,\n",
    "                              objective=\"multi:softmax\",num_class=9,n_jobs=-1)\n",
    "    estimator.fit(x_train_pca,y_train)\n",
    "    y_pre_proba = estimator.predict_proba(x_test_pca)\n",
    "    logloss = log_loss(y_test,y_pre_proba)\n",
    "    logloss_subsample.append(logloss)\n",
    "\n",
    "# 画图\n",
    "plt.plot(subsamples,logloss_subsample)\n",
    "plt.show()"
   ]
  },
  {
   "cell_type": "markdown",
   "metadata": {},
   "source": [
    "#### lightGBM介绍\n",
    "##### lightGBM的API\n",
    "- pip install lightgbm\n",
    "- Controll Parameters\n",
    "    - ![](./note_img/note_lightgbm_controllparam.png)\n",
    "- Core Parameters\n",
    "    - ![](./note_img/note_lightgbm_coreparam.png)\n",
    "- IO Parameters\n",
    "    - ![](./note_img/note_lightgbm_ioparam.png)\n",
    "- 调参建议\n",
    "    - ![](./note_img/note_lightgbm_recommparam.png)"
   ]
  },
  {
   "cell_type": "markdown",
   "metadata": {},
   "source": [
    "#### 案例：鸢尾花-基于lightGBM"
   ]
  },
  {
   "cell_type": "code",
   "execution_count": 62,
   "metadata": {},
   "outputs": [],
   "source": [
    "import numpy as np\n",
    "from sklearn.datasets import load_iris\n",
    "from sklearn.model_selection import train_test_split,StratifiedShuffleSplit\n",
    "from sklearn.model_selection import GridSearchCV\n",
    "import lightgbm"
   ]
  },
  {
   "cell_type": "code",
   "execution_count": 88,
   "metadata": {
    "scrolled": true
   },
   "outputs": [
    {
     "name": "stdout",
     "output_type": "stream",
     "text": [
      "[1]\tvalid_0's l2: 0.543884\n",
      "Training until validation scores don't improve for 3 rounds\n",
      "[2]\tvalid_0's l2: 0.445356\n",
      "[3]\tvalid_0's l2: 0.368006\n",
      "[4]\tvalid_0's l2: 0.302173\n",
      "[5]\tvalid_0's l2: 0.246816\n",
      "[6]\tvalid_0's l2: 0.206064\n",
      "[7]\tvalid_0's l2: 0.169679\n",
      "[8]\tvalid_0's l2: 0.139327\n",
      "[9]\tvalid_0's l2: 0.118581\n",
      "[10]\tvalid_0's l2: 0.0983371\n",
      "[11]\tvalid_0's l2: 0.0812984\n",
      "[12]\tvalid_0's l2: 0.0675149\n",
      "[13]\tvalid_0's l2: 0.0561326\n",
      "[14]\tvalid_0's l2: 0.0469201\n",
      "[15]\tvalid_0's l2: 0.0402658\n",
      "[16]\tvalid_0's l2: 0.0338748\n",
      "[17]\tvalid_0's l2: 0.0288151\n",
      "[18]\tvalid_0's l2: 0.0245169\n",
      "[19]\tvalid_0's l2: 0.0209053\n",
      "[20]\tvalid_0's l2: 0.0178735\n",
      "[21]\tvalid_0's l2: 0.0155662\n",
      "[22]\tvalid_0's l2: 0.0135097\n",
      "[23]\tvalid_0's l2: 0.0120206\n",
      "[24]\tvalid_0's l2: 0.0108764\n",
      "[25]\tvalid_0's l2: 0.00965781\n",
      "[26]\tvalid_0's l2: 0.00885547\n",
      "[27]\tvalid_0's l2: 0.00800568\n",
      "[28]\tvalid_0's l2: 0.00751852\n",
      "[29]\tvalid_0's l2: 0.00713092\n",
      "[30]\tvalid_0's l2: 0.00661137\n",
      "[31]\tvalid_0's l2: 0.00647204\n",
      "[32]\tvalid_0's l2: 0.00665373\n",
      "[33]\tvalid_0's l2: 0.00630555\n",
      "[34]\tvalid_0's l2: 0.00628909\n",
      "[35]\tvalid_0's l2: 0.00604636\n",
      "[36]\tvalid_0's l2: 0.00607124\n",
      "[37]\tvalid_0's l2: 0.00621622\n",
      "[38]\tvalid_0's l2: 0.00652014\n",
      "Early stopping, best iteration is:\n",
      "[35]\tvalid_0's l2: 0.00604636\n"
     ]
    },
    {
     "data": {
      "text/plain": [
       "0.990930467231711"
      ]
     },
     "execution_count": 88,
     "metadata": {},
     "output_type": "execute_result"
    }
   ],
   "source": [
    "# 获取数据\n",
    "iris = load_iris()\n",
    "x = iris[\"data\"]\n",
    "y = iris[\"target\"]\n",
    "\n",
    "# 数据基本处理\n",
    "# x_train,x_test,y_train,y_test = train_test_split(x,y,test_size=0.2)\n",
    "sss = StratifiedShuffleSplit(n_splits=1)\n",
    "for train_index,test_index in sss.split(x,y):\n",
    "    x_train,x_test = x[train_index],x[test_index]\n",
    "    y_train,y_test = y[train_index],y[test_index]\n",
    "\n",
    "# 机器学习-lightbgm\n",
    "model = lightgbm.LGBMRegressor()\n",
    "model.fit(x_train,y_train,eval_set=[(x_test,y_test)],early_stopping_rounds=3)\n",
    "model.score(x_test,y_test)"
   ]
  },
  {
   "cell_type": "code",
   "execution_count": 89,
   "metadata": {
    "scrolled": true
   },
   "outputs": [
    {
     "name": "stdout",
     "output_type": "stream",
     "text": [
      "[1]\tvalid_0's l2: 0.543884\n",
      "Training until validation scores don't improve for 3 rounds\n",
      "[2]\tvalid_0's l2: 0.445356\n",
      "[3]\tvalid_0's l2: 0.368006\n",
      "[4]\tvalid_0's l2: 0.302173\n",
      "[5]\tvalid_0's l2: 0.246816\n",
      "[6]\tvalid_0's l2: 0.206064\n",
      "[7]\tvalid_0's l2: 0.169679\n",
      "[8]\tvalid_0's l2: 0.139327\n",
      "[9]\tvalid_0's l2: 0.118581\n",
      "[10]\tvalid_0's l2: 0.0983371\n",
      "[11]\tvalid_0's l2: 0.0812984\n",
      "[12]\tvalid_0's l2: 0.0675149\n",
      "[13]\tvalid_0's l2: 0.0561326\n",
      "[14]\tvalid_0's l2: 0.0469201\n",
      "[15]\tvalid_0's l2: 0.0402658\n",
      "[16]\tvalid_0's l2: 0.0338748\n",
      "[17]\tvalid_0's l2: 0.0288151\n",
      "[18]\tvalid_0's l2: 0.0245169\n",
      "[19]\tvalid_0's l2: 0.0209053\n",
      "[20]\tvalid_0's l2: 0.0178735\n",
      "[21]\tvalid_0's l2: 0.0155662\n",
      "[22]\tvalid_0's l2: 0.0135097\n",
      "[23]\tvalid_0's l2: 0.0120206\n",
      "[24]\tvalid_0's l2: 0.0108764\n",
      "[25]\tvalid_0's l2: 0.00965781\n",
      "[26]\tvalid_0's l2: 0.00885547\n",
      "[27]\tvalid_0's l2: 0.00800568\n",
      "[28]\tvalid_0's l2: 0.00751852\n",
      "[29]\tvalid_0's l2: 0.00713092\n",
      "[30]\tvalid_0's l2: 0.00661137\n",
      "[31]\tvalid_0's l2: 0.00647204\n",
      "[32]\tvalid_0's l2: 0.00665373\n",
      "[33]\tvalid_0's l2: 0.00630555\n",
      "[34]\tvalid_0's l2: 0.00628909\n",
      "[35]\tvalid_0's l2: 0.00604636\n",
      "Did not meet early stopping. Best iteration is:\n",
      "[35]\tvalid_0's l2: 0.00604636\n"
     ]
    },
    {
     "data": {
      "text/plain": [
       "GridSearchCV(estimator=LGBMRegressor(), n_jobs=-1,\n",
       "             param_grid={'learning_rate': array([0.1 , 0.15, 0.2 , 0.25, 0.3 , 0.35, 0.4 , 0.45, 0.5 , 0.55, 0.6 ,\n",
       "       0.65, 0.7 , 0.75, 0.8 , 0.85, 0.9 , 0.95]),\n",
       "                         'n_estimators': array([ 10,  15,  20,  25,  30,  35,  40,  45,  50,  55,  60,  65,  70,\n",
       "        75,  80,  85,  90,  95, 100, 105, 110, 115, 120, 125, 130, 135,\n",
       "       140, 145, 150, 155, 160, 165, 170, 175, 180, 185, 190, 195])})"
      ]
     },
     "execution_count": 89,
     "metadata": {},
     "output_type": "execute_result"
    }
   ],
   "source": [
    "# 通过网格搜索进行训练\n",
    "model = lightgbm.LGBMRegressor()\n",
    "param = {\"learning_rate\":np.arange(0.1,1,0.05),\"n_estimators\":np.arange(10,200,5).astype(np.int)}\n",
    "model_grid = GridSearchCV(model,param_grid=param,n_jobs=-1)\n",
    "model_grid.fit(x_train,y_train,eval_set=[(x_test,y_test)],early_stopping_rounds=3)"
   ]
  },
  {
   "cell_type": "code",
   "execution_count": 90,
   "metadata": {},
   "outputs": [
    {
     "data": {
      "text/plain": [
       "{'learning_rate': 0.1, 'n_estimators': 35}"
      ]
     },
     "execution_count": 90,
     "metadata": {},
     "output_type": "execute_result"
    }
   ],
   "source": [
    "model_grid.best_params_"
   ]
  },
  {
   "cell_type": "code",
   "execution_count": 93,
   "metadata": {
    "scrolled": true
   },
   "outputs": [
    {
     "name": "stdout",
     "output_type": "stream",
     "text": [
      "[1]\tvalid_0's l2: 0.543884\n",
      "Training until validation scores don't improve for 3 rounds\n",
      "[2]\tvalid_0's l2: 0.445356\n",
      "[3]\tvalid_0's l2: 0.368006\n",
      "[4]\tvalid_0's l2: 0.302173\n",
      "[5]\tvalid_0's l2: 0.246816\n",
      "[6]\tvalid_0's l2: 0.206064\n",
      "[7]\tvalid_0's l2: 0.169679\n",
      "[8]\tvalid_0's l2: 0.139327\n",
      "[9]\tvalid_0's l2: 0.118581\n",
      "[10]\tvalid_0's l2: 0.0983371\n",
      "[11]\tvalid_0's l2: 0.0812984\n",
      "[12]\tvalid_0's l2: 0.0675149\n",
      "[13]\tvalid_0's l2: 0.0561326\n",
      "[14]\tvalid_0's l2: 0.0469201\n",
      "[15]\tvalid_0's l2: 0.0402658\n",
      "[16]\tvalid_0's l2: 0.0338748\n",
      "[17]\tvalid_0's l2: 0.0288151\n",
      "[18]\tvalid_0's l2: 0.0245169\n",
      "[19]\tvalid_0's l2: 0.0209053\n",
      "[20]\tvalid_0's l2: 0.0178735\n",
      "[21]\tvalid_0's l2: 0.0155662\n",
      "[22]\tvalid_0's l2: 0.0135097\n",
      "[23]\tvalid_0's l2: 0.0120206\n",
      "[24]\tvalid_0's l2: 0.0108764\n",
      "[25]\tvalid_0's l2: 0.00965781\n",
      "[26]\tvalid_0's l2: 0.00885547\n",
      "[27]\tvalid_0's l2: 0.00800568\n",
      "[28]\tvalid_0's l2: 0.00751852\n",
      "[29]\tvalid_0's l2: 0.00713092\n",
      "[30]\tvalid_0's l2: 0.00661137\n",
      "[31]\tvalid_0's l2: 0.00647204\n",
      "[32]\tvalid_0's l2: 0.00665373\n",
      "[33]\tvalid_0's l2: 0.00630555\n",
      "[34]\tvalid_0's l2: 0.00628909\n",
      "[35]\tvalid_0's l2: 0.00604636\n",
      "Did not meet early stopping. Best iteration is:\n",
      "[35]\tvalid_0's l2: 0.00604636\n"
     ]
    },
    {
     "data": {
      "text/plain": [
       "0.990930467231711"
      ]
     },
     "execution_count": 93,
     "metadata": {},
     "output_type": "execute_result"
    }
   ],
   "source": [
    "model = lightgbm.LGBMRegressor(learning_rate=0.1,n_estimators=35)\n",
    "model.fit(x_train,y_train,eval_set=[(x_test,y_test)],early_stopping_rounds=3)\n",
    "model.score(x_test,y_test)"
   ]
  },
  {
   "cell_type": "markdown",
   "metadata": {},
   "source": [
    "#### 案例：《绝地求生》排名预测\n",
    "- https://www.kaggle.com/c/pubg-finish-placement-prediction/data"
   ]
  },
  {
   "cell_type": "code",
   "execution_count": 1,
   "metadata": {},
   "outputs": [],
   "source": [
    "import numpy as np    # 数据分析工具\n",
    "import pandas as pd   # 数据分析工具\n",
    "from pandas import DataFrame,Series\n",
    "import matplotlib.pyplot as plt      # 画图\n",
    "import seaborn as sns    # 画图工具\n",
    "from sklearn.preprocessing import MinMaxScaler,StandardScaler   # 特征工程\n",
    "from sklearn.decomposition import PCA    # PCA降维\n",
    "from sklearn.model_selection import StratifiedShuffleSplit,train_test_split,GridSearchCV    # 数据集划分、交叉验证网格搜索\n",
    "import lightgbm\n",
    "from sklearn.ensemble import RandomForestRegressor    # 随机森林\n",
    "from sklearn.metrics import mean_absolute_error       # 模型评估"
   ]
  },
  {
   "cell_type": "markdown",
   "metadata": {},
   "source": [
    "- 获取数据"
   ]
  },
  {
   "cell_type": "code",
   "execution_count": 2,
   "metadata": {
    "scrolled": false
   },
   "outputs": [
    {
     "data": {
      "text/html": [
       "<div>\n",
       "<style scoped>\n",
       "    .dataframe tbody tr th:only-of-type {\n",
       "        vertical-align: middle;\n",
       "    }\n",
       "\n",
       "    .dataframe tbody tr th {\n",
       "        vertical-align: top;\n",
       "    }\n",
       "\n",
       "    .dataframe thead th {\n",
       "        text-align: right;\n",
       "    }\n",
       "</style>\n",
       "<table border=\"1\" class=\"dataframe\">\n",
       "  <thead>\n",
       "    <tr style=\"text-align: right;\">\n",
       "      <th></th>\n",
       "      <th>Id</th>\n",
       "      <th>groupId</th>\n",
       "      <th>matchId</th>\n",
       "      <th>assists</th>\n",
       "      <th>boosts</th>\n",
       "      <th>damageDealt</th>\n",
       "      <th>DBNOs</th>\n",
       "      <th>headshotKills</th>\n",
       "      <th>heals</th>\n",
       "      <th>killPlace</th>\n",
       "      <th>...</th>\n",
       "      <th>revives</th>\n",
       "      <th>rideDistance</th>\n",
       "      <th>roadKills</th>\n",
       "      <th>swimDistance</th>\n",
       "      <th>teamKills</th>\n",
       "      <th>vehicleDestroys</th>\n",
       "      <th>walkDistance</th>\n",
       "      <th>weaponsAcquired</th>\n",
       "      <th>winPoints</th>\n",
       "      <th>winPlacePerc</th>\n",
       "    </tr>\n",
       "  </thead>\n",
       "  <tbody>\n",
       "    <tr>\n",
       "      <th>0</th>\n",
       "      <td>7f96b2f878858a</td>\n",
       "      <td>4d4b580de459be</td>\n",
       "      <td>a10357fd1a4a91</td>\n",
       "      <td>0</td>\n",
       "      <td>0</td>\n",
       "      <td>0.00</td>\n",
       "      <td>0</td>\n",
       "      <td>0</td>\n",
       "      <td>0</td>\n",
       "      <td>60</td>\n",
       "      <td>...</td>\n",
       "      <td>0</td>\n",
       "      <td>0.0000</td>\n",
       "      <td>0</td>\n",
       "      <td>0.000</td>\n",
       "      <td>0</td>\n",
       "      <td>0</td>\n",
       "      <td>244.80</td>\n",
       "      <td>1</td>\n",
       "      <td>1466</td>\n",
       "      <td>0.4444</td>\n",
       "    </tr>\n",
       "    <tr>\n",
       "      <th>1</th>\n",
       "      <td>eef90569b9d03c</td>\n",
       "      <td>684d5656442f9e</td>\n",
       "      <td>aeb375fc57110c</td>\n",
       "      <td>0</td>\n",
       "      <td>0</td>\n",
       "      <td>91.47</td>\n",
       "      <td>0</td>\n",
       "      <td>0</td>\n",
       "      <td>0</td>\n",
       "      <td>57</td>\n",
       "      <td>...</td>\n",
       "      <td>0</td>\n",
       "      <td>0.0045</td>\n",
       "      <td>0</td>\n",
       "      <td>11.040</td>\n",
       "      <td>0</td>\n",
       "      <td>0</td>\n",
       "      <td>1434.00</td>\n",
       "      <td>5</td>\n",
       "      <td>0</td>\n",
       "      <td>0.6400</td>\n",
       "    </tr>\n",
       "    <tr>\n",
       "      <th>2</th>\n",
       "      <td>1eaf90ac73de72</td>\n",
       "      <td>6a4a42c3245a74</td>\n",
       "      <td>110163d8bb94ae</td>\n",
       "      <td>1</td>\n",
       "      <td>0</td>\n",
       "      <td>68.00</td>\n",
       "      <td>0</td>\n",
       "      <td>0</td>\n",
       "      <td>0</td>\n",
       "      <td>47</td>\n",
       "      <td>...</td>\n",
       "      <td>0</td>\n",
       "      <td>0.0000</td>\n",
       "      <td>0</td>\n",
       "      <td>0.000</td>\n",
       "      <td>0</td>\n",
       "      <td>0</td>\n",
       "      <td>161.80</td>\n",
       "      <td>2</td>\n",
       "      <td>0</td>\n",
       "      <td>0.7755</td>\n",
       "    </tr>\n",
       "    <tr>\n",
       "      <th>3</th>\n",
       "      <td>4616d365dd2853</td>\n",
       "      <td>a930a9c79cd721</td>\n",
       "      <td>f1f1f4ef412d7e</td>\n",
       "      <td>0</td>\n",
       "      <td>0</td>\n",
       "      <td>32.90</td>\n",
       "      <td>0</td>\n",
       "      <td>0</td>\n",
       "      <td>0</td>\n",
       "      <td>75</td>\n",
       "      <td>...</td>\n",
       "      <td>0</td>\n",
       "      <td>0.0000</td>\n",
       "      <td>0</td>\n",
       "      <td>0.000</td>\n",
       "      <td>0</td>\n",
       "      <td>0</td>\n",
       "      <td>202.70</td>\n",
       "      <td>3</td>\n",
       "      <td>0</td>\n",
       "      <td>0.1667</td>\n",
       "    </tr>\n",
       "    <tr>\n",
       "      <th>4</th>\n",
       "      <td>315c96c26c9aac</td>\n",
       "      <td>de04010b3458dd</td>\n",
       "      <td>6dc8ff871e21e6</td>\n",
       "      <td>0</td>\n",
       "      <td>0</td>\n",
       "      <td>100.00</td>\n",
       "      <td>0</td>\n",
       "      <td>0</td>\n",
       "      <td>0</td>\n",
       "      <td>45</td>\n",
       "      <td>...</td>\n",
       "      <td>0</td>\n",
       "      <td>0.0000</td>\n",
       "      <td>0</td>\n",
       "      <td>0.000</td>\n",
       "      <td>0</td>\n",
       "      <td>0</td>\n",
       "      <td>49.75</td>\n",
       "      <td>2</td>\n",
       "      <td>0</td>\n",
       "      <td>0.1875</td>\n",
       "    </tr>\n",
       "    <tr>\n",
       "      <th>...</th>\n",
       "      <td>...</td>\n",
       "      <td>...</td>\n",
       "      <td>...</td>\n",
       "      <td>...</td>\n",
       "      <td>...</td>\n",
       "      <td>...</td>\n",
       "      <td>...</td>\n",
       "      <td>...</td>\n",
       "      <td>...</td>\n",
       "      <td>...</td>\n",
       "      <td>...</td>\n",
       "      <td>...</td>\n",
       "      <td>...</td>\n",
       "      <td>...</td>\n",
       "      <td>...</td>\n",
       "      <td>...</td>\n",
       "      <td>...</td>\n",
       "      <td>...</td>\n",
       "      <td>...</td>\n",
       "      <td>...</td>\n",
       "      <td>...</td>\n",
       "    </tr>\n",
       "    <tr>\n",
       "      <th>4446961</th>\n",
       "      <td>afff7f652dbc10</td>\n",
       "      <td>d238e426f50de7</td>\n",
       "      <td>18492834ce5635</td>\n",
       "      <td>0</td>\n",
       "      <td>0</td>\n",
       "      <td>0.00</td>\n",
       "      <td>0</td>\n",
       "      <td>0</td>\n",
       "      <td>0</td>\n",
       "      <td>74</td>\n",
       "      <td>...</td>\n",
       "      <td>0</td>\n",
       "      <td>1292.0000</td>\n",
       "      <td>0</td>\n",
       "      <td>0.000</td>\n",
       "      <td>0</td>\n",
       "      <td>0</td>\n",
       "      <td>1019.00</td>\n",
       "      <td>3</td>\n",
       "      <td>1507</td>\n",
       "      <td>0.1786</td>\n",
       "    </tr>\n",
       "    <tr>\n",
       "      <th>4446962</th>\n",
       "      <td>f4197cf374e6c0</td>\n",
       "      <td>408cdb5c46b2ac</td>\n",
       "      <td>ee854b837376d9</td>\n",
       "      <td>0</td>\n",
       "      <td>1</td>\n",
       "      <td>44.15</td>\n",
       "      <td>0</td>\n",
       "      <td>0</td>\n",
       "      <td>0</td>\n",
       "      <td>69</td>\n",
       "      <td>...</td>\n",
       "      <td>0</td>\n",
       "      <td>0.0000</td>\n",
       "      <td>0</td>\n",
       "      <td>0.000</td>\n",
       "      <td>0</td>\n",
       "      <td>0</td>\n",
       "      <td>81.70</td>\n",
       "      <td>6</td>\n",
       "      <td>0</td>\n",
       "      <td>0.2935</td>\n",
       "    </tr>\n",
       "    <tr>\n",
       "      <th>4446963</th>\n",
       "      <td>e1948b1295c88a</td>\n",
       "      <td>e26ac84bdf7cef</td>\n",
       "      <td>6d0cd12784f1ab</td>\n",
       "      <td>0</td>\n",
       "      <td>0</td>\n",
       "      <td>59.06</td>\n",
       "      <td>0</td>\n",
       "      <td>0</td>\n",
       "      <td>0</td>\n",
       "      <td>66</td>\n",
       "      <td>...</td>\n",
       "      <td>0</td>\n",
       "      <td>0.0000</td>\n",
       "      <td>0</td>\n",
       "      <td>2.184</td>\n",
       "      <td>0</td>\n",
       "      <td>0</td>\n",
       "      <td>788.70</td>\n",
       "      <td>4</td>\n",
       "      <td>0</td>\n",
       "      <td>0.4815</td>\n",
       "    </tr>\n",
       "    <tr>\n",
       "      <th>4446964</th>\n",
       "      <td>cc032cdd73b7ac</td>\n",
       "      <td>c2223f35411394</td>\n",
       "      <td>c9c701d0ad758a</td>\n",
       "      <td>0</td>\n",
       "      <td>4</td>\n",
       "      <td>180.40</td>\n",
       "      <td>1</td>\n",
       "      <td>1</td>\n",
       "      <td>2</td>\n",
       "      <td>11</td>\n",
       "      <td>...</td>\n",
       "      <td>2</td>\n",
       "      <td>0.0000</td>\n",
       "      <td>0</td>\n",
       "      <td>0.000</td>\n",
       "      <td>0</td>\n",
       "      <td>0</td>\n",
       "      <td>2748.00</td>\n",
       "      <td>8</td>\n",
       "      <td>0</td>\n",
       "      <td>0.8000</td>\n",
       "    </tr>\n",
       "    <tr>\n",
       "      <th>4446965</th>\n",
       "      <td>0d8e7ed728b6fd</td>\n",
       "      <td>8c74f72fedf5ff</td>\n",
       "      <td>62a16aabcc095c</td>\n",
       "      <td>0</td>\n",
       "      <td>2</td>\n",
       "      <td>268.00</td>\n",
       "      <td>0</td>\n",
       "      <td>0</td>\n",
       "      <td>1</td>\n",
       "      <td>18</td>\n",
       "      <td>...</td>\n",
       "      <td>0</td>\n",
       "      <td>1369.0000</td>\n",
       "      <td>0</td>\n",
       "      <td>0.000</td>\n",
       "      <td>0</td>\n",
       "      <td>0</td>\n",
       "      <td>1244.00</td>\n",
       "      <td>5</td>\n",
       "      <td>0</td>\n",
       "      <td>0.5464</td>\n",
       "    </tr>\n",
       "  </tbody>\n",
       "</table>\n",
       "<p>4446966 rows × 29 columns</p>\n",
       "</div>"
      ],
      "text/plain": [
       "                     Id         groupId         matchId  assists  boosts  \\\n",
       "0        7f96b2f878858a  4d4b580de459be  a10357fd1a4a91        0       0   \n",
       "1        eef90569b9d03c  684d5656442f9e  aeb375fc57110c        0       0   \n",
       "2        1eaf90ac73de72  6a4a42c3245a74  110163d8bb94ae        1       0   \n",
       "3        4616d365dd2853  a930a9c79cd721  f1f1f4ef412d7e        0       0   \n",
       "4        315c96c26c9aac  de04010b3458dd  6dc8ff871e21e6        0       0   \n",
       "...                 ...             ...             ...      ...     ...   \n",
       "4446961  afff7f652dbc10  d238e426f50de7  18492834ce5635        0       0   \n",
       "4446962  f4197cf374e6c0  408cdb5c46b2ac  ee854b837376d9        0       1   \n",
       "4446963  e1948b1295c88a  e26ac84bdf7cef  6d0cd12784f1ab        0       0   \n",
       "4446964  cc032cdd73b7ac  c2223f35411394  c9c701d0ad758a        0       4   \n",
       "4446965  0d8e7ed728b6fd  8c74f72fedf5ff  62a16aabcc095c        0       2   \n",
       "\n",
       "         damageDealt  DBNOs  headshotKills  heals  killPlace  ...  revives  \\\n",
       "0               0.00      0              0      0         60  ...        0   \n",
       "1              91.47      0              0      0         57  ...        0   \n",
       "2              68.00      0              0      0         47  ...        0   \n",
       "3              32.90      0              0      0         75  ...        0   \n",
       "4             100.00      0              0      0         45  ...        0   \n",
       "...              ...    ...            ...    ...        ...  ...      ...   \n",
       "4446961         0.00      0              0      0         74  ...        0   \n",
       "4446962        44.15      0              0      0         69  ...        0   \n",
       "4446963        59.06      0              0      0         66  ...        0   \n",
       "4446964       180.40      1              1      2         11  ...        2   \n",
       "4446965       268.00      0              0      1         18  ...        0   \n",
       "\n",
       "         rideDistance  roadKills  swimDistance  teamKills vehicleDestroys  \\\n",
       "0              0.0000          0         0.000          0               0   \n",
       "1              0.0045          0        11.040          0               0   \n",
       "2              0.0000          0         0.000          0               0   \n",
       "3              0.0000          0         0.000          0               0   \n",
       "4              0.0000          0         0.000          0               0   \n",
       "...               ...        ...           ...        ...             ...   \n",
       "4446961     1292.0000          0         0.000          0               0   \n",
       "4446962        0.0000          0         0.000          0               0   \n",
       "4446963        0.0000          0         2.184          0               0   \n",
       "4446964        0.0000          0         0.000          0               0   \n",
       "4446965     1369.0000          0         0.000          0               0   \n",
       "\n",
       "         walkDistance  weaponsAcquired  winPoints  winPlacePerc  \n",
       "0              244.80                1       1466        0.4444  \n",
       "1             1434.00                5          0        0.6400  \n",
       "2              161.80                2          0        0.7755  \n",
       "3              202.70                3          0        0.1667  \n",
       "4               49.75                2          0        0.1875  \n",
       "...               ...              ...        ...           ...  \n",
       "4446961       1019.00                3       1507        0.1786  \n",
       "4446962         81.70                6          0        0.2935  \n",
       "4446963        788.70                4          0        0.4815  \n",
       "4446964       2748.00                8          0        0.8000  \n",
       "4446965       1244.00                5          0        0.5464  \n",
       "\n",
       "[4446966 rows x 29 columns]"
      ]
     },
     "execution_count": 2,
     "metadata": {},
     "output_type": "execute_result"
    }
   ],
   "source": [
    "# 获取数据\n",
    "data = pd.read_csv(\"./data/PUGB/train_V2.csv\")\n",
    "data"
   ]
  },
  {
   "cell_type": "code",
   "execution_count": 3,
   "metadata": {},
   "outputs": [
    {
     "data": {
      "text/html": [
       "<div>\n",
       "<style scoped>\n",
       "    .dataframe tbody tr th:only-of-type {\n",
       "        vertical-align: middle;\n",
       "    }\n",
       "\n",
       "    .dataframe tbody tr th {\n",
       "        vertical-align: top;\n",
       "    }\n",
       "\n",
       "    .dataframe thead th {\n",
       "        text-align: right;\n",
       "    }\n",
       "</style>\n",
       "<table border=\"1\" class=\"dataframe\">\n",
       "  <thead>\n",
       "    <tr style=\"text-align: right;\">\n",
       "      <th></th>\n",
       "      <th>assists</th>\n",
       "      <th>boosts</th>\n",
       "      <th>damageDealt</th>\n",
       "      <th>DBNOs</th>\n",
       "      <th>headshotKills</th>\n",
       "      <th>heals</th>\n",
       "      <th>killPlace</th>\n",
       "      <th>killPoints</th>\n",
       "      <th>kills</th>\n",
       "      <th>killStreaks</th>\n",
       "      <th>...</th>\n",
       "      <th>revives</th>\n",
       "      <th>rideDistance</th>\n",
       "      <th>roadKills</th>\n",
       "      <th>swimDistance</th>\n",
       "      <th>teamKills</th>\n",
       "      <th>vehicleDestroys</th>\n",
       "      <th>walkDistance</th>\n",
       "      <th>weaponsAcquired</th>\n",
       "      <th>winPoints</th>\n",
       "      <th>winPlacePerc</th>\n",
       "    </tr>\n",
       "  </thead>\n",
       "  <tbody>\n",
       "    <tr>\n",
       "      <th>count</th>\n",
       "      <td>4.446966e+06</td>\n",
       "      <td>4.446966e+06</td>\n",
       "      <td>4.446966e+06</td>\n",
       "      <td>4.446966e+06</td>\n",
       "      <td>4.446966e+06</td>\n",
       "      <td>4.446966e+06</td>\n",
       "      <td>4.446966e+06</td>\n",
       "      <td>4.446966e+06</td>\n",
       "      <td>4.446966e+06</td>\n",
       "      <td>4.446966e+06</td>\n",
       "      <td>...</td>\n",
       "      <td>4.446966e+06</td>\n",
       "      <td>4.446966e+06</td>\n",
       "      <td>4.446966e+06</td>\n",
       "      <td>4.446966e+06</td>\n",
       "      <td>4.446966e+06</td>\n",
       "      <td>4.446966e+06</td>\n",
       "      <td>4.446966e+06</td>\n",
       "      <td>4.446966e+06</td>\n",
       "      <td>4.446966e+06</td>\n",
       "      <td>4.446965e+06</td>\n",
       "    </tr>\n",
       "    <tr>\n",
       "      <th>mean</th>\n",
       "      <td>2.338149e-01</td>\n",
       "      <td>1.106908e+00</td>\n",
       "      <td>1.307171e+02</td>\n",
       "      <td>6.578755e-01</td>\n",
       "      <td>2.268196e-01</td>\n",
       "      <td>1.370147e+00</td>\n",
       "      <td>4.759935e+01</td>\n",
       "      <td>5.050060e+02</td>\n",
       "      <td>9.247833e-01</td>\n",
       "      <td>5.439551e-01</td>\n",
       "      <td>...</td>\n",
       "      <td>1.646590e-01</td>\n",
       "      <td>6.061157e+02</td>\n",
       "      <td>3.496091e-03</td>\n",
       "      <td>4.509322e+00</td>\n",
       "      <td>2.386841e-02</td>\n",
       "      <td>7.918208e-03</td>\n",
       "      <td>1.154218e+03</td>\n",
       "      <td>3.660488e+00</td>\n",
       "      <td>6.064601e+02</td>\n",
       "      <td>4.728216e-01</td>\n",
       "    </tr>\n",
       "    <tr>\n",
       "      <th>std</th>\n",
       "      <td>5.885731e-01</td>\n",
       "      <td>1.715794e+00</td>\n",
       "      <td>1.707806e+02</td>\n",
       "      <td>1.145743e+00</td>\n",
       "      <td>6.021553e-01</td>\n",
       "      <td>2.679982e+00</td>\n",
       "      <td>2.746294e+01</td>\n",
       "      <td>6.275049e+02</td>\n",
       "      <td>1.558445e+00</td>\n",
       "      <td>7.109721e-01</td>\n",
       "      <td>...</td>\n",
       "      <td>4.721671e-01</td>\n",
       "      <td>1.498344e+03</td>\n",
       "      <td>7.337297e-02</td>\n",
       "      <td>3.050220e+01</td>\n",
       "      <td>1.673935e-01</td>\n",
       "      <td>9.261157e-02</td>\n",
       "      <td>1.183497e+03</td>\n",
       "      <td>2.456544e+00</td>\n",
       "      <td>7.397004e+02</td>\n",
       "      <td>3.074050e-01</td>\n",
       "    </tr>\n",
       "    <tr>\n",
       "      <th>min</th>\n",
       "      <td>0.000000e+00</td>\n",
       "      <td>0.000000e+00</td>\n",
       "      <td>0.000000e+00</td>\n",
       "      <td>0.000000e+00</td>\n",
       "      <td>0.000000e+00</td>\n",
       "      <td>0.000000e+00</td>\n",
       "      <td>1.000000e+00</td>\n",
       "      <td>0.000000e+00</td>\n",
       "      <td>0.000000e+00</td>\n",
       "      <td>0.000000e+00</td>\n",
       "      <td>...</td>\n",
       "      <td>0.000000e+00</td>\n",
       "      <td>0.000000e+00</td>\n",
       "      <td>0.000000e+00</td>\n",
       "      <td>0.000000e+00</td>\n",
       "      <td>0.000000e+00</td>\n",
       "      <td>0.000000e+00</td>\n",
       "      <td>0.000000e+00</td>\n",
       "      <td>0.000000e+00</td>\n",
       "      <td>0.000000e+00</td>\n",
       "      <td>0.000000e+00</td>\n",
       "    </tr>\n",
       "    <tr>\n",
       "      <th>25%</th>\n",
       "      <td>0.000000e+00</td>\n",
       "      <td>0.000000e+00</td>\n",
       "      <td>0.000000e+00</td>\n",
       "      <td>0.000000e+00</td>\n",
       "      <td>0.000000e+00</td>\n",
       "      <td>0.000000e+00</td>\n",
       "      <td>2.400000e+01</td>\n",
       "      <td>0.000000e+00</td>\n",
       "      <td>0.000000e+00</td>\n",
       "      <td>0.000000e+00</td>\n",
       "      <td>...</td>\n",
       "      <td>0.000000e+00</td>\n",
       "      <td>0.000000e+00</td>\n",
       "      <td>0.000000e+00</td>\n",
       "      <td>0.000000e+00</td>\n",
       "      <td>0.000000e+00</td>\n",
       "      <td>0.000000e+00</td>\n",
       "      <td>1.551000e+02</td>\n",
       "      <td>2.000000e+00</td>\n",
       "      <td>0.000000e+00</td>\n",
       "      <td>2.000000e-01</td>\n",
       "    </tr>\n",
       "    <tr>\n",
       "      <th>50%</th>\n",
       "      <td>0.000000e+00</td>\n",
       "      <td>0.000000e+00</td>\n",
       "      <td>8.424000e+01</td>\n",
       "      <td>0.000000e+00</td>\n",
       "      <td>0.000000e+00</td>\n",
       "      <td>0.000000e+00</td>\n",
       "      <td>4.700000e+01</td>\n",
       "      <td>0.000000e+00</td>\n",
       "      <td>0.000000e+00</td>\n",
       "      <td>0.000000e+00</td>\n",
       "      <td>...</td>\n",
       "      <td>0.000000e+00</td>\n",
       "      <td>0.000000e+00</td>\n",
       "      <td>0.000000e+00</td>\n",
       "      <td>0.000000e+00</td>\n",
       "      <td>0.000000e+00</td>\n",
       "      <td>0.000000e+00</td>\n",
       "      <td>6.856000e+02</td>\n",
       "      <td>3.000000e+00</td>\n",
       "      <td>0.000000e+00</td>\n",
       "      <td>4.583000e-01</td>\n",
       "    </tr>\n",
       "    <tr>\n",
       "      <th>75%</th>\n",
       "      <td>0.000000e+00</td>\n",
       "      <td>2.000000e+00</td>\n",
       "      <td>1.860000e+02</td>\n",
       "      <td>1.000000e+00</td>\n",
       "      <td>0.000000e+00</td>\n",
       "      <td>2.000000e+00</td>\n",
       "      <td>7.100000e+01</td>\n",
       "      <td>1.172000e+03</td>\n",
       "      <td>1.000000e+00</td>\n",
       "      <td>1.000000e+00</td>\n",
       "      <td>...</td>\n",
       "      <td>0.000000e+00</td>\n",
       "      <td>1.909750e-01</td>\n",
       "      <td>0.000000e+00</td>\n",
       "      <td>0.000000e+00</td>\n",
       "      <td>0.000000e+00</td>\n",
       "      <td>0.000000e+00</td>\n",
       "      <td>1.976000e+03</td>\n",
       "      <td>5.000000e+00</td>\n",
       "      <td>1.495000e+03</td>\n",
       "      <td>7.407000e-01</td>\n",
       "    </tr>\n",
       "    <tr>\n",
       "      <th>max</th>\n",
       "      <td>2.200000e+01</td>\n",
       "      <td>3.300000e+01</td>\n",
       "      <td>6.616000e+03</td>\n",
       "      <td>5.300000e+01</td>\n",
       "      <td>6.400000e+01</td>\n",
       "      <td>8.000000e+01</td>\n",
       "      <td>1.010000e+02</td>\n",
       "      <td>2.170000e+03</td>\n",
       "      <td>7.200000e+01</td>\n",
       "      <td>2.000000e+01</td>\n",
       "      <td>...</td>\n",
       "      <td>3.900000e+01</td>\n",
       "      <td>4.071000e+04</td>\n",
       "      <td>1.800000e+01</td>\n",
       "      <td>3.823000e+03</td>\n",
       "      <td>1.200000e+01</td>\n",
       "      <td>5.000000e+00</td>\n",
       "      <td>2.578000e+04</td>\n",
       "      <td>2.360000e+02</td>\n",
       "      <td>2.013000e+03</td>\n",
       "      <td>1.000000e+00</td>\n",
       "    </tr>\n",
       "  </tbody>\n",
       "</table>\n",
       "<p>8 rows × 25 columns</p>\n",
       "</div>"
      ],
      "text/plain": [
       "            assists        boosts   damageDealt         DBNOs  headshotKills  \\\n",
       "count  4.446966e+06  4.446966e+06  4.446966e+06  4.446966e+06   4.446966e+06   \n",
       "mean   2.338149e-01  1.106908e+00  1.307171e+02  6.578755e-01   2.268196e-01   \n",
       "std    5.885731e-01  1.715794e+00  1.707806e+02  1.145743e+00   6.021553e-01   \n",
       "min    0.000000e+00  0.000000e+00  0.000000e+00  0.000000e+00   0.000000e+00   \n",
       "25%    0.000000e+00  0.000000e+00  0.000000e+00  0.000000e+00   0.000000e+00   \n",
       "50%    0.000000e+00  0.000000e+00  8.424000e+01  0.000000e+00   0.000000e+00   \n",
       "75%    0.000000e+00  2.000000e+00  1.860000e+02  1.000000e+00   0.000000e+00   \n",
       "max    2.200000e+01  3.300000e+01  6.616000e+03  5.300000e+01   6.400000e+01   \n",
       "\n",
       "              heals     killPlace    killPoints         kills   killStreaks  \\\n",
       "count  4.446966e+06  4.446966e+06  4.446966e+06  4.446966e+06  4.446966e+06   \n",
       "mean   1.370147e+00  4.759935e+01  5.050060e+02  9.247833e-01  5.439551e-01   \n",
       "std    2.679982e+00  2.746294e+01  6.275049e+02  1.558445e+00  7.109721e-01   \n",
       "min    0.000000e+00  1.000000e+00  0.000000e+00  0.000000e+00  0.000000e+00   \n",
       "25%    0.000000e+00  2.400000e+01  0.000000e+00  0.000000e+00  0.000000e+00   \n",
       "50%    0.000000e+00  4.700000e+01  0.000000e+00  0.000000e+00  0.000000e+00   \n",
       "75%    2.000000e+00  7.100000e+01  1.172000e+03  1.000000e+00  1.000000e+00   \n",
       "max    8.000000e+01  1.010000e+02  2.170000e+03  7.200000e+01  2.000000e+01   \n",
       "\n",
       "       ...       revives  rideDistance     roadKills  swimDistance  \\\n",
       "count  ...  4.446966e+06  4.446966e+06  4.446966e+06  4.446966e+06   \n",
       "mean   ...  1.646590e-01  6.061157e+02  3.496091e-03  4.509322e+00   \n",
       "std    ...  4.721671e-01  1.498344e+03  7.337297e-02  3.050220e+01   \n",
       "min    ...  0.000000e+00  0.000000e+00  0.000000e+00  0.000000e+00   \n",
       "25%    ...  0.000000e+00  0.000000e+00  0.000000e+00  0.000000e+00   \n",
       "50%    ...  0.000000e+00  0.000000e+00  0.000000e+00  0.000000e+00   \n",
       "75%    ...  0.000000e+00  1.909750e-01  0.000000e+00  0.000000e+00   \n",
       "max    ...  3.900000e+01  4.071000e+04  1.800000e+01  3.823000e+03   \n",
       "\n",
       "          teamKills  vehicleDestroys  walkDistance  weaponsAcquired  \\\n",
       "count  4.446966e+06     4.446966e+06  4.446966e+06     4.446966e+06   \n",
       "mean   2.386841e-02     7.918208e-03  1.154218e+03     3.660488e+00   \n",
       "std    1.673935e-01     9.261157e-02  1.183497e+03     2.456544e+00   \n",
       "min    0.000000e+00     0.000000e+00  0.000000e+00     0.000000e+00   \n",
       "25%    0.000000e+00     0.000000e+00  1.551000e+02     2.000000e+00   \n",
       "50%    0.000000e+00     0.000000e+00  6.856000e+02     3.000000e+00   \n",
       "75%    0.000000e+00     0.000000e+00  1.976000e+03     5.000000e+00   \n",
       "max    1.200000e+01     5.000000e+00  2.578000e+04     2.360000e+02   \n",
       "\n",
       "          winPoints  winPlacePerc  \n",
       "count  4.446966e+06  4.446965e+06  \n",
       "mean   6.064601e+02  4.728216e-01  \n",
       "std    7.397004e+02  3.074050e-01  \n",
       "min    0.000000e+00  0.000000e+00  \n",
       "25%    0.000000e+00  2.000000e-01  \n",
       "50%    0.000000e+00  4.583000e-01  \n",
       "75%    1.495000e+03  7.407000e-01  \n",
       "max    2.013000e+03  1.000000e+00  \n",
       "\n",
       "[8 rows x 25 columns]"
      ]
     },
     "execution_count": 3,
     "metadata": {},
     "output_type": "execute_result"
    }
   ],
   "source": [
    "data.describe()"
   ]
  },
  {
   "cell_type": "code",
   "execution_count": 4,
   "metadata": {},
   "outputs": [
    {
     "data": {
      "text/plain": [
       "(4446966, 29)"
      ]
     },
     "execution_count": 4,
     "metadata": {},
     "output_type": "execute_result"
    }
   ],
   "source": [
    "# 查看有多少行数据\n",
    "data.shape"
   ]
  },
  {
   "cell_type": "code",
   "execution_count": 5,
   "metadata": {},
   "outputs": [
    {
     "data": {
      "text/plain": [
       "(47965,)"
      ]
     },
     "execution_count": 5,
     "metadata": {},
     "output_type": "execute_result"
    }
   ],
   "source": [
    "# 有多少场比赛\n",
    "np.unique(data[\"matchId\"]).shape"
   ]
  },
  {
   "cell_type": "code",
   "execution_count": 6,
   "metadata": {},
   "outputs": [
    {
     "data": {
      "text/plain": [
       "(2026745,)"
      ]
     },
     "execution_count": 6,
     "metadata": {},
     "output_type": "execute_result"
    }
   ],
   "source": [
    "# 有多少支队伍\n",
    "data[\"groupId\"].unique().shape"
   ]
  },
  {
   "cell_type": "markdown",
   "metadata": {},
   "source": [
    "- 数据基本处理"
   ]
  },
  {
   "cell_type": "code",
   "execution_count": 3,
   "metadata": {
    "scrolled": true
   },
   "outputs": [],
   "source": [
    "# 缺失值处理\n",
    "# data.isnull().any()    # 发现 winPlacePerc列 存在缺失值\n",
    "# 查看缺失值在哪一行\n",
    "index_null = data[data[\"winPlacePerc\"].isnull()].index\n",
    "# 删除缺失值所在行\n",
    "data.drop(labels=index_null,inplace=True)"
   ]
  },
  {
   "cell_type": "code",
   "execution_count": 4,
   "metadata": {},
   "outputs": [],
   "source": [
    "# 查看每场比赛参加的人数\n",
    "count = data.groupby(\"matchId\")[\"matchId\"].transform(\"count\")\n",
    "data[\"playerJoined\"] = count"
   ]
  },
  {
   "cell_type": "code",
   "execution_count": 5,
   "metadata": {},
   "outputs": [
    {
     "name": "stderr",
     "output_type": "stream",
     "text": [
      "E:\\Anaconda\\lib\\site-packages\\seaborn\\_decorators.py:36: FutureWarning: Pass the following variable as a keyword arg: x. From version 0.12, the only valid positional argument will be `data`, and passing other arguments without an explicit keyword will result in an error or misinterpretation.\n",
      "  warnings.warn(\n"
     ]
    },
    {
     "data": {
      "image/png": "[encoded data removed]",
      "text/plain": [
       "<Figure size 1600x640 with 1 Axes>"
      ]
     },
     "metadata": {
      "needs_background": "light"
     },
     "output_type": "display_data"
    }
   ],
   "source": [
    "# 画图展示，>=75人\n",
    "plt.figure(figsize=(20,8),dpi=80)\n",
    "sns.countplot(data[data[\"playerJoined\"] >= 75][\"playerJoined\"])\n",
    "plt.show()"
   ]
  },
  {
   "cell_type": "code",
   "execution_count": 6,
   "metadata": {},
   "outputs": [],
   "source": [
    "# 规范化输出部分数据\n",
    "data[\"killsNorm\"] = data[\"kills\"] * ((100-data[\"kills\"])/100 + 1)\n",
    "data[\"damageDealtNorm\"] = data[\"damageDealt\"] * ((100-data[\"damageDealt\"])/100 + 1)\n",
    "data[\"maxPlaceNorm\"] = data[\"maxPlace\"] * ((100-data[\"maxPlace\"])/100 + 1)\n",
    "data[\"matchDurationNorm\"] = data[\"matchDuration\"] * ((100-data[\"matchDuration\"])/100 + 1)"
   ]
  },
  {
   "cell_type": "code",
   "execution_count": 7,
   "metadata": {},
   "outputs": [],
   "source": [
    "# 部分数据的合成\n",
    "data[\"healsAndboosts\"] = data[\"heals\"] + data[\"boosts\"]"
   ]
  },
  {
   "cell_type": "markdown",
   "metadata": {},
   "source": [
    "- 异常值处理"
   ]
  },
  {
   "cell_type": "code",
   "execution_count": 8,
   "metadata": {},
   "outputs": [],
   "source": [
    "# 删除有击杀，但是没有移动距离的玩家\n",
    "data[\"totalDistance\"] = data[\"rideDistance\"] + data[\"walkDistance\"] + data[\"swimDistance\"]\n",
    "data[\"killsWithoutDistance\"] = (data[\"kills\"] > 0) & (data[\"totalDistance\"] == 0)\n",
    "index_cheat = data[data[\"killsWithoutDistance\"] == True].index\n",
    "data.drop(labels=index_cheat,inplace=True)"
   ]
  },
  {
   "cell_type": "code",
   "execution_count": 9,
   "metadata": {},
   "outputs": [],
   "source": [
    "# 删除驾车杀敌异常玩家-例如：驾车杀敌10人及以上\n",
    "data = data[data[\"roadKills\"] < 10]"
   ]
  },
  {
   "cell_type": "code",
   "execution_count": 10,
   "metadata": {},
   "outputs": [],
   "source": [
    "# 删除玩家在一局中杀敌30人以上\n",
    "data = data[data[\"kills\"] < 30]"
   ]
  },
  {
   "cell_type": "code",
   "execution_count": 11,
   "metadata": {},
   "outputs": [],
   "source": [
    "# 删除爆头率异常数据\n",
    "data[\"headshot_rate\"] = data[\"headshotKills\"]/data[\"kills\"]\n",
    "data[\"headshot_rate\"] = data[\"headshot_rate\"].fillna(0)\n",
    "index_headshot_excp = data[(data[\"headshot_rate\"] == 1) & (data[\"kills\"] >= 10)].index\n",
    "data.drop(index_headshot_excp,inplace=True)"
   ]
  },
  {
   "cell_type": "code",
   "execution_count": 12,
   "metadata": {},
   "outputs": [],
   "source": [
    "# 删除最远距离杀敌数据\n",
    "index_longestkill = data[data[\"longestKill\"] >= 1000].index\n",
    "data.drop(index_longestkill,inplace=True)"
   ]
  },
  {
   "cell_type": "code",
   "execution_count": 13,
   "metadata": {},
   "outputs": [],
   "source": [
    "# 删除运动距离异常数据\n",
    "\n",
    "# 行走异常\n",
    "index_walk = data[data[\"walkDistance\"] >= 10000].index\n",
    "data.drop(index_walk,inplace=True)\n",
    "\n",
    "# 驾车异常\n",
    "index_ride = data[data[\"rideDistance\"] >= 20000].index\n",
    "data.drop(index_ride,inplace=True)\n",
    "\n",
    "# 游泳异常\n",
    "index_swim = data[data[\"swimDistance\"] >= 20000].index\n",
    "data.drop(index_swim,inplace=True)"
   ]
  },
  {
   "cell_type": "code",
   "execution_count": 14,
   "metadata": {},
   "outputs": [],
   "source": [
    "# 删除武器收集异常\n",
    "index_weapon = data[data[\"weaponsAcquired\"] > 15].index\n",
    "data.drop(index_weapon,inplace=True)"
   ]
  },
  {
   "cell_type": "code",
   "execution_count": 15,
   "metadata": {},
   "outputs": [],
   "source": [
    "# 删除使用药品异常数据\n",
    "index_drug = data[data[\"heals\"] >= 40].index\n",
    "data.drop(index_drug,inplace=True)"
   ]
  },
  {
   "cell_type": "markdown",
   "metadata": {},
   "source": [
    "- 类别型数据处理，转换成one-hot编码"
   ]
  },
  {
   "cell_type": "code",
   "execution_count": 16,
   "metadata": {},
   "outputs": [],
   "source": [
    "matchType_onehot = pd.get_dummies(data[[\"matchType\"]])\n",
    "data = pd.concat([data,matchType_onehot],axis=1)\n",
    "data.drop([\"matchType\"],axis=1,inplace=True)   # 转换one-hot后，将该列删除"
   ]
  },
  {
   "cell_type": "code",
   "execution_count": 17,
   "metadata": {},
   "outputs": [],
   "source": [
    "# 对groupId，matchId进行处理\n",
    "\n",
    "# .cat.codes：将Category类型中的字符串类型，变成数字类型\n",
    "data[\"groupId\"] = data[\"groupId\"].astype(\"category\").cat.codes\n",
    "data[\"matchId\"] = data[\"matchId\"].astype(\"category\").cat.codes"
   ]
  },
  {
   "cell_type": "markdown",
   "metadata": {},
   "source": [
    "- 数据截取"
   ]
  },
  {
   "cell_type": "code",
   "execution_count": 18,
   "metadata": {},
   "outputs": [],
   "source": [
    "# 截取100000份数据\n",
    "data_sample = data.sample(100000)"
   ]
  },
  {
   "cell_type": "code",
   "execution_count": 32,
   "metadata": {},
   "outputs": [],
   "source": [
    "# 确定特征值和目标值\n",
    "x = data_sample.drop([\"Id\",\"winPlacePerc\"],axis=1)\n",
    "y = data_sample[\"winPlacePerc\"]"
   ]
  },
  {
   "cell_type": "code",
   "execution_count": 27,
   "metadata": {},
   "outputs": [],
   "source": [
    "# 分割数据\n",
    "x_train,x_test,y_train,y_test = train_test_split(x,y,test_size=0.2,random_state=20)"
   ]
  },
  {
   "cell_type": "markdown",
   "metadata": {},
   "source": [
    "- 模型训练-随机森林"
   ]
  },
  {
   "cell_type": "code",
   "execution_count": 29,
   "metadata": {
    "scrolled": false
   },
   "outputs": [
    {
     "name": "stdout",
     "output_type": "stream",
     "text": [
      "准确率： 0.9217953373004363\n",
      "绝对平均误差： 0.060524666049999995\n"
     ]
    }
   ],
   "source": [
    "# 模型训练\n",
    "m1 = RandomForestRegressor()\n",
    "\n",
    "m1.fit(x_train, y_train)\n",
    "\n",
    "# 预测\n",
    "y_pre = m1.predict(x_test)\n",
    "\n",
    "# 模型评估\n",
    "score = m1.score(x_test,y_test)\n",
    "mae = mean_absolute_error(y_test,y_pre)\n",
    "print(\"准确率：\",score)\n",
    "print(\"绝对平均误差：\",mae)"
   ]
  },
  {
   "cell_type": "markdown",
   "metadata": {},
   "source": [
    "- 再次使用随机森林，进行模型训练\n",
    "    - 特征选择"
   ]
  },
  {
   "cell_type": "code",
   "execution_count": 22,
   "metadata": {},
   "outputs": [
    {
     "data": {
      "text/plain": [
       "array([5.91292763e-03, 5.90652227e-03, 1.16425212e-03, 4.27031610e-03,\n",
       "       3.36905811e-03, 4.25582003e-03, 3.68275788e-04, 1.53854205e-03,\n",
       "       1.76390867e-01, 2.11370054e-03, 3.43696887e-03, 2.69098346e-03,\n",
       "       6.08178633e-03, 7.07729909e-03, 3.38300129e-03, 9.66370814e-03,\n",
       "       3.56074523e-03, 6.76920535e-04, 2.39048462e-03, 3.89164626e-05,\n",
       "       6.09200442e-04, 1.97028174e-04, 7.82132419e-05, 6.87860281e-01,\n",
       "       3.30938620e-03, 2.39837369e-03, 2.00499722e-02, 3.29327922e-03,\n",
       "       3.39389342e-03, 3.35454339e-03, 8.05196755e-03, 2.56774280e-03,\n",
       "       1.70518893e-02, 0.00000000e+00, 6.87684466e-04, 1.46469713e-05,\n",
       "       6.91075828e-07, 2.66761503e-04, 4.00992225e-04, 4.17562282e-07,\n",
       "       7.95764543e-06, 8.39161729e-07, 5.17454642e-05, 4.32438101e-08,\n",
       "       1.59222972e-05, 3.93531253e-08, 1.62623545e-04, 1.18667126e-04,\n",
       "       2.34282911e-04, 1.02238612e-03, 5.07432170e-04])"
      ]
     },
     "execution_count": 22,
     "metadata": {},
     "output_type": "execute_result"
    }
   ],
   "source": [
    "# 查看特征的重要性\n",
    "m1.feature_importances_"
   ]
  },
  {
   "cell_type": "code",
   "execution_count": 23,
   "metadata": {
    "scrolled": false
   },
   "outputs": [
    {
     "data": {
      "text/plain": [
       "<AxesSubplot:ylabel='feature'>"
      ]
     },
     "execution_count": 23,
     "metadata": {},
     "output_type": "execute_result"
    },
    {
     "data": {
      "image/png": "[encoded data removed]",
      "text/plain": [
       "<Figure size 1440x576 with 1 Axes>"
      ]
     },
     "metadata": {
      "needs_background": "light"
     },
     "output_type": "display_data"
    }
   ],
   "source": [
    "# 画图展示\n",
    "x_axis = x.columns\n",
    "y_axis = m1.feature_importances_\n",
    "df_feature_importance = DataFrame({\"feature\":x_axis,\"importance\":y_axis})\n",
    "df_feature_importance[:20].plot(x=\"feature\",y=\"importance\",figsize=(20,8),kind=\"barh\",xticks=np.arange(0,0.2,0.01))"
   ]
  },
  {
   "cell_type": "markdown",
   "metadata": {},
   "source": [
    "- 由上图可知，选择 importance > 0.003"
   ]
  },
  {
   "cell_type": "code",
   "execution_count": 24,
   "metadata": {},
   "outputs": [],
   "source": [
    "feature_selec = df_feature_importance[df_feature_importance[\"importance\"] > 0.003][\"feature\"]"
   ]
  },
  {
   "cell_type": "code",
   "execution_count": 25,
   "metadata": {},
   "outputs": [
    {
     "name": "stdout",
     "output_type": "stream",
     "text": [
      "0.9209287230476826\n",
      "0.0608916298\n"
     ]
    }
   ],
   "source": [
    "# 使用选择了的特征进行训练\n",
    "x_selec = x[feature_selec]\n",
    "\n",
    "# 数据分割\n",
    "x_selec_train,x_selec_test,y_train,y_test = train_test_split(x_selec,y,test_size=0.2,random_state=20)\n",
    "\n",
    "# 模型训练-随机森林\n",
    "m2 = RandomForestRegressor()\n",
    "m2.fit(x_selec_train,y_train)\n",
    "\n",
    "# 预测\n",
    "y_pre = m2.predict(x_selec_test)\n",
    "\n",
    "# 模型评估\n",
    "score = m2.score(x_selec_test,y_test)\n",
    "mae = mean_absolute_error(y_test,y_pre)\n",
    "print(score)\n",
    "print(mae)"
   ]
  },
  {
   "cell_type": "markdown",
   "metadata": {},
   "source": [
    "- 模型训练-lightGBM"
   ]
  },
  {
   "cell_type": "code",
   "execution_count": 83,
   "metadata": {
    "scrolled": true
   },
   "outputs": [
    {
     "name": "stdout",
     "output_type": "stream",
     "text": [
      "[1]\tvalid_0's l1: 0.24391\tvalid_0's l2: 0.0789741\n",
      "Training until validation scores don't improve for 5 rounds\n",
      "[2]\tvalid_0's l1: 0.223039\tvalid_0's l2: 0.0664666\n",
      "[3]\tvalid_0's l1: 0.204363\tvalid_0's l2: 0.0562724\n",
      "[4]\tvalid_0's l1: 0.187818\tvalid_0's l2: 0.0479362\n",
      "[5]\tvalid_0's l1: 0.173148\tvalid_0's l2: 0.0411386\n",
      "[6]\tvalid_0's l1: 0.160251\tvalid_0's l2: 0.0356151\n",
      "[7]\tvalid_0's l1: 0.148695\tvalid_0's l2: 0.0310183\n",
      "[8]\tvalid_0's l1: 0.138423\tvalid_0's l2: 0.0272162\n",
      "[9]\tvalid_0's l1: 0.129428\tvalid_0's l2: 0.0241452\n",
      "[10]\tvalid_0's l1: 0.121519\tvalid_0's l2: 0.0216036\n",
      "[11]\tvalid_0's l1: 0.114692\tvalid_0's l2: 0.0195416\n",
      "[12]\tvalid_0's l1: 0.108487\tvalid_0's l2: 0.0177336\n",
      "[13]\tvalid_0's l1: 0.103167\tvalid_0's l2: 0.0163117\n",
      "[14]\tvalid_0's l1: 0.0985053\tvalid_0's l2: 0.0151055\n",
      "[15]\tvalid_0's l1: 0.0943084\tvalid_0's l2: 0.0140779\n",
      "[16]\tvalid_0's l1: 0.0906443\tvalid_0's l2: 0.0132113\n",
      "[17]\tvalid_0's l1: 0.087288\tvalid_0's l2: 0.0124363\n",
      "[18]\tvalid_0's l1: 0.0844722\tvalid_0's l2: 0.0118388\n",
      "[19]\tvalid_0's l1: 0.0819075\tvalid_0's l2: 0.0112898\n",
      "[20]\tvalid_0's l1: 0.079475\tvalid_0's l2: 0.0107663\n",
      "[21]\tvalid_0's l1: 0.0775038\tvalid_0's l2: 0.0103701\n",
      "[22]\tvalid_0's l1: 0.0757838\tvalid_0's l2: 0.0100464\n",
      "[23]\tvalid_0's l1: 0.0742564\tvalid_0's l2: 0.00975899\n",
      "[24]\tvalid_0's l1: 0.0729631\tvalid_0's l2: 0.00952466\n",
      "[25]\tvalid_0's l1: 0.0717212\tvalid_0's l2: 0.00928448\n",
      "[26]\tvalid_0's l1: 0.0706618\tvalid_0's l2: 0.00908063\n",
      "[27]\tvalid_0's l1: 0.0697783\tvalid_0's l2: 0.00893873\n",
      "[28]\tvalid_0's l1: 0.0689597\tvalid_0's l2: 0.00879716\n",
      "[29]\tvalid_0's l1: 0.0681106\tvalid_0's l2: 0.00863482\n",
      "[30]\tvalid_0's l1: 0.0674928\tvalid_0's l2: 0.00853255\n",
      "[31]\tvalid_0's l1: 0.0669057\tvalid_0's l2: 0.00843531\n",
      "[32]\tvalid_0's l1: 0.0662896\tvalid_0's l2: 0.00832517\n",
      "[33]\tvalid_0's l1: 0.0657621\tvalid_0's l2: 0.00822821\n",
      "[34]\tvalid_0's l1: 0.0652264\tvalid_0's l2: 0.008126\n",
      "[35]\tvalid_0's l1: 0.0649003\tvalid_0's l2: 0.00807238\n",
      "[36]\tvalid_0's l1: 0.064568\tvalid_0's l2: 0.00801958\n",
      "[37]\tvalid_0's l1: 0.064288\tvalid_0's l2: 0.0079665\n",
      "[38]\tvalid_0's l1: 0.0638993\tvalid_0's l2: 0.00788535\n",
      "[39]\tvalid_0's l1: 0.0636702\tvalid_0's l2: 0.00784837\n",
      "[40]\tvalid_0's l1: 0.06343\tvalid_0's l2: 0.00780682\n",
      "[41]\tvalid_0's l1: 0.0631337\tvalid_0's l2: 0.00774877\n",
      "[42]\tvalid_0's l1: 0.0629223\tvalid_0's l2: 0.00771499\n",
      "[43]\tvalid_0's l1: 0.0627689\tvalid_0's l2: 0.00769182\n",
      "[44]\tvalid_0's l1: 0.0625397\tvalid_0's l2: 0.00764005\n",
      "[45]\tvalid_0's l1: 0.0622341\tvalid_0's l2: 0.00757079\n",
      "[46]\tvalid_0's l1: 0.0619525\tvalid_0's l2: 0.00750497\n",
      "[47]\tvalid_0's l1: 0.0618083\tvalid_0's l2: 0.00747471\n",
      "[48]\tvalid_0's l1: 0.061638\tvalid_0's l2: 0.00744575\n",
      "[49]\tvalid_0's l1: 0.061403\tvalid_0's l2: 0.00739762\n",
      "[50]\tvalid_0's l1: 0.0613057\tvalid_0's l2: 0.00737859\n",
      "[51]\tvalid_0's l1: 0.0611402\tvalid_0's l2: 0.0073426\n",
      "[52]\tvalid_0's l1: 0.0610294\tvalid_0's l2: 0.00732105\n",
      "[53]\tvalid_0's l1: 0.060918\tvalid_0's l2: 0.00729332\n",
      "[54]\tvalid_0's l1: 0.060833\tvalid_0's l2: 0.00727777\n",
      "[55]\tvalid_0's l1: 0.0607136\tvalid_0's l2: 0.00725358\n",
      "[56]\tvalid_0's l1: 0.0606359\tvalid_0's l2: 0.00723661\n",
      "[57]\tvalid_0's l1: 0.0605384\tvalid_0's l2: 0.00721799\n",
      "[58]\tvalid_0's l1: 0.0604584\tvalid_0's l2: 0.00720208\n",
      "[59]\tvalid_0's l1: 0.0603998\tvalid_0's l2: 0.00718947\n",
      "[60]\tvalid_0's l1: 0.0603287\tvalid_0's l2: 0.00717481\n",
      "[61]\tvalid_0's l1: 0.0602313\tvalid_0's l2: 0.007163\n",
      "[62]\tvalid_0's l1: 0.0601413\tvalid_0's l2: 0.0071449\n",
      "[63]\tvalid_0's l1: 0.060041\tvalid_0's l2: 0.00712167\n",
      "[64]\tvalid_0's l1: 0.0599695\tvalid_0's l2: 0.0071065\n",
      "[65]\tvalid_0's l1: 0.0599248\tvalid_0's l2: 0.00709729\n",
      "[66]\tvalid_0's l1: 0.0598893\tvalid_0's l2: 0.00709185\n",
      "[67]\tvalid_0's l1: 0.0598478\tvalid_0's l2: 0.00708321\n",
      "[68]\tvalid_0's l1: 0.059799\tvalid_0's l2: 0.00706883\n",
      "[69]\tvalid_0's l1: 0.0597507\tvalid_0's l2: 0.00705563\n",
      "[70]\tvalid_0's l1: 0.0596969\tvalid_0's l2: 0.00704519\n",
      "[71]\tvalid_0's l1: 0.0596726\tvalid_0's l2: 0.00704053\n",
      "[72]\tvalid_0's l1: 0.0596411\tvalid_0's l2: 0.00703402\n",
      "[73]\tvalid_0's l1: 0.0595699\tvalid_0's l2: 0.00701663\n",
      "[74]\tvalid_0's l1: 0.059524\tvalid_0's l2: 0.00700808\n",
      "[75]\tvalid_0's l1: 0.0594811\tvalid_0's l2: 0.00699963\n",
      "[76]\tvalid_0's l1: 0.0594233\tvalid_0's l2: 0.00698634\n",
      "[77]\tvalid_0's l1: 0.0593833\tvalid_0's l2: 0.00698019\n",
      "[78]\tvalid_0's l1: 0.0593082\tvalid_0's l2: 0.00696147\n",
      "[79]\tvalid_0's l1: 0.0592802\tvalid_0's l2: 0.00695684\n",
      "[80]\tvalid_0's l1: 0.0592697\tvalid_0's l2: 0.00695412\n",
      "[81]\tvalid_0's l1: 0.0592307\tvalid_0's l2: 0.00694724\n",
      "[82]\tvalid_0's l1: 0.0591893\tvalid_0's l2: 0.00693666\n",
      "[83]\tvalid_0's l1: 0.0591676\tvalid_0's l2: 0.00692969\n",
      "[84]\tvalid_0's l1: 0.0591535\tvalid_0's l2: 0.00692516\n",
      "[85]\tvalid_0's l1: 0.0591215\tvalid_0's l2: 0.00691547\n",
      "[86]\tvalid_0's l1: 0.0590955\tvalid_0's l2: 0.00691256\n",
      "[87]\tvalid_0's l1: 0.0590813\tvalid_0's l2: 0.00690998\n",
      "[88]\tvalid_0's l1: 0.0590365\tvalid_0's l2: 0.00689705\n",
      "[89]\tvalid_0's l1: 0.0590186\tvalid_0's l2: 0.00689352\n",
      "[90]\tvalid_0's l1: 0.0589699\tvalid_0's l2: 0.00688015\n",
      "[91]\tvalid_0's l1: 0.0589515\tvalid_0's l2: 0.00687582\n",
      "[92]\tvalid_0's l1: 0.058933\tvalid_0's l2: 0.00687254\n",
      "[93]\tvalid_0's l1: 0.0588978\tvalid_0's l2: 0.00686732\n",
      "[94]\tvalid_0's l1: 0.0588729\tvalid_0's l2: 0.00685816\n",
      "[95]\tvalid_0's l1: 0.0588451\tvalid_0's l2: 0.00685201\n",
      "[96]\tvalid_0's l1: 0.0588347\tvalid_0's l2: 0.00685369\n",
      "[97]\tvalid_0's l1: 0.0588243\tvalid_0's l2: 0.00685137\n",
      "[98]\tvalid_0's l1: 0.0588079\tvalid_0's l2: 0.00684773\n",
      "[99]\tvalid_0's l1: 0.0587645\tvalid_0's l2: 0.00684092\n",
      "[100]\tvalid_0's l1: 0.0587152\tvalid_0's l2: 0.00682945\n",
      "Did not meet early stopping. Best iteration is:\n",
      "[100]\tvalid_0's l1: 0.0587152\tvalid_0's l2: 0.00682945\n",
      "0.058715242741958044\n"
     ]
    }
   ],
   "source": [
    "x_train,x_test,y_train,y_test = train_test_split(x,y,test_size=0.2,random_state=20)\n",
    "\n",
    "# 模型训练\n",
    "m3 = lightgbm.LGBMRegressor()\n",
    "m3.fit(x_train,y_train,eval_set=[(x_test,y_test)],eval_metric=\"l1\",early_stopping_rounds=5)\n",
    "\n",
    "# 预测\n",
    "y_pre = m3.predict(x_test,num_iteration=m3.best_iteration_)\n",
    "\n",
    "mae = mean_absolute_error(y_test,y_pre)\n",
    "print(mae)"
   ]
  },
  {
   "cell_type": "code",
   "execution_count": 98,
   "metadata": {},
   "outputs": [
    {
     "data": {
      "text/plain": [
       "GridSearchCV(estimator=LGBMRegressor(), n_jobs=-1,\n",
       "             param_grid={'learning_rate': [0.01, 0.05, 0.1],\n",
       "                         'n_estimators': [10, 100, 300]})"
      ]
     },
     "execution_count": 98,
     "metadata": {},
     "output_type": "execute_result"
    }
   ],
   "source": [
    "# 使用网格搜索进行调优\n",
    "estimator = lightgbm.LGBMRegressor()\n",
    "param = {\"learning_rate\":[0.01,0.05,0.1],\"n_estimators\":[10,100,300]}\n",
    "m4 = GridSearchCV(estimator,param_grid=param,n_jobs=-1)\n",
    "m4.fit(x_train,y_train)"
   ]
  },
  {
   "cell_type": "code",
   "execution_count": 99,
   "metadata": {},
   "outputs": [
    {
     "data": {
      "text/plain": [
       "{'learning_rate': 0.1, 'n_estimators': 300}"
      ]
     },
     "execution_count": 99,
     "metadata": {},
     "output_type": "execute_result"
    }
   ],
   "source": [
    "m4.best_params_"
   ]
  },
  {
   "cell_type": "code",
   "execution_count": 100,
   "metadata": {},
   "outputs": [
    {
     "name": "stdout",
     "output_type": "stream",
     "text": [
      "0.05768016787811854\n"
     ]
    }
   ],
   "source": [
    "y_pre = m4.predict(x_test)\n",
    "mae = mean_absolute_error(y_test,y_pre)\n",
    "print(mae)"
   ]
  },
  {
   "cell_type": "code",
   "execution_count": null,
   "metadata": {},
   "outputs": [],
   "source": []
  },
  {
   "cell_type": "code",
   "execution_count": null,
   "metadata": {},
   "outputs": [],
   "source": []
  },
  {
   "cell_type": "code",
   "execution_count": null,
   "metadata": {},
   "outputs": [],
   "source": []
  },
  {
   "cell_type": "code",
   "execution_count": null,
   "metadata": {},
   "outputs": [],
   "source": []
  },
  {
   "cell_type": "code",
   "execution_count": null,
   "metadata": {},
   "outputs": [],
   "source": []
  },
  {
   "cell_type": "code",
   "execution_count": null,
   "metadata": {},
   "outputs": [],
   "source": []
  },
  {
   "cell_type": "code",
   "execution_count": null,
   "metadata": {},
   "outputs": [],
   "source": []
  },
  {
   "cell_type": "code",
   "execution_count": null,
   "metadata": {},
   "outputs": [],
   "source": []
  }
 ],
 "metadata": {
  "kernelspec": {
   "display_name": "Python 3 (ipykernel)",
   "language": "python",
   "name": "python3"
  },
  "language_info": {
   "codemirror_mode": {
    "name": "ipython",
    "version": 3
   },
   "file_extension": ".py",
   "mimetype": "text/x-python",
   "name": "python",
   "nbconvert_exporter": "python",
   "pygments_lexer": "ipython3",
   "version": "3.8.5"
  },
  "toc": {
   "base_numbering": 1,
   "nav_menu": {},
   "number_sections": true,
   "sideBar": true,
   "skip_h1_title": false,
   "title_cell": "Table of Contents",
   "title_sidebar": "Contents",
   "toc_cell": false,
   "toc_position": {
    "height": "583.2px",
    "left": "89px",
    "top": "110.8px",
    "width": "303.2px"
   },
   "toc_section_display": true,
   "toc_window_display": true
  }
 },
 "nbformat": 4,
 "nbformat_minor": 4
}
