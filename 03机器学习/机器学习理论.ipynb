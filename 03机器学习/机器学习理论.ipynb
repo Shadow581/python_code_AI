{
 "cells": [
  {
   "cell_type": "markdown",
   "metadata": {},
   "source": [
    "### 机器学习\n",
    "- 人工智能和机器学习之间的关系：\n",
    "    - 机器学习是实现人工智能的一种技术手段\n",
    "- 算法模型\n",
    "    - 概念：特殊对象，该对象内部封装了某种还没有求出解的方程\n",
    "    - 作用：\n",
    "        - 预测：天气预报\n",
    "        - 分类：将一个未知分类的事务归属到某一种已知的分类中\n",
    "    - 算法模型对象内部封装的方程的解就是算法模型预测或分类的结果\n",
    "- 样本数据\n",
    "    - 样本数据和算法模型之间的关系是什么？\n",
    "        - 模型的训练：需要将样本数据带入到模型对象中，让模型对象的方法求出解\n",
    "    - 什么是样本数据？样本数据由上面构成？\n",
    "        - 特征数据：自变量，往往由多种特征组成\n",
    "        - 目标数据：因变量\n",
    "    - 算法模型的分类\n",
    "        - 有监督学习\n",
    "            - 算法模型对象需要的样本数据必须有目标数据和特征数据\n",
    "        - 无监督学习\n",
    "            - 算法模型对象需要的样本数据只需要有特征数据\n",
    "\n",
    "#### 监督学习：所有的经验E都是由人工采集并输入计算机\n",
    "- 基于数据标签是否存在分类\n",
    "    - 传统的监督学习：\n",
    "        - 支持向量机\n",
    "        - 人工神经网络\n",
    "        - 深度神经网路\n",
    "    - 非监督学习：所有的训练数据没有对应标签\n",
    "        - 聚类\n",
    "        - EM算法（Expectation-Maximization）\n",
    "        - 主成分分析\n",
    "    - 半监督学习：训练数据中一部分有标签一部分没有标签 \n",
    "- 基于标签的固有属性\n",
    "    - 分类：标签是离散的值\n",
    "    - 回归：标签是连续的值\n",
    "\n",
    "#### 强化学习：计算机通过与环境的互动逐渐强化自己的行为模式\n",
    "\n",
    "\n",
    "#### 机器学习算法过程\n",
    "- 1. 特征提取：通过训练样本获得的，对机器学习任务有帮助的多维度数据\n",
    "- 2. 不同的算法对特征空间做不同的划分\n",
    "- 3. 不同的结果\n"
   ]
  },
  {
   "cell_type": "markdown",
   "metadata": {},
   "source": [
    "### 支持向量机\n",
    "- 超平面：对4维及4维以上的空间。超平面将该空间划分为2部分\n",
    "- 凸优化问题：只有唯一一个全局的极值\n",
    "\n",
    "- 线性可分\n",
    "    - 基于二维空间：\n",
    "        - 该直线分开了两类\n",
    "        - 该直线最大化间隔\n",
    "        - 该直线处于间隔的中间，到所有支持向量距离相等\n",
    "\n",
    "- 线性不可分\n",
    "    - 需要适当放松条件，松弛变量δ\n",
    "    - 比例因子C是认为设定的，需要人为设定的参数叫做算法的超参数。不断变化C的值，同时测试算法的识别率，选取超参数C\n",
    "    \n",
    "- 低维到高维\n",
    "    - 支持向量机：特征空间由低维映射到高维，用线性超平面对数据进行分类。构造一个二维到五维的映射φ(x)\n",
    "    - 定理：在一个M维空间上随机取N个训练样本，随机的对每个训练样本赋予标签+1或-1，假设这些训练样本可分的概率维P(M)，则当M趋于无穷大时，P(M)=1\n",
    "\n",
    "- 核函数\n",
    "    - 无需知道φ(x)的具体形式，K(X1,X2) = φ(X1)ᵀφ(X2)\n",
    "    - K(X1,X2)能写成φ(X1)ᵀφ(X2)的充要条件\n",
    "        - 1. K(X1,X2) =  K(X2,X1) （交换性）\n",
    "        - 2. 半正定性\n",
    "\n",
    "- 原问题和对偶问题\n",
    "    - \n",
    "\n"
   ]
  },
  {
   "cell_type": "code",
   "execution_count": null,
   "metadata": {},
   "outputs": [],
   "source": []
  },
  {
   "cell_type": "code",
   "execution_count": null,
   "metadata": {},
   "outputs": [],
   "source": []
  },
  {
   "cell_type": "code",
   "execution_count": null,
   "metadata": {},
   "outputs": [],
   "source": []
  },
  {
   "cell_type": "code",
   "execution_count": null,
   "metadata": {},
   "outputs": [],
   "source": []
  },
  {
   "cell_type": "code",
   "execution_count": null,
   "metadata": {},
   "outputs": [],
   "source": []
  },
  {
   "cell_type": "code",
   "execution_count": null,
   "metadata": {},
   "outputs": [],
   "source": []
  },
  {
   "cell_type": "code",
   "execution_count": null,
   "metadata": {},
   "outputs": [],
   "source": []
  }
 ],
 "metadata": {
  "kernelspec": {
   "display_name": "Python 3",
   "language": "python",
   "name": "python3"
  },
  "language_info": {
   "codemirror_mode": {
    "name": "ipython",
    "version": 3
   },
   "file_extension": ".py",
   "mimetype": "text/x-python",
   "name": "python",
   "nbconvert_exporter": "python",
   "pygments_lexer": "ipython3",
   "version": "3.8.5"
  },
  "toc": {
   "base_numbering": 1,
   "nav_menu": {},
   "number_sections": true,
   "sideBar": true,
   "skip_h1_title": false,
   "title_cell": "Table of Contents",
   "title_sidebar": "Contents",
   "toc_cell": false,
   "toc_position": {},
   "toc_section_display": true,
   "toc_window_display": false
  }
 },
 "nbformat": 4,
 "nbformat_minor": 4
}
